{
 "cells": [
  {
   "cell_type": "markdown",
   "metadata": {},
   "source": [
    "# Sentiment Analysis Web App\n",
    "\n",
    "_Deep Learning Nanodegree Program | Deployment_\n",
    "\n",
    "---\n",
    "\n",
    "In this notebook we will use Amazon's SageMaker service to construct a random tree model to predict the sentiment of a movie review. In addition, we will deploy this model to an endpoint and construct a very simple web app which will interact with our model's deployed endpoint.\n",
    "\n",
    "## General Outline\n",
    "\n",
    "Typically, when using a notebook instance with SageMaker, you will proceed through the following steps. Of course, not every step will need to be done with each project. Also, there is quite a lot of room for variation in many of the steps, as you will see throughout these lessons.\n",
    "\n",
    "1. Download or otherwise retrieve the data.\n",
    "2. Process / Prepare the data.\n",
    "3. Upload the processed data to S3.\n",
    "4. Train a chosen model.\n",
    "5. Test the trained model (typically using a batch transform job).\n",
    "6. Deploy the trained model.\n",
    "7. Use the deployed model.\n",
    "\n",
    "In this notebook we will progress through each of the steps above. We will also see that the final step, using the deployed model, can be quite challenging."
   ]
  },
  {
   "cell_type": "markdown",
   "metadata": {},
   "source": [
    "## Step 1: Downloading the data\n",
    "\n",
    "The dataset we are going to use is very popular among researchers in Natural Language Processing, usually referred to as the [IMDb dataset](http://ai.stanford.edu/~amaas/data/sentiment/). It consists of movie reviews from the website [imdb.com](http://www.imdb.com/), each labeled as either '**pos**itive', if the reviewer enjoyed the film, or '**neg**ative' otherwise.\n",
    "\n",
    "> Maas, Andrew L., et al. [Learning Word Vectors for Sentiment Analysis](http://ai.stanford.edu/~amaas/data/sentiment/). In _Proceedings of the 49th Annual Meeting of the Association for Computational Linguistics: Human Language Technologies_. Association for Computational Linguistics, 2011.\n",
    "\n",
    "We begin by using some Jupyter Notebook magic to download and extract the dataset."
   ]
  },
  {
   "cell_type": "code",
   "execution_count": 1,
   "metadata": {},
   "outputs": [
    {
     "name": "stdout",
     "output_type": "stream",
     "text": [
      "mkdir: cannot create directory ‘../data’: File exists\n",
      "--2020-05-10 11:06:14--  http://ai.stanford.edu/~amaas/data/sentiment/aclImdb_v1.tar.gz\n",
      "Resolving ai.stanford.edu (ai.stanford.edu)... 171.64.68.10\n",
      "Connecting to ai.stanford.edu (ai.stanford.edu)|171.64.68.10|:80... connected.\n",
      "HTTP request sent, awaiting response... 200 OK\n",
      "Length: 84125825 (80M) [application/x-gzip]\n",
      "Saving to: ‘../data/aclImdb_v1.tar.gz’\n",
      "\n",
      "../data/aclImdb_v1. 100%[===================>]  80.23M  9.97MB/s    in 11s     \n",
      "\n",
      "2020-05-10 11:06:25 (7.37 MB/s) - ‘../data/aclImdb_v1.tar.gz’ saved [84125825/84125825]\n",
      "\n"
     ]
    }
   ],
   "source": [
    "%mkdir ../data\n",
    "!wget -O ../data/aclImdb_v1.tar.gz http://ai.stanford.edu/~amaas/data/sentiment/aclImdb_v1.tar.gz\n",
    "!tar -zxf ../data/aclImdb_v1.tar.gz -C ../data"
   ]
  },
  {
   "cell_type": "markdown",
   "metadata": {},
   "source": [
    "## Step 2: Preparing and Processing the data\n",
    "\n",
    "The data we have downloaded is split into various files, each of which contains a single review. It will be much easier going forward if we combine these individual files into two large files, one for training and one for testing."
   ]
  },
  {
   "cell_type": "code",
   "execution_count": 2,
   "metadata": {},
   "outputs": [],
   "source": [
    "import os\n",
    "import glob\n",
    "\n",
    "def read_imdb_data(data_dir='../data/aclImdb'):\n",
    "    data = {}\n",
    "    labels = {}\n",
    "    \n",
    "    for data_type in ['train', 'test']:\n",
    "        data[data_type] = {}\n",
    "        labels[data_type] = {}\n",
    "        \n",
    "        for sentiment in ['pos', 'neg']:\n",
    "            data[data_type][sentiment] = []\n",
    "            labels[data_type][sentiment] = []\n",
    "            \n",
    "            path = os.path.join(data_dir, data_type, sentiment, '*.txt')\n",
    "            files = glob.glob(path)\n",
    "            \n",
    "            for f in files:\n",
    "                with open(f) as review:\n",
    "                    data[data_type][sentiment].append(review.read())\n",
    "                    # Here we represent a positive review by '1' and a negative review by '0'\n",
    "                    labels[data_type][sentiment].append(1 if sentiment == 'pos' else 0)\n",
    "                    \n",
    "            assert len(data[data_type][sentiment]) == len(labels[data_type][sentiment]), \\\n",
    "                    \"{}/{} data size does not match labels size\".format(data_type, sentiment)\n",
    "                \n",
    "    return data, labels"
   ]
  },
  {
   "cell_type": "code",
   "execution_count": 3,
   "metadata": {},
   "outputs": [
    {
     "name": "stdout",
     "output_type": "stream",
     "text": [
      "IMDB reviews: train = 12500 pos / 12500 neg, test = 12500 pos / 12500 neg\n"
     ]
    }
   ],
   "source": [
    "data, labels = read_imdb_data()\n",
    "print(\"IMDB reviews: train = {} pos / {} neg, test = {} pos / {} neg\".format(\n",
    "            len(data['train']['pos']), len(data['train']['neg']),\n",
    "            len(data['test']['pos']), len(data['test']['neg'])))"
   ]
  },
  {
   "cell_type": "code",
   "execution_count": 4,
   "metadata": {},
   "outputs": [],
   "source": [
    "from sklearn.utils import shuffle\n",
    "\n",
    "def prepare_imdb_data(data, labels):\n",
    "    \"\"\"Prepare training and test sets from IMDb movie reviews.\"\"\"\n",
    "    \n",
    "    #Combine positive and negative reviews and labels\n",
    "    data_train = data['train']['pos'] + data['train']['neg']\n",
    "    data_test = data['test']['pos'] + data['test']['neg']\n",
    "    labels_train = labels['train']['pos'] + labels['train']['neg']\n",
    "    labels_test = labels['test']['pos'] + labels['test']['neg']\n",
    "    \n",
    "    #Shuffle reviews and corresponding labels within training and test sets\n",
    "    data_train, labels_train = shuffle(data_train, labels_train)\n",
    "    data_test, labels_test = shuffle(data_test, labels_test)\n",
    "    \n",
    "    # Return a unified training data, test data, training labels, test labets\n",
    "    return data_train, data_test, labels_train, labels_test"
   ]
  },
  {
   "cell_type": "code",
   "execution_count": 5,
   "metadata": {},
   "outputs": [
    {
     "name": "stdout",
     "output_type": "stream",
     "text": [
      "IMDb reviews (combined): train = 25000, test = 25000\n"
     ]
    }
   ],
   "source": [
    "train_X, test_X, train_y, test_y = prepare_imdb_data(data, labels)\n",
    "print(\"IMDb reviews (combined): train = {}, test = {}\".format(len(train_X), len(test_X)))"
   ]
  },
  {
   "cell_type": "code",
   "execution_count": 6,
   "metadata": {},
   "outputs": [
    {
     "data": {
      "text/plain": [
       "'Zodiac Killer (2005) was an interesting film from German born director Ulli Lommel. He directs, produced and co-stars in this latest production. Not only does he manage to make an interesting film on the cheap. But he reaches a new low when Herr Lommel works in footage from nearly his entire film catalog. I have seen film clips from Boogeyman I and II, War Birds, Tenderness of the Wolf, Brain Waves and Cocaine Cowboys (even Andy Warhol makes a cameo from beyond the grave courtesy of this film). Even though he uses plenty of old footage, he works them in well (and very creatively might I add).<br /><br />The film follows a young man who copies the original Zodiac Killer. he also corresponds with a writer (Ulli Lommel) who originally wrote about the serial killer during the late sixties and early seventies. The writer\\'s friend (David Hess) helps him to try and find this wannabe Zodiac. Can this killer be stopped? Will the writer put two and two together and reclaim some of his old glory? Is David Hess still the man? You\\'ll have to find out for yourself and watch the Zodiac Killer.<br /><br />This film is NOT about the original Zodiac killer. I have also heard people whine about this film being shot on video. So what. The director\\'s old school artistic style outshines the fact that it\\'s shot on video. My only complaint was the over use of stock footage from Herr Lommel\\'s earlier films (but I understand why \"wink\" \"wink\".) Don\\'t believe the hype. This is a gritty and street level horror film. Like the disclaimer in the beginning states, this film does nor glorify murder. You got to like that statement.<br /><br />Highly recommend for Ulli Lommel fans.'"
      ]
     },
     "execution_count": 6,
     "metadata": {},
     "output_type": "execute_result"
    }
   ],
   "source": [
    "train_X[100]"
   ]
  },
  {
   "cell_type": "markdown",
   "metadata": {},
   "source": [
    "## Processing the data\n",
    "\n",
    "Now that we have our training and testing datasets merged and ready to use, we need to start processing the raw data into something that will be useable by our machine learning algorithm. To begin with, we remove any html formatting and any non-alpha numeric characters that may appear in the reviews. We will do this in a very simplistic way using Python's regular expression module. We will discuss the reason for this rather simplistic pre-processing later on."
   ]
  },
  {
   "cell_type": "code",
   "execution_count": 7,
   "metadata": {},
   "outputs": [],
   "source": [
    "import re\n",
    "\n",
    "REPLACE_NO_SPACE = re.compile(\"(\\.)|(\\;)|(\\:)|(\\!)|(\\')|(\\?)|(\\,)|(\\\")|(\\()|(\\))|(\\[)|(\\])\")\n",
    "REPLACE_WITH_SPACE = re.compile(\"(<br\\s*/><br\\s*/>)|(\\-)|(\\/)\")\n",
    "\n",
    "def review_to_words(review):\n",
    "    words = REPLACE_NO_SPACE.sub(\"\", review.lower())\n",
    "    words = REPLACE_WITH_SPACE.sub(\" \", words)\n",
    "    return words"
   ]
  },
  {
   "cell_type": "code",
   "execution_count": 8,
   "metadata": {},
   "outputs": [
    {
     "data": {
      "text/plain": [
       "'zodiac killer 2005 was an interesting film from german born director ulli lommel he directs produced and co stars in this latest production not only does he manage to make an interesting film on the cheap but he reaches a new low when herr lommel works in footage from nearly his entire film catalog i have seen film clips from boogeyman i and ii war birds tenderness of the wolf brain waves and cocaine cowboys even andy warhol makes a cameo from beyond the grave courtesy of this film even though he uses plenty of old footage he works them in well and very creatively might i add the film follows a young man who copies the original zodiac killer he also corresponds with a writer ulli lommel who originally wrote about the serial killer during the late sixties and early seventies the writers friend david hess helps him to try and find this wannabe zodiac can this killer be stopped will the writer put two and two together and reclaim some of his old glory is david hess still the man youll have to find out for yourself and watch the zodiac killer this film is not about the original zodiac killer i have also heard people whine about this film being shot on video so what the directors old school artistic style outshines the fact that its shot on video my only complaint was the over use of stock footage from herr lommels earlier films but i understand why wink wink dont believe the hype this is a gritty and street level horror film like the disclaimer in the beginning states this film does nor glorify murder you got to like that statement highly recommend for ulli lommel fans'"
      ]
     },
     "execution_count": 8,
     "metadata": {},
     "output_type": "execute_result"
    }
   ],
   "source": [
    "review_to_words(train_X[100])"
   ]
  },
  {
   "cell_type": "code",
   "execution_count": 9,
   "metadata": {},
   "outputs": [],
   "source": [
    "import pickle\n",
    "\n",
    "cache_dir = os.path.join(\"../cache\", \"sentiment_web_app\")  # where to store cache files\n",
    "os.makedirs(cache_dir, exist_ok=True)  # ensure cache directory exists\n",
    "\n",
    "def preprocess_data(data_train, data_test, labels_train, labels_test,\n",
    "                    cache_dir=cache_dir, cache_file=\"preprocessed_data.pkl\"):\n",
    "    \"\"\"Convert each review to words; read from cache if available.\"\"\"\n",
    "\n",
    "    # If cache_file is not None, try to read from it first\n",
    "    cache_data = None\n",
    "    if cache_file is not None:\n",
    "        try:\n",
    "            with open(os.path.join(cache_dir, cache_file), \"rb\") as f:\n",
    "                cache_data = pickle.load(f)\n",
    "            print(\"Read preprocessed data from cache file:\", cache_file)\n",
    "        except:\n",
    "            pass  # unable to read from cache, but that's okay\n",
    "    \n",
    "    # If cache is missing, then do the heavy lifting\n",
    "    if cache_data is None:\n",
    "        # Preprocess training and test data to obtain words for each review\n",
    "        #words_train = list(map(review_to_words, data_train))\n",
    "        #words_test = list(map(review_to_words, data_test))\n",
    "        words_train = [review_to_words(review) for review in data_train]\n",
    "        words_test = [review_to_words(review) for review in data_test]\n",
    "        \n",
    "        # Write to cache file for future runs\n",
    "        if cache_file is not None:\n",
    "            cache_data = dict(words_train=words_train, words_test=words_test,\n",
    "                              labels_train=labels_train, labels_test=labels_test)\n",
    "            with open(os.path.join(cache_dir, cache_file), \"wb\") as f:\n",
    "                pickle.dump(cache_data, f)\n",
    "            print(\"Wrote preprocessed data to cache file:\", cache_file)\n",
    "    else:\n",
    "        # Unpack data loaded from cache file\n",
    "        words_train, words_test, labels_train, labels_test = (cache_data['words_train'],\n",
    "                cache_data['words_test'], cache_data['labels_train'], cache_data['labels_test'])\n",
    "    \n",
    "    return words_train, words_test, labels_train, labels_test"
   ]
  },
  {
   "cell_type": "code",
   "execution_count": 10,
   "metadata": {},
   "outputs": [
    {
     "name": "stdout",
     "output_type": "stream",
     "text": [
      "Wrote preprocessed data to cache file: preprocessed_data.pkl\n"
     ]
    }
   ],
   "source": [
    "# Preprocess data\n",
    "train_X, test_X, train_y, test_y = preprocess_data(train_X, test_X, train_y, test_y)"
   ]
  },
  {
   "cell_type": "markdown",
   "metadata": {},
   "source": [
    "### Extract Bag-of-Words features\n",
    "\n",
    "For the model we will be implementing, rather than using the reviews directly, we are going to transform each review into a Bag-of-Words feature representation. Keep in mind that 'in the wild' we will only have access to the training set so our transformer can only use the training set to construct a representation."
   ]
  },
  {
   "cell_type": "code",
   "execution_count": 11,
   "metadata": {},
   "outputs": [],
   "source": [
    "import numpy as np\n",
    "from sklearn.feature_extraction.text import CountVectorizer\n",
    "from sklearn.externals import joblib\n",
    "# joblib is an enhanced version of pickle that is more efficient for storing NumPy arrays\n",
    "\n",
    "def extract_BoW_features(words_train, words_test, vocabulary_size=5000,\n",
    "                         cache_dir=cache_dir, cache_file=\"bow_features.pkl\"):\n",
    "    \"\"\"Extract Bag-of-Words for a given set of documents, already preprocessed into words.\"\"\"\n",
    "    \n",
    "    # If cache_file is not None, try to read from it first\n",
    "    cache_data = None\n",
    "    if cache_file is not None:\n",
    "        try:\n",
    "            with open(os.path.join(cache_dir, cache_file), \"rb\") as f:\n",
    "                cache_data = joblib.load(f)\n",
    "            print(\"Read features from cache file:\", cache_file)\n",
    "        except:\n",
    "            pass  # unable to read from cache, but that's okay\n",
    "    \n",
    "    # If cache is missing, then do the heavy lifting\n",
    "    if cache_data is None:\n",
    "        # Fit a vectorizer to training documents and use it to transform them\n",
    "        # NOTE: Training documents have already been preprocessed and tokenized into words;\n",
    "        #       pass in dummy functions to skip those steps, e.g. preprocessor=lambda x: x\n",
    "        vectorizer = CountVectorizer(max_features=vocabulary_size)\n",
    "        features_train = vectorizer.fit_transform(words_train).toarray()\n",
    "\n",
    "        # Apply the same vectorizer to transform the test documents (ignore unknown words)\n",
    "        features_test = vectorizer.transform(words_test).toarray()\n",
    "        \n",
    "        # NOTE: Remember to convert the features using .toarray() for a compact representation\n",
    "        \n",
    "        # Write to cache file for future runs (store vocabulary as well)\n",
    "        if cache_file is not None:\n",
    "            vocabulary = vectorizer.vocabulary_\n",
    "            cache_data = dict(features_train=features_train, features_test=features_test,\n",
    "                             vocabulary=vocabulary)\n",
    "            with open(os.path.join(cache_dir, cache_file), \"wb\") as f:\n",
    "                joblib.dump(cache_data, f)\n",
    "            print(\"Wrote features to cache file:\", cache_file)\n",
    "    else:\n",
    "        # Unpack data loaded from cache file\n",
    "        features_train, features_test, vocabulary = (cache_data['features_train'],\n",
    "                cache_data['features_test'], cache_data['vocabulary'])\n",
    "    \n",
    "    # Return both the extracted features as well as the vocabulary\n",
    "    return features_train, features_test, vocabulary"
   ]
  },
  {
   "cell_type": "code",
   "execution_count": 12,
   "metadata": {},
   "outputs": [
    {
     "name": "stdout",
     "output_type": "stream",
     "text": [
      "Wrote features to cache file: bow_features.pkl\n"
     ]
    }
   ],
   "source": [
    "# Extract Bag of Words features for both training and test datasets\n",
    "train_X, test_X, vocabulary = extract_BoW_features(train_X, test_X)"
   ]
  },
  {
   "cell_type": "code",
   "execution_count": 13,
   "metadata": {},
   "outputs": [
    {
     "data": {
      "text/plain": [
       "5000"
      ]
     },
     "execution_count": 13,
     "metadata": {},
     "output_type": "execute_result"
    }
   ],
   "source": [
    "len(train_X[100])"
   ]
  },
  {
   "cell_type": "markdown",
   "metadata": {},
   "source": [
    "## Step 3: Upload data to S3\n",
    "\n",
    "Now that we have created the feature representation of our training (and testing) data, it is time to start setting up and using the XGBoost classifier provided by SageMaker.\n",
    "\n",
    "### Writing the datasets\n",
    "\n",
    "The XGBoost classifier that we will be using requires the dataset to be written to a file and stored using Amazon S3. To do this, we will start by splitting the training dataset into two parts, the data we will train the model with and a validation set. Then, we will write those datasets to a file locally and then upload the files to S3. In addition, we will write the test set to a file and upload that file to S3. This is so that we can use SageMakers Batch Transform functionality to test our model once we've fit it."
   ]
  },
  {
   "cell_type": "code",
   "execution_count": 14,
   "metadata": {},
   "outputs": [],
   "source": [
    "import pandas as pd\n",
    "\n",
    "# Earlier we shuffled the training dataset so to make things simple we can just assign\n",
    "# the first 10 000 reviews to the validation set and use the remaining reviews for training.\n",
    "val_X = pd.DataFrame(train_X[:10000])\n",
    "train_X = pd.DataFrame(train_X[10000:])\n",
    "\n",
    "val_y = pd.DataFrame(train_y[:10000])\n",
    "train_y = pd.DataFrame(train_y[10000:])"
   ]
  },
  {
   "cell_type": "markdown",
   "metadata": {},
   "source": [
    "The documentation for the XGBoost algorithm in SageMaker requires that the training and validation datasets should contain no headers or index and that the label should occur first for each sample.\n",
    "\n",
    "For more information about this and other algorithms, the SageMaker developer documentation can be found on __[Amazon's website.](https://docs.aws.amazon.com/sagemaker/latest/dg/)__"
   ]
  },
  {
   "cell_type": "code",
   "execution_count": 15,
   "metadata": {},
   "outputs": [],
   "source": [
    "# First we make sure that the local directory in which we'd like to store the training and validation csv files exists.\n",
    "data_dir = '../data/sentiment_web_app'\n",
    "if not os.path.exists(data_dir):\n",
    "    os.makedirs(data_dir)"
   ]
  },
  {
   "cell_type": "code",
   "execution_count": 16,
   "metadata": {},
   "outputs": [],
   "source": [
    "pd.DataFrame(test_X).to_csv(os.path.join(data_dir, 'test.csv'), header=False, index=False)\n",
    "\n",
    "pd.concat([val_y, val_X], axis=1).to_csv(os.path.join(data_dir, 'validation.csv'), header=False, index=False)\n",
    "pd.concat([train_y, train_X], axis=1).to_csv(os.path.join(data_dir, 'train.csv'), header=False, index=False)"
   ]
  },
  {
   "cell_type": "code",
   "execution_count": 17,
   "metadata": {},
   "outputs": [],
   "source": [
    "# To save a bit of memory we can set text_X, train_X, val_X, train_y and val_y to None.\n",
    "\n",
    "test_X = train_X = val_X = train_y = val_y = None"
   ]
  },
  {
   "cell_type": "markdown",
   "metadata": {},
   "source": [
    "### Uploading Training / Validation files to S3\n",
    "\n",
    "Amazon's S3 service allows us to store files that can be accessed by both the built-in training models such as the XGBoost model we will be using as well as custom models such as the one we will see a little later.\n",
    "\n",
    "For this and most other tasks we will be doing using SageMaker, there are two methods we could use. The first is to use the low level functionality of SageMaker which requires knowing each of the objects involved in the SageMaker environment. The second is to use the high level functionality in which certain choices have been made on the user's behalf. The low level approach benefits from allowing the user a great deal of flexibility while the high level approach makes development much quicker. For our purposes we will opt to use the high level approach although using the low-level approach is certainly an option.\n",
    "\n",
    "Recall the method `upload_data()` which is a member of the object representing our current SageMaker session. What this method does is upload the data to the default bucket (which is created if it does not exist) into the path described by the key_prefix variable. To see this for yourself, once you have uploaded the data files, go to the S3 console and look to see where the files have been uploaded.\n",
    "\n",
    "For additional resources, see the __[SageMaker API documentation](http://sagemaker.readthedocs.io/en/latest/)__ and in addition the __[SageMaker Developer Guide.](https://docs.aws.amazon.com/sagemaker/latest/dg/)__"
   ]
  },
  {
   "cell_type": "code",
   "execution_count": 18,
   "metadata": {},
   "outputs": [],
   "source": [
    "import sagemaker\n",
    "\n",
    "session = sagemaker.Session() # Store the current SageMaker session\n",
    "\n",
    "# S3 prefix (which folder will we use)\n",
    "prefix = 'sentiment-web-app'\n",
    "\n",
    "test_location = session.upload_data(os.path.join(data_dir, 'test.csv'), key_prefix=prefix)\n",
    "val_location = session.upload_data(os.path.join(data_dir, 'validation.csv'), key_prefix=prefix)\n",
    "train_location = session.upload_data(os.path.join(data_dir, 'train.csv'), key_prefix=prefix)"
   ]
  },
  {
   "cell_type": "markdown",
   "metadata": {},
   "source": [
    "## Step 4: Creating the XGBoost model\n",
    "\n",
    "Now that the data has been uploaded it is time to create the XGBoost model. To begin with, we need to do some setup. At this point it is worth discussing what a model is in SageMaker. It is easiest to think of a model of comprising three different objects in the SageMaker ecosystem, which interact with one another.\n",
    "\n",
    "- Model Artifacts\n",
    "- Training Code (Container)\n",
    "- Inference Code (Container)\n",
    "\n",
    "The Model Artifacts are what you might think of as the actual model itself. For example, if you were building a neural network, the model artifacts would be the weights of the various layers. In our case, for an XGBoost model, the artifacts are the actual trees that are created during training.\n",
    "\n",
    "The other two objects, the training code and the inference code are then used to manipulate the training artifacts. More precisely, the training code uses the training data that is provided and creates the model artifacts, while the inference code uses the model artifacts to make predictions on new data.\n",
    "\n",
    "The way that SageMaker runs the training and inference code is by making use of Docker containers. For now, think of a container as being a way of packaging code up so that dependencies aren't an issue."
   ]
  },
  {
   "cell_type": "code",
   "execution_count": 19,
   "metadata": {},
   "outputs": [],
   "source": [
    "from sagemaker import get_execution_role\n",
    "\n",
    "# Our current execution role is required when creating the model as the training\n",
    "# and inference code will need to access the model artifacts.\n",
    "role = get_execution_role()"
   ]
  },
  {
   "cell_type": "code",
   "execution_count": 20,
   "metadata": {},
   "outputs": [
    {
     "name": "stderr",
     "output_type": "stream",
     "text": [
      "WARNING:root:There is a more up to date SageMaker XGBoost image. To use the newer image, please set 'repo_version'='0.90-1'. For example:\n",
      "\tget_image_uri(region, 'xgboost', '0.90-1').\n"
     ]
    }
   ],
   "source": [
    "# We need to retrieve the location of the container which is provided by Amazon for using XGBoost.\n",
    "# As a matter of convenience, the training and inference code both use the same container.\n",
    "from sagemaker.amazon.amazon_estimator import get_image_uri\n",
    "\n",
    "container = get_image_uri(session.boto_region_name, 'xgboost')"
   ]
  },
  {
   "cell_type": "code",
   "execution_count": 21,
   "metadata": {},
   "outputs": [],
   "source": [
    "# First we create a SageMaker estimator object for our model.\n",
    "xgb = sagemaker.estimator.Estimator(container, # The location of the container we wish to use\n",
    "                                    role,                                    # What is our current IAM Role\n",
    "                                    train_instance_count=1,                  # How many compute instances\n",
    "                                    train_instance_type='ml.m4.xlarge',      # What kind of compute instances\n",
    "                                    output_path='s3://{}/{}/output'.format(session.default_bucket(), prefix),\n",
    "                                    sagemaker_session=session)\n",
    "\n",
    "# And then set the algorithm specific parameters.\n",
    "xgb.set_hyperparameters(max_depth=5,\n",
    "                        eta=0.2,\n",
    "                        gamma=4,\n",
    "                        min_child_weight=6,\n",
    "                        subsample=0.8,\n",
    "                        silent=0,\n",
    "                        objective='binary:logistic',\n",
    "                        early_stopping_rounds=10,\n",
    "                        num_round=500)"
   ]
  },
  {
   "cell_type": "markdown",
   "metadata": {},
   "source": [
    "### Fit the XGBoost model\n",
    "\n",
    "Now that our model has been set up we simply need to attach the training and validation datasets and then ask SageMaker to set up the computation."
   ]
  },
  {
   "cell_type": "code",
   "execution_count": 22,
   "metadata": {},
   "outputs": [],
   "source": [
    "s3_input_train = sagemaker.s3_input(s3_data=train_location, content_type='csv')\n",
    "s3_input_validation = sagemaker.s3_input(s3_data=val_location, content_type='csv')"
   ]
  },
  {
   "cell_type": "code",
   "execution_count": 23,
   "metadata": {},
   "outputs": [
    {
     "name": "stdout",
     "output_type": "stream",
     "text": [
      "2020-05-10 11:42:57 Starting - Starting the training job...\n",
      "2020-05-10 11:42:59 Starting - Launching requested ML instances...\n",
      "2020-05-10 11:43:55 Starting - Preparing the instances for training......\n",
      "2020-05-10 11:44:53 Downloading - Downloading input data...\n",
      "2020-05-10 11:45:15 Training - Downloading the training image..\u001b[34mArguments: train\u001b[0m\n",
      "\u001b[34m[2020-05-10:11:45:36:INFO] Running standalone xgboost training.\u001b[0m\n",
      "\u001b[34m[2020-05-10:11:45:36:INFO] File size need to be processed in the node: 238.5mb. Available memory size in the node: 8489.01mb\u001b[0m\n",
      "\u001b[34m[2020-05-10:11:45:36:INFO] Determined delimiter of CSV input is ','\u001b[0m\n",
      "\u001b[34m[11:45:36] S3DistributionType set as FullyReplicated\u001b[0m\n",
      "\u001b[34m[11:45:38] 15000x5000 matrix with 75000000 entries loaded from /opt/ml/input/data/train?format=csv&label_column=0&delimiter=,\u001b[0m\n",
      "\u001b[34m[2020-05-10:11:45:38:INFO] Determined delimiter of CSV input is ','\u001b[0m\n",
      "\u001b[34m[11:45:38] S3DistributionType set as FullyReplicated\u001b[0m\n",
      "\u001b[34m[11:45:39] 10000x5000 matrix with 50000000 entries loaded from /opt/ml/input/data/validation?format=csv&label_column=0&delimiter=,\u001b[0m\n",
      "\n",
      "2020-05-10 11:45:35 Training - Training image download completed. Training in progress.\u001b[34m[11:45:42] src/tree/updater_prune.cc:74: tree pruning end, 1 roots, 44 extra nodes, 10 pruned nodes, max_depth=5\u001b[0m\n",
      "\u001b[34m[0]#011train-error:0.3048#011validation-error:0.313\u001b[0m\n",
      "\u001b[34mMultiple eval metrics have been passed: 'validation-error' will be used for early stopping.\n",
      "\u001b[0m\n",
      "\u001b[34mWill train until validation-error hasn't improved in 10 rounds.\u001b[0m\n",
      "\u001b[34m[11:45:44] src/tree/updater_prune.cc:74: tree pruning end, 1 roots, 36 extra nodes, 8 pruned nodes, max_depth=5\u001b[0m\n",
      "\u001b[34m[1]#011train-error:0.290667#011validation-error:0.2965\u001b[0m\n",
      "\u001b[34m[11:45:45] src/tree/updater_prune.cc:74: tree pruning end, 1 roots, 42 extra nodes, 6 pruned nodes, max_depth=5\u001b[0m\n",
      "\u001b[34m[2]#011train-error:0.279133#011validation-error:0.2889\u001b[0m\n",
      "\u001b[34m[11:45:47] src/tree/updater_prune.cc:74: tree pruning end, 1 roots, 34 extra nodes, 8 pruned nodes, max_depth=5\u001b[0m\n",
      "\u001b[34m[3]#011train-error:0.272333#011validation-error:0.2819\u001b[0m\n",
      "\u001b[34m[11:45:48] src/tree/updater_prune.cc:74: tree pruning end, 1 roots, 50 extra nodes, 2 pruned nodes, max_depth=5\u001b[0m\n",
      "\u001b[34m[4]#011train-error:0.2686#011validation-error:0.2772\u001b[0m\n",
      "\u001b[34m[11:45:49] src/tree/updater_prune.cc:74: tree pruning end, 1 roots, 28 extra nodes, 4 pruned nodes, max_depth=5\u001b[0m\n",
      "\u001b[34m[5]#011train-error:0.2608#011validation-error:0.2699\u001b[0m\n",
      "\u001b[34m[11:45:51] src/tree/updater_prune.cc:74: tree pruning end, 1 roots, 30 extra nodes, 6 pruned nodes, max_depth=5\u001b[0m\n",
      "\u001b[34m[6]#011train-error:0.2564#011validation-error:0.2646\u001b[0m\n",
      "\u001b[34m[11:45:52] src/tree/updater_prune.cc:74: tree pruning end, 1 roots, 30 extra nodes, 2 pruned nodes, max_depth=5\u001b[0m\n",
      "\u001b[34m[7]#011train-error:0.2436#011validation-error:0.2535\u001b[0m\n",
      "\u001b[34m[11:45:53] src/tree/updater_prune.cc:74: tree pruning end, 1 roots, 30 extra nodes, 8 pruned nodes, max_depth=5\u001b[0m\n",
      "\u001b[34m[8]#011train-error:0.237733#011validation-error:0.2471\u001b[0m\n",
      "\u001b[34m[11:45:55] src/tree/updater_prune.cc:74: tree pruning end, 1 roots, 36 extra nodes, 2 pruned nodes, max_depth=5\u001b[0m\n",
      "\u001b[34m[9]#011train-error:0.230533#011validation-error:0.2418\u001b[0m\n",
      "\u001b[34m[11:45:56] src/tree/updater_prune.cc:74: tree pruning end, 1 roots, 44 extra nodes, 6 pruned nodes, max_depth=5\u001b[0m\n",
      "\u001b[34m[10]#011train-error:0.224333#011validation-error:0.234\u001b[0m\n",
      "\u001b[34m[11:45:57] src/tree/updater_prune.cc:74: tree pruning end, 1 roots, 34 extra nodes, 6 pruned nodes, max_depth=5\u001b[0m\n",
      "\u001b[34m[11]#011train-error:0.219#011validation-error:0.2291\u001b[0m\n",
      "\u001b[34m[11:45:58] src/tree/updater_prune.cc:74: tree pruning end, 1 roots, 34 extra nodes, 8 pruned nodes, max_depth=5\u001b[0m\n",
      "\u001b[34m[12]#011train-error:0.215733#011validation-error:0.2289\u001b[0m\n",
      "\u001b[34m[11:46:00] src/tree/updater_prune.cc:74: tree pruning end, 1 roots, 38 extra nodes, 10 pruned nodes, max_depth=5\u001b[0m\n",
      "\u001b[34m[13]#011train-error:0.212067#011validation-error:0.2249\u001b[0m\n",
      "\u001b[34m[11:46:01] src/tree/updater_prune.cc:74: tree pruning end, 1 roots, 22 extra nodes, 8 pruned nodes, max_depth=5\u001b[0m\n",
      "\u001b[34m[14]#011train-error:0.208867#011validation-error:0.2238\u001b[0m\n",
      "\u001b[34m[11:46:02] src/tree/updater_prune.cc:74: tree pruning end, 1 roots, 38 extra nodes, 8 pruned nodes, max_depth=5\u001b[0m\n",
      "\u001b[34m[15]#011train-error:0.204#011validation-error:0.2192\u001b[0m\n",
      "\u001b[34m[11:46:03] src/tree/updater_prune.cc:74: tree pruning end, 1 roots, 30 extra nodes, 2 pruned nodes, max_depth=5\u001b[0m\n",
      "\u001b[34m[16]#011train-error:0.2006#011validation-error:0.2171\u001b[0m\n",
      "\u001b[34m[11:46:05] src/tree/updater_prune.cc:74: tree pruning end, 1 roots, 20 extra nodes, 12 pruned nodes, max_depth=5\u001b[0m\n",
      "\u001b[34m[17]#011train-error:0.198133#011validation-error:0.2149\u001b[0m\n",
      "\u001b[34m[11:46:06] src/tree/updater_prune.cc:74: tree pruning end, 1 roots, 44 extra nodes, 2 pruned nodes, max_depth=5\u001b[0m\n",
      "\u001b[34m[18]#011train-error:0.195333#011validation-error:0.213\u001b[0m\n",
      "\u001b[34m[11:46:07] src/tree/updater_prune.cc:74: tree pruning end, 1 roots, 26 extra nodes, 8 pruned nodes, max_depth=5\u001b[0m\n",
      "\u001b[34m[19]#011train-error:0.192#011validation-error:0.2108\u001b[0m\n",
      "\u001b[34m[11:46:09] src/tree/updater_prune.cc:74: tree pruning end, 1 roots, 20 extra nodes, 12 pruned nodes, max_depth=5\u001b[0m\n",
      "\u001b[34m[20]#011train-error:0.1906#011validation-error:0.2083\u001b[0m\n",
      "\u001b[34m[11:46:10] src/tree/updater_prune.cc:74: tree pruning end, 1 roots, 44 extra nodes, 4 pruned nodes, max_depth=5\u001b[0m\n",
      "\u001b[34m[21]#011train-error:0.185867#011validation-error:0.207\u001b[0m\n",
      "\u001b[34m[11:46:11] src/tree/updater_prune.cc:74: tree pruning end, 1 roots, 32 extra nodes, 2 pruned nodes, max_depth=5\u001b[0m\n",
      "\u001b[34m[22]#011train-error:0.1818#011validation-error:0.2037\u001b[0m\n",
      "\u001b[34m[11:46:12] src/tree/updater_prune.cc:74: tree pruning end, 1 roots, 20 extra nodes, 6 pruned nodes, max_depth=5\u001b[0m\n",
      "\u001b[34m[23]#011train-error:0.1792#011validation-error:0.201\u001b[0m\n",
      "\u001b[34m[11:46:14] src/tree/updater_prune.cc:74: tree pruning end, 1 roots, 20 extra nodes, 6 pruned nodes, max_depth=5\u001b[0m\n",
      "\u001b[34m[24]#011train-error:0.177333#011validation-error:0.1992\u001b[0m\n",
      "\u001b[34m[11:46:15] src/tree/updater_prune.cc:74: tree pruning end, 1 roots, 24 extra nodes, 12 pruned nodes, max_depth=5\u001b[0m\n",
      "\u001b[34m[25]#011train-error:0.174467#011validation-error:0.1988\u001b[0m\n",
      "\u001b[34m[11:46:16] src/tree/updater_prune.cc:74: tree pruning end, 1 roots, 44 extra nodes, 6 pruned nodes, max_depth=5\u001b[0m\n",
      "\u001b[34m[26]#011train-error:0.172067#011validation-error:0.1971\u001b[0m\n",
      "\u001b[34m[11:46:17] src/tree/updater_prune.cc:74: tree pruning end, 1 roots, 38 extra nodes, 12 pruned nodes, max_depth=5\u001b[0m\n",
      "\u001b[34m[27]#011train-error:0.1684#011validation-error:0.1931\u001b[0m\n",
      "\u001b[34m[11:46:19] src/tree/updater_prune.cc:74: tree pruning end, 1 roots, 40 extra nodes, 2 pruned nodes, max_depth=5\u001b[0m\n",
      "\u001b[34m[28]#011train-error:0.165467#011validation-error:0.1925\u001b[0m\n",
      "\u001b[34m[11:46:20] src/tree/updater_prune.cc:74: tree pruning end, 1 roots, 16 extra nodes, 10 pruned nodes, max_depth=5\u001b[0m\n",
      "\u001b[34m[29]#011train-error:0.165667#011validation-error:0.1911\u001b[0m\n",
      "\u001b[34m[11:46:21] src/tree/updater_prune.cc:74: tree pruning end, 1 roots, 34 extra nodes, 4 pruned nodes, max_depth=5\u001b[0m\n",
      "\u001b[34m[30]#011train-error:0.164#011validation-error:0.1925\u001b[0m\n",
      "\u001b[34m[11:46:22] src/tree/updater_prune.cc:74: tree pruning end, 1 roots, 48 extra nodes, 6 pruned nodes, max_depth=5\u001b[0m\n",
      "\u001b[34m[31]#011train-error:0.1614#011validation-error:0.1909\u001b[0m\n",
      "\u001b[34m[11:46:24] src/tree/updater_prune.cc:74: tree pruning end, 1 roots, 18 extra nodes, 8 pruned nodes, max_depth=5\u001b[0m\n",
      "\u001b[34m[32]#011train-error:0.160733#011validation-error:0.1893\u001b[0m\n",
      "\u001b[34m[11:46:25] src/tree/updater_prune.cc:74: tree pruning end, 1 roots, 16 extra nodes, 10 pruned nodes, max_depth=5\u001b[0m\n",
      "\u001b[34m[33]#011train-error:0.159533#011validation-error:0.1884\u001b[0m\n",
      "\u001b[34m[11:46:26] src/tree/updater_prune.cc:74: tree pruning end, 1 roots, 38 extra nodes, 6 pruned nodes, max_depth=5\u001b[0m\n",
      "\u001b[34m[34]#011train-error:0.1572#011validation-error:0.1874\u001b[0m\n",
      "\u001b[34m[11:46:28] src/tree/updater_prune.cc:74: tree pruning end, 1 roots, 32 extra nodes, 6 pruned nodes, max_depth=5\u001b[0m\n",
      "\u001b[34m[35]#011train-error:0.156467#011validation-error:0.186\u001b[0m\n",
      "\u001b[34m[11:46:29] src/tree/updater_prune.cc:74: tree pruning end, 1 roots, 26 extra nodes, 6 pruned nodes, max_depth=5\u001b[0m\n",
      "\u001b[34m[36]#011train-error:0.155933#011validation-error:0.1849\u001b[0m\n",
      "\u001b[34m[11:46:30] src/tree/updater_prune.cc:74: tree pruning end, 1 roots, 24 extra nodes, 8 pruned nodes, max_depth=5\u001b[0m\n",
      "\u001b[34m[37]#011train-error:0.1548#011validation-error:0.1839\u001b[0m\n",
      "\u001b[34m[11:46:31] src/tree/updater_prune.cc:74: tree pruning end, 1 roots, 24 extra nodes, 8 pruned nodes, max_depth=5\u001b[0m\n",
      "\u001b[34m[38]#011train-error:0.152933#011validation-error:0.1836\u001b[0m\n",
      "\u001b[34m[11:46:33] src/tree/updater_prune.cc:74: tree pruning end, 1 roots, 16 extra nodes, 10 pruned nodes, max_depth=5\u001b[0m\n",
      "\u001b[34m[39]#011train-error:0.151733#011validation-error:0.1828\u001b[0m\n"
     ]
    },
    {
     "name": "stdout",
     "output_type": "stream",
     "text": [
      "\u001b[34m[11:46:34] src/tree/updater_prune.cc:74: tree pruning end, 1 roots, 34 extra nodes, 6 pruned nodes, max_depth=5\u001b[0m\n",
      "\u001b[34m[40]#011train-error:0.1496#011validation-error:0.1819\u001b[0m\n",
      "\u001b[34m[11:46:35] src/tree/updater_prune.cc:74: tree pruning end, 1 roots, 32 extra nodes, 12 pruned nodes, max_depth=5\u001b[0m\n",
      "\u001b[34m[41]#011train-error:0.1474#011validation-error:0.181\u001b[0m\n",
      "\u001b[34m[11:46:36] src/tree/updater_prune.cc:74: tree pruning end, 1 roots, 26 extra nodes, 6 pruned nodes, max_depth=5\u001b[0m\n",
      "\u001b[34m[42]#011train-error:0.1462#011validation-error:0.1793\u001b[0m\n",
      "\u001b[34m[11:46:38] src/tree/updater_prune.cc:74: tree pruning end, 1 roots, 24 extra nodes, 14 pruned nodes, max_depth=5\u001b[0m\n",
      "\u001b[34m[43]#011train-error:0.1458#011validation-error:0.1781\u001b[0m\n",
      "\u001b[34m[11:46:39] src/tree/updater_prune.cc:74: tree pruning end, 1 roots, 36 extra nodes, 6 pruned nodes, max_depth=5\u001b[0m\n",
      "\u001b[34m[44]#011train-error:0.144467#011validation-error:0.1753\u001b[0m\n",
      "\u001b[34m[11:46:40] src/tree/updater_prune.cc:74: tree pruning end, 1 roots, 18 extra nodes, 10 pruned nodes, max_depth=5\u001b[0m\n",
      "\u001b[34m[45]#011train-error:0.143467#011validation-error:0.1748\u001b[0m\n",
      "\u001b[34m[11:46:41] src/tree/updater_prune.cc:74: tree pruning end, 1 roots, 14 extra nodes, 8 pruned nodes, max_depth=5\u001b[0m\n",
      "\u001b[34m[46]#011train-error:0.1426#011validation-error:0.1748\u001b[0m\n",
      "\u001b[34m[11:46:43] src/tree/updater_prune.cc:74: tree pruning end, 1 roots, 20 extra nodes, 8 pruned nodes, max_depth=5\u001b[0m\n",
      "\u001b[34m[47]#011train-error:0.141067#011validation-error:0.1742\u001b[0m\n",
      "\u001b[34m[11:46:44] src/tree/updater_prune.cc:74: tree pruning end, 1 roots, 16 extra nodes, 6 pruned nodes, max_depth=5\u001b[0m\n",
      "\u001b[34m[48]#011train-error:0.140533#011validation-error:0.1735\u001b[0m\n",
      "\u001b[34m[11:46:45] src/tree/updater_prune.cc:74: tree pruning end, 1 roots, 26 extra nodes, 6 pruned nodes, max_depth=5\u001b[0m\n",
      "\u001b[34m[49]#011train-error:0.139067#011validation-error:0.1723\u001b[0m\n",
      "\u001b[34m[11:46:46] src/tree/updater_prune.cc:74: tree pruning end, 1 roots, 28 extra nodes, 10 pruned nodes, max_depth=5\u001b[0m\n",
      "\u001b[34m[50]#011train-error:0.1384#011validation-error:0.1712\u001b[0m\n",
      "\u001b[34m[11:46:48] src/tree/updater_prune.cc:74: tree pruning end, 1 roots, 32 extra nodes, 10 pruned nodes, max_depth=5\u001b[0m\n",
      "\u001b[34m[51]#011train-error:0.136733#011validation-error:0.1706\u001b[0m\n",
      "\u001b[34m[11:46:49] src/tree/updater_prune.cc:74: tree pruning end, 1 roots, 16 extra nodes, 10 pruned nodes, max_depth=5\u001b[0m\n",
      "\u001b[34m[52]#011train-error:0.1358#011validation-error:0.1698\u001b[0m\n",
      "\u001b[34m[11:46:50] src/tree/updater_prune.cc:74: tree pruning end, 1 roots, 16 extra nodes, 8 pruned nodes, max_depth=5\u001b[0m\n",
      "\u001b[34m[53]#011train-error:0.134867#011validation-error:0.1688\u001b[0m\n",
      "\u001b[34m[11:46:52] src/tree/updater_prune.cc:74: tree pruning end, 1 roots, 22 extra nodes, 16 pruned nodes, max_depth=5\u001b[0m\n",
      "\u001b[34m[54]#011train-error:0.1342#011validation-error:0.1684\u001b[0m\n",
      "\u001b[34m[11:46:53] src/tree/updater_prune.cc:74: tree pruning end, 1 roots, 14 extra nodes, 12 pruned nodes, max_depth=5\u001b[0m\n",
      "\u001b[34m[55]#011train-error:0.1334#011validation-error:0.1671\u001b[0m\n",
      "\u001b[34m[11:46:54] src/tree/updater_prune.cc:74: tree pruning end, 1 roots, 22 extra nodes, 6 pruned nodes, max_depth=5\u001b[0m\n",
      "\u001b[34m[56]#011train-error:0.132933#011validation-error:0.1661\u001b[0m\n",
      "\u001b[34m[11:46:55] src/tree/updater_prune.cc:74: tree pruning end, 1 roots, 44 extra nodes, 2 pruned nodes, max_depth=5\u001b[0m\n",
      "\u001b[34m[57]#011train-error:0.129867#011validation-error:0.1674\u001b[0m\n",
      "\u001b[34m[11:46:57] src/tree/updater_prune.cc:74: tree pruning end, 1 roots, 22 extra nodes, 14 pruned nodes, max_depth=5\u001b[0m\n",
      "\u001b[34m[58]#011train-error:0.130067#011validation-error:0.1667\u001b[0m\n",
      "\u001b[34m[11:46:58] src/tree/updater_prune.cc:74: tree pruning end, 1 roots, 18 extra nodes, 8 pruned nodes, max_depth=5\u001b[0m\n",
      "\u001b[34m[59]#011train-error:0.128867#011validation-error:0.1648\u001b[0m\n",
      "\u001b[34m[11:46:59] src/tree/updater_prune.cc:74: tree pruning end, 1 roots, 24 extra nodes, 10 pruned nodes, max_depth=5\u001b[0m\n",
      "\u001b[34m[60]#011train-error:0.128#011validation-error:0.1649\u001b[0m\n",
      "\u001b[34m[11:47:00] src/tree/updater_prune.cc:74: tree pruning end, 1 roots, 18 extra nodes, 10 pruned nodes, max_depth=5\u001b[0m\n",
      "\u001b[34m[61]#011train-error:0.127133#011validation-error:0.1645\u001b[0m\n",
      "\u001b[34m[11:47:02] src/tree/updater_prune.cc:74: tree pruning end, 1 roots, 20 extra nodes, 6 pruned nodes, max_depth=5\u001b[0m\n",
      "\u001b[34m[62]#011train-error:0.126867#011validation-error:0.1636\u001b[0m\n",
      "\u001b[34m[11:47:03] src/tree/updater_prune.cc:74: tree pruning end, 1 roots, 12 extra nodes, 12 pruned nodes, max_depth=5\u001b[0m\n",
      "\u001b[34m[63]#011train-error:0.125533#011validation-error:0.163\u001b[0m\n",
      "\u001b[34m[11:47:04] src/tree/updater_prune.cc:74: tree pruning end, 1 roots, 38 extra nodes, 2 pruned nodes, max_depth=5\u001b[0m\n",
      "\u001b[34m[64]#011train-error:0.123667#011validation-error:0.1635\u001b[0m\n",
      "\u001b[34m[11:47:05] src/tree/updater_prune.cc:74: tree pruning end, 1 roots, 18 extra nodes, 4 pruned nodes, max_depth=5\u001b[0m\n",
      "\u001b[34m[65]#011train-error:0.1232#011validation-error:0.1627\u001b[0m\n",
      "\u001b[34m[11:47:07] src/tree/updater_prune.cc:74: tree pruning end, 1 roots, 30 extra nodes, 8 pruned nodes, max_depth=5\u001b[0m\n",
      "\u001b[34m[66]#011train-error:0.122067#011validation-error:0.1631\u001b[0m\n",
      "\u001b[34m[11:47:08] src/tree/updater_prune.cc:74: tree pruning end, 1 roots, 26 extra nodes, 6 pruned nodes, max_depth=5\u001b[0m\n",
      "\u001b[34m[67]#011train-error:0.122#011validation-error:0.1609\u001b[0m\n",
      "\u001b[34m[11:47:09] src/tree/updater_prune.cc:74: tree pruning end, 1 roots, 30 extra nodes, 2 pruned nodes, max_depth=5\u001b[0m\n",
      "\u001b[34m[68]#011train-error:0.1204#011validation-error:0.1602\u001b[0m\n",
      "\u001b[34m[11:47:10] src/tree/updater_prune.cc:74: tree pruning end, 1 roots, 24 extra nodes, 4 pruned nodes, max_depth=5\u001b[0m\n",
      "\u001b[34m[69]#011train-error:0.118333#011validation-error:0.1597\u001b[0m\n",
      "\u001b[34m[11:47:12] src/tree/updater_prune.cc:74: tree pruning end, 1 roots, 30 extra nodes, 6 pruned nodes, max_depth=5\u001b[0m\n",
      "\u001b[34m[70]#011train-error:0.1164#011validation-error:0.1583\u001b[0m\n",
      "\u001b[34m[11:47:13] src/tree/updater_prune.cc:74: tree pruning end, 1 roots, 14 extra nodes, 8 pruned nodes, max_depth=5\u001b[0m\n",
      "\u001b[34m[71]#011train-error:0.1162#011validation-error:0.1585\u001b[0m\n",
      "\u001b[34m[11:47:14] src/tree/updater_prune.cc:74: tree pruning end, 1 roots, 26 extra nodes, 10 pruned nodes, max_depth=5\u001b[0m\n",
      "\u001b[34m[72]#011train-error:0.115733#011validation-error:0.1587\u001b[0m\n",
      "\u001b[34m[11:47:15] src/tree/updater_prune.cc:74: tree pruning end, 1 roots, 30 extra nodes, 4 pruned nodes, max_depth=5\u001b[0m\n",
      "\u001b[34m[73]#011train-error:0.1152#011validation-error:0.1567\u001b[0m\n",
      "\u001b[34m[11:47:17] src/tree/updater_prune.cc:74: tree pruning end, 1 roots, 18 extra nodes, 14 pruned nodes, max_depth=5\u001b[0m\n",
      "\u001b[34m[74]#011train-error:0.114533#011validation-error:0.157\u001b[0m\n",
      "\u001b[34m[11:47:18] src/tree/updater_prune.cc:74: tree pruning end, 1 roots, 12 extra nodes, 8 pruned nodes, max_depth=5\u001b[0m\n",
      "\u001b[34m[75]#011train-error:0.113733#011validation-error:0.1569\u001b[0m\n",
      "\u001b[34m[11:47:19] src/tree/updater_prune.cc:74: tree pruning end, 1 roots, 42 extra nodes, 8 pruned nodes, max_depth=5\u001b[0m\n",
      "\u001b[34m[76]#011train-error:0.112333#011validation-error:0.1582\u001b[0m\n",
      "\u001b[34m[11:47:20] src/tree/updater_prune.cc:74: tree pruning end, 1 roots, 10 extra nodes, 6 pruned nodes, max_depth=5\u001b[0m\n",
      "\u001b[34m[77]#011train-error:0.111933#011validation-error:0.1574\u001b[0m\n",
      "\u001b[34m[11:47:22] src/tree/updater_prune.cc:74: tree pruning end, 1 roots, 16 extra nodes, 8 pruned nodes, max_depth=5\u001b[0m\n",
      "\u001b[34m[78]#011train-error:0.1114#011validation-error:0.157\u001b[0m\n",
      "\u001b[34m[11:47:23] src/tree/updater_prune.cc:74: tree pruning end, 1 roots, 18 extra nodes, 8 pruned nodes, max_depth=5\u001b[0m\n",
      "\u001b[34m[79]#011train-error:0.110467#011validation-error:0.1572\u001b[0m\n",
      "\u001b[34m[11:47:24] src/tree/updater_prune.cc:74: tree pruning end, 1 roots, 18 extra nodes, 6 pruned nodes, max_depth=5\u001b[0m\n",
      "\u001b[34m[80]#011train-error:0.110133#011validation-error:0.1561\u001b[0m\n",
      "\u001b[34m[11:47:26] src/tree/updater_prune.cc:74: tree pruning end, 1 roots, 28 extra nodes, 10 pruned nodes, max_depth=5\u001b[0m\n",
      "\u001b[34m[81]#011train-error:0.1088#011validation-error:0.1544\u001b[0m\n",
      "\u001b[34m[11:47:27] src/tree/updater_prune.cc:74: tree pruning end, 1 roots, 24 extra nodes, 12 pruned nodes, max_depth=5\u001b[0m\n",
      "\u001b[34m[82]#011train-error:0.1088#011validation-error:0.1537\u001b[0m\n",
      "\u001b[34m[11:47:28] src/tree/updater_prune.cc:74: tree pruning end, 1 roots, 20 extra nodes, 12 pruned nodes, max_depth=5\u001b[0m\n",
      "\u001b[34m[83]#011train-error:0.108067#011validation-error:0.1542\u001b[0m\n",
      "\u001b[34m[11:47:29] src/tree/updater_prune.cc:74: tree pruning end, 1 roots, 18 extra nodes, 8 pruned nodes, max_depth=5\u001b[0m\n",
      "\u001b[34m[84]#011train-error:0.1076#011validation-error:0.1531\u001b[0m\n",
      "\u001b[34m[11:47:31] src/tree/updater_prune.cc:74: tree pruning end, 1 roots, 24 extra nodes, 8 pruned nodes, max_depth=5\u001b[0m\n",
      "\u001b[34m[85]#011train-error:0.107733#011validation-error:0.153\u001b[0m\n",
      "\u001b[34m[11:47:32] src/tree/updater_prune.cc:74: tree pruning end, 1 roots, 20 extra nodes, 6 pruned nodes, max_depth=5\u001b[0m\n",
      "\u001b[34m[86]#011train-error:0.107933#011validation-error:0.1521\u001b[0m\n",
      "\u001b[34m[11:47:33] src/tree/updater_prune.cc:74: tree pruning end, 1 roots, 32 extra nodes, 6 pruned nodes, max_depth=5\u001b[0m\n",
      "\u001b[34m[87]#011train-error:0.1066#011validation-error:0.1541\u001b[0m\n"
     ]
    },
    {
     "name": "stdout",
     "output_type": "stream",
     "text": [
      "\u001b[34m[11:47:34] src/tree/updater_prune.cc:74: tree pruning end, 1 roots, 10 extra nodes, 4 pruned nodes, max_depth=5\u001b[0m\n",
      "\u001b[34m[88]#011train-error:0.106667#011validation-error:0.1535\u001b[0m\n",
      "\u001b[34m[11:47:36] src/tree/updater_prune.cc:74: tree pruning end, 1 roots, 30 extra nodes, 6 pruned nodes, max_depth=5\u001b[0m\n",
      "\u001b[34m[89]#011train-error:0.105867#011validation-error:0.1534\u001b[0m\n",
      "\u001b[34m[11:47:37] src/tree/updater_prune.cc:74: tree pruning end, 1 roots, 14 extra nodes, 6 pruned nodes, max_depth=5\u001b[0m\n",
      "\u001b[34m[90]#011train-error:0.1058#011validation-error:0.1538\u001b[0m\n",
      "\u001b[34m[11:47:38] src/tree/updater_prune.cc:74: tree pruning end, 1 roots, 16 extra nodes, 8 pruned nodes, max_depth=5\u001b[0m\n",
      "\u001b[34m[91]#011train-error:0.105#011validation-error:0.1543\u001b[0m\n",
      "\u001b[34m[11:47:39] src/tree/updater_prune.cc:74: tree pruning end, 1 roots, 16 extra nodes, 12 pruned nodes, max_depth=5\u001b[0m\n",
      "\u001b[34m[92]#011train-error:0.1044#011validation-error:0.1537\u001b[0m\n",
      "\u001b[34m[11:47:41] src/tree/updater_prune.cc:74: tree pruning end, 1 roots, 12 extra nodes, 6 pruned nodes, max_depth=5\u001b[0m\n",
      "\u001b[34m[93]#011train-error:0.104333#011validation-error:0.1531\u001b[0m\n",
      "\u001b[34m[11:47:42] src/tree/updater_prune.cc:74: tree pruning end, 1 roots, 22 extra nodes, 12 pruned nodes, max_depth=5\u001b[0m\n",
      "\u001b[34m[94]#011train-error:0.103733#011validation-error:0.1518\u001b[0m\n",
      "\u001b[34m[11:47:43] src/tree/updater_prune.cc:74: tree pruning end, 1 roots, 12 extra nodes, 10 pruned nodes, max_depth=5\u001b[0m\n",
      "\u001b[34m[95]#011train-error:0.102933#011validation-error:0.1509\u001b[0m\n",
      "\u001b[34m[11:47:44] src/tree/updater_prune.cc:74: tree pruning end, 1 roots, 14 extra nodes, 2 pruned nodes, max_depth=5\u001b[0m\n",
      "\u001b[34m[96]#011train-error:0.102933#011validation-error:0.1504\u001b[0m\n",
      "\u001b[34m[11:47:46] src/tree/updater_prune.cc:74: tree pruning end, 1 roots, 32 extra nodes, 6 pruned nodes, max_depth=5\u001b[0m\n",
      "\u001b[34m[97]#011train-error:0.102267#011validation-error:0.1511\u001b[0m\n",
      "\u001b[34m[11:47:47] src/tree/updater_prune.cc:74: tree pruning end, 1 roots, 10 extra nodes, 10 pruned nodes, max_depth=5\u001b[0m\n",
      "\u001b[34m[98]#011train-error:0.102533#011validation-error:0.1502\u001b[0m\n",
      "\u001b[34m[11:47:48] src/tree/updater_prune.cc:74: tree pruning end, 1 roots, 16 extra nodes, 10 pruned nodes, max_depth=5\u001b[0m\n",
      "\u001b[34m[99]#011train-error:0.102067#011validation-error:0.1501\u001b[0m\n",
      "\u001b[34m[11:47:49] src/tree/updater_prune.cc:74: tree pruning end, 1 roots, 30 extra nodes, 6 pruned nodes, max_depth=5\u001b[0m\n",
      "\u001b[34m[100]#011train-error:0.1024#011validation-error:0.1496\u001b[0m\n",
      "\u001b[34m[11:47:51] src/tree/updater_prune.cc:74: tree pruning end, 1 roots, 34 extra nodes, 8 pruned nodes, max_depth=5\u001b[0m\n",
      "\u001b[34m[101]#011train-error:0.101067#011validation-error:0.149\u001b[0m\n",
      "\u001b[34m[11:47:52] src/tree/updater_prune.cc:74: tree pruning end, 1 roots, 18 extra nodes, 6 pruned nodes, max_depth=5\u001b[0m\n",
      "\u001b[34m[102]#011train-error:0.1004#011validation-error:0.1496\u001b[0m\n",
      "\u001b[34m[11:47:53] src/tree/updater_prune.cc:74: tree pruning end, 1 roots, 18 extra nodes, 10 pruned nodes, max_depth=5\u001b[0m\n",
      "\u001b[34m[103]#011train-error:0.099467#011validation-error:0.1485\u001b[0m\n",
      "\u001b[34m[11:47:54] src/tree/updater_prune.cc:74: tree pruning end, 1 roots, 20 extra nodes, 10 pruned nodes, max_depth=5\u001b[0m\n",
      "\u001b[34m[104]#011train-error:0.098733#011validation-error:0.1479\u001b[0m\n",
      "\u001b[34m[11:47:56] src/tree/updater_prune.cc:74: tree pruning end, 1 roots, 28 extra nodes, 14 pruned nodes, max_depth=5\u001b[0m\n",
      "\u001b[34m[105]#011train-error:0.0976#011validation-error:0.1483\u001b[0m\n",
      "\u001b[34m[11:47:57] src/tree/updater_prune.cc:74: tree pruning end, 1 roots, 14 extra nodes, 10 pruned nodes, max_depth=5\u001b[0m\n",
      "\u001b[34m[106]#011train-error:0.097#011validation-error:0.1471\u001b[0m\n",
      "\u001b[34m[11:47:58] src/tree/updater_prune.cc:74: tree pruning end, 1 roots, 26 extra nodes, 8 pruned nodes, max_depth=5\u001b[0m\n",
      "\u001b[34m[107]#011train-error:0.095933#011validation-error:0.1483\u001b[0m\n",
      "\u001b[34m[11:48:00] src/tree/updater_prune.cc:74: tree pruning end, 1 roots, 22 extra nodes, 10 pruned nodes, max_depth=5\u001b[0m\n",
      "\u001b[34m[108]#011train-error:0.094667#011validation-error:0.1478\u001b[0m\n",
      "\u001b[34m[11:48:01] src/tree/updater_prune.cc:74: tree pruning end, 1 roots, 16 extra nodes, 8 pruned nodes, max_depth=5\u001b[0m\n",
      "\u001b[34m[109]#011train-error:0.0942#011validation-error:0.1476\u001b[0m\n",
      "\u001b[34m[11:48:02] src/tree/updater_prune.cc:74: tree pruning end, 1 roots, 28 extra nodes, 6 pruned nodes, max_depth=5\u001b[0m\n",
      "\u001b[34m[110]#011train-error:0.094467#011validation-error:0.1464\u001b[0m\n",
      "\u001b[34m[11:48:03] src/tree/updater_prune.cc:74: tree pruning end, 1 roots, 18 extra nodes, 12 pruned nodes, max_depth=5\u001b[0m\n",
      "\u001b[34m[111]#011train-error:0.093933#011validation-error:0.1468\u001b[0m\n",
      "\u001b[34m[11:48:05] src/tree/updater_prune.cc:74: tree pruning end, 1 roots, 18 extra nodes, 6 pruned nodes, max_depth=5\u001b[0m\n",
      "\u001b[34m[112]#011train-error:0.093667#011validation-error:0.1461\u001b[0m\n",
      "\u001b[34m[11:48:06] src/tree/updater_prune.cc:74: tree pruning end, 1 roots, 16 extra nodes, 2 pruned nodes, max_depth=5\u001b[0m\n",
      "\u001b[34m[113]#011train-error:0.0938#011validation-error:0.1459\u001b[0m\n",
      "\u001b[34m[11:48:07] src/tree/updater_prune.cc:74: tree pruning end, 1 roots, 14 extra nodes, 8 pruned nodes, max_depth=5\u001b[0m\n",
      "\u001b[34m[114]#011train-error:0.093#011validation-error:0.145\u001b[0m\n",
      "\u001b[34m[11:48:08] src/tree/updater_prune.cc:74: tree pruning end, 1 roots, 20 extra nodes, 10 pruned nodes, max_depth=5\u001b[0m\n",
      "\u001b[34m[115]#011train-error:0.092533#011validation-error:0.1463\u001b[0m\n",
      "\u001b[34m[11:48:10] src/tree/updater_prune.cc:74: tree pruning end, 1 roots, 18 extra nodes, 18 pruned nodes, max_depth=5\u001b[0m\n",
      "\u001b[34m[116]#011train-error:0.0922#011validation-error:0.1459\u001b[0m\n",
      "\u001b[34m[11:48:11] src/tree/updater_prune.cc:74: tree pruning end, 1 roots, 16 extra nodes, 10 pruned nodes, max_depth=5\u001b[0m\n",
      "\u001b[34m[117]#011train-error:0.0916#011validation-error:0.1462\u001b[0m\n",
      "\u001b[34m[11:48:12] src/tree/updater_prune.cc:74: tree pruning end, 1 roots, 12 extra nodes, 8 pruned nodes, max_depth=5\u001b[0m\n",
      "\u001b[34m[118]#011train-error:0.0908#011validation-error:0.1462\u001b[0m\n",
      "\u001b[34m[11:48:13] src/tree/updater_prune.cc:74: tree pruning end, 1 roots, 12 extra nodes, 8 pruned nodes, max_depth=5\u001b[0m\n",
      "\u001b[34m[119]#011train-error:0.090267#011validation-error:0.1456\u001b[0m\n",
      "\u001b[34m[11:48:15] src/tree/updater_prune.cc:74: tree pruning end, 1 roots, 12 extra nodes, 8 pruned nodes, max_depth=5\u001b[0m\n",
      "\u001b[34m[120]#011train-error:0.0896#011validation-error:0.1456\u001b[0m\n",
      "\u001b[34m[11:48:16] src/tree/updater_prune.cc:74: tree pruning end, 1 roots, 14 extra nodes, 2 pruned nodes, max_depth=5\u001b[0m\n",
      "\u001b[34m[121]#011train-error:0.089667#011validation-error:0.1455\u001b[0m\n",
      "\u001b[34m[11:48:17] src/tree/updater_prune.cc:74: tree pruning end, 1 roots, 18 extra nodes, 16 pruned nodes, max_depth=5\u001b[0m\n",
      "\u001b[34m[122]#011train-error:0.089933#011validation-error:0.1458\u001b[0m\n",
      "\u001b[34m[11:48:19] src/tree/updater_prune.cc:74: tree pruning end, 1 roots, 28 extra nodes, 10 pruned nodes, max_depth=5\u001b[0m\n",
      "\u001b[34m[123]#011train-error:0.0892#011validation-error:0.1444\u001b[0m\n",
      "\u001b[34m[11:48:20] src/tree/updater_prune.cc:74: tree pruning end, 1 roots, 14 extra nodes, 14 pruned nodes, max_depth=5\u001b[0m\n",
      "\u001b[34m[124]#011train-error:0.0888#011validation-error:0.145\u001b[0m\n",
      "\u001b[34m[11:48:21] src/tree/updater_prune.cc:74: tree pruning end, 1 roots, 22 extra nodes, 6 pruned nodes, max_depth=5\u001b[0m\n",
      "\u001b[34m[125]#011train-error:0.088733#011validation-error:0.1435\u001b[0m\n",
      "\u001b[34m[11:48:22] src/tree/updater_prune.cc:74: tree pruning end, 1 roots, 28 extra nodes, 12 pruned nodes, max_depth=5\u001b[0m\n",
      "\u001b[34m[126]#011train-error:0.0878#011validation-error:0.1433\u001b[0m\n",
      "\u001b[34m[11:48:24] src/tree/updater_prune.cc:74: tree pruning end, 1 roots, 12 extra nodes, 10 pruned nodes, max_depth=5\u001b[0m\n",
      "\u001b[34m[127]#011train-error:0.087533#011validation-error:0.1433\u001b[0m\n",
      "\u001b[34m[11:48:25] src/tree/updater_prune.cc:74: tree pruning end, 1 roots, 12 extra nodes, 4 pruned nodes, max_depth=5\u001b[0m\n",
      "\u001b[34m[128]#011train-error:0.087333#011validation-error:0.1428\u001b[0m\n",
      "\u001b[34m[11:48:26] src/tree/updater_prune.cc:74: tree pruning end, 1 roots, 26 extra nodes, 2 pruned nodes, max_depth=5\u001b[0m\n",
      "\u001b[34m[129]#011train-error:0.086533#011validation-error:0.1424\u001b[0m\n",
      "\u001b[34m[11:48:27] src/tree/updater_prune.cc:74: tree pruning end, 1 roots, 18 extra nodes, 8 pruned nodes, max_depth=5\u001b[0m\n",
      "\u001b[34m[130]#011train-error:0.0858#011validation-error:0.1427\u001b[0m\n",
      "\u001b[34m[11:48:29] src/tree/updater_prune.cc:74: tree pruning end, 1 roots, 12 extra nodes, 6 pruned nodes, max_depth=5\u001b[0m\n",
      "\u001b[34m[131]#011train-error:0.086#011validation-error:0.1434\u001b[0m\n",
      "\u001b[34m[11:48:30] src/tree/updater_prune.cc:74: tree pruning end, 1 roots, 16 extra nodes, 10 pruned nodes, max_depth=5\u001b[0m\n",
      "\u001b[34m[132]#011train-error:0.0856#011validation-error:0.1426\u001b[0m\n",
      "\u001b[34m[11:48:31] src/tree/updater_prune.cc:74: tree pruning end, 1 roots, 20 extra nodes, 14 pruned nodes, max_depth=5\u001b[0m\n",
      "\u001b[34m[133]#011train-error:0.084533#011validation-error:0.1425\u001b[0m\n",
      "\u001b[34m[11:48:33] src/tree/updater_prune.cc:74: tree pruning end, 1 roots, 16 extra nodes, 14 pruned nodes, max_depth=5\u001b[0m\n",
      "\u001b[34m[134]#011train-error:0.084467#011validation-error:0.1421\u001b[0m\n",
      "\u001b[34m[11:48:34] src/tree/updater_prune.cc:74: tree pruning end, 1 roots, 28 extra nodes, 8 pruned nodes, max_depth=5\u001b[0m\n",
      "\u001b[34m[135]#011train-error:0.084133#011validation-error:0.1418\u001b[0m\n"
     ]
    },
    {
     "name": "stdout",
     "output_type": "stream",
     "text": [
      "\u001b[34m[11:48:35] src/tree/updater_prune.cc:74: tree pruning end, 1 roots, 28 extra nodes, 4 pruned nodes, max_depth=5\u001b[0m\n",
      "\u001b[34m[136]#011train-error:0.083133#011validation-error:0.1418\u001b[0m\n",
      "\u001b[34m[11:48:37] src/tree/updater_prune.cc:74: tree pruning end, 1 roots, 10 extra nodes, 2 pruned nodes, max_depth=5\u001b[0m\n",
      "\u001b[34m[137]#011train-error:0.083333#011validation-error:0.1422\u001b[0m\n",
      "\u001b[34m[11:48:38] src/tree/updater_prune.cc:74: tree pruning end, 1 roots, 16 extra nodes, 6 pruned nodes, max_depth=5\u001b[0m\n",
      "\u001b[34m[138]#011train-error:0.0824#011validation-error:0.1413\u001b[0m\n",
      "\u001b[34m[11:48:39] src/tree/updater_prune.cc:74: tree pruning end, 1 roots, 14 extra nodes, 10 pruned nodes, max_depth=5\u001b[0m\n",
      "\u001b[34m[139]#011train-error:0.082133#011validation-error:0.141\u001b[0m\n",
      "\u001b[34m[11:48:40] src/tree/updater_prune.cc:74: tree pruning end, 1 roots, 22 extra nodes, 8 pruned nodes, max_depth=5\u001b[0m\n",
      "\u001b[34m[140]#011train-error:0.081133#011validation-error:0.1411\u001b[0m\n",
      "\u001b[34m[11:48:42] src/tree/updater_prune.cc:74: tree pruning end, 1 roots, 12 extra nodes, 6 pruned nodes, max_depth=5\u001b[0m\n",
      "\u001b[34m[141]#011train-error:0.081533#011validation-error:0.1406\u001b[0m\n",
      "\u001b[34m[11:48:43] src/tree/updater_prune.cc:74: tree pruning end, 1 roots, 14 extra nodes, 8 pruned nodes, max_depth=5\u001b[0m\n",
      "\u001b[34m[142]#011train-error:0.081467#011validation-error:0.1409\u001b[0m\n",
      "\u001b[34m[11:48:44] src/tree/updater_prune.cc:74: tree pruning end, 1 roots, 10 extra nodes, 8 pruned nodes, max_depth=5\u001b[0m\n",
      "\u001b[34m[143]#011train-error:0.081#011validation-error:0.1401\u001b[0m\n",
      "\u001b[34m[11:48:45] src/tree/updater_prune.cc:74: tree pruning end, 1 roots, 16 extra nodes, 12 pruned nodes, max_depth=5\u001b[0m\n",
      "\u001b[34m[144]#011train-error:0.0816#011validation-error:0.1398\u001b[0m\n",
      "\u001b[34m[11:48:47] src/tree/updater_prune.cc:74: tree pruning end, 1 roots, 20 extra nodes, 14 pruned nodes, max_depth=5\u001b[0m\n",
      "\u001b[34m[145]#011train-error:0.080933#011validation-error:0.1404\u001b[0m\n",
      "\u001b[34m[11:48:48] src/tree/updater_prune.cc:74: tree pruning end, 1 roots, 12 extra nodes, 0 pruned nodes, max_depth=5\u001b[0m\n",
      "\u001b[34m[146]#011train-error:0.080867#011validation-error:0.1403\u001b[0m\n",
      "\u001b[34m[11:48:49] src/tree/updater_prune.cc:74: tree pruning end, 1 roots, 12 extra nodes, 16 pruned nodes, max_depth=5\u001b[0m\n",
      "\u001b[34m[147]#011train-error:0.0804#011validation-error:0.1404\u001b[0m\n",
      "\u001b[34m[11:48:50] src/tree/updater_prune.cc:74: tree pruning end, 1 roots, 14 extra nodes, 4 pruned nodes, max_depth=5\u001b[0m\n",
      "\u001b[34m[148]#011train-error:0.0808#011validation-error:0.1411\u001b[0m\n",
      "\u001b[34m[11:48:52] src/tree/updater_prune.cc:74: tree pruning end, 1 roots, 10 extra nodes, 6 pruned nodes, max_depth=5\u001b[0m\n",
      "\u001b[34m[149]#011train-error:0.080533#011validation-error:0.1411\u001b[0m\n",
      "\u001b[34m[11:48:53] src/tree/updater_prune.cc:74: tree pruning end, 1 roots, 10 extra nodes, 8 pruned nodes, max_depth=5\u001b[0m\n",
      "\u001b[34m[150]#011train-error:0.080533#011validation-error:0.1401\u001b[0m\n",
      "\u001b[34m[11:48:54] src/tree/updater_prune.cc:74: tree pruning end, 1 roots, 20 extra nodes, 2 pruned nodes, max_depth=5\u001b[0m\n",
      "\u001b[34m[151]#011train-error:0.08#011validation-error:0.1405\u001b[0m\n",
      "\u001b[34m[11:48:55] src/tree/updater_prune.cc:74: tree pruning end, 1 roots, 14 extra nodes, 12 pruned nodes, max_depth=5\u001b[0m\n",
      "\u001b[34m[152]#011train-error:0.079933#011validation-error:0.1407\u001b[0m\n",
      "\u001b[34m[11:48:57] src/tree/updater_prune.cc:74: tree pruning end, 1 roots, 14 extra nodes, 2 pruned nodes, max_depth=5\u001b[0m\n",
      "\u001b[34m[153]#011train-error:0.0794#011validation-error:0.1396\u001b[0m\n",
      "\u001b[34m[11:48:58] src/tree/updater_prune.cc:74: tree pruning end, 1 roots, 14 extra nodes, 6 pruned nodes, max_depth=5\u001b[0m\n",
      "\u001b[34m[154]#011train-error:0.0788#011validation-error:0.1412\u001b[0m\n",
      "\u001b[34m[11:48:59] src/tree/updater_prune.cc:74: tree pruning end, 1 roots, 24 extra nodes, 8 pruned nodes, max_depth=5\u001b[0m\n",
      "\u001b[34m[155]#011train-error:0.078267#011validation-error:0.1404\u001b[0m\n",
      "\u001b[34m[11:49:00] src/tree/updater_prune.cc:74: tree pruning end, 1 roots, 16 extra nodes, 6 pruned nodes, max_depth=5\u001b[0m\n",
      "\u001b[34m[156]#011train-error:0.0784#011validation-error:0.1399\u001b[0m\n",
      "\u001b[34m[11:49:02] src/tree/updater_prune.cc:74: tree pruning end, 1 roots, 12 extra nodes, 2 pruned nodes, max_depth=5\u001b[0m\n",
      "\u001b[34m[157]#011train-error:0.077933#011validation-error:0.1396\u001b[0m\n",
      "\u001b[34m[11:49:03] src/tree/updater_prune.cc:74: tree pruning end, 1 roots, 10 extra nodes, 4 pruned nodes, max_depth=5\u001b[0m\n",
      "\u001b[34m[158]#011train-error:0.077133#011validation-error:0.1395\u001b[0m\n",
      "\u001b[34m[11:49:04] src/tree/updater_prune.cc:74: tree pruning end, 1 roots, 10 extra nodes, 6 pruned nodes, max_depth=5\u001b[0m\n",
      "\u001b[34m[159]#011train-error:0.0768#011validation-error:0.1399\u001b[0m\n",
      "\u001b[34m[11:49:06] src/tree/updater_prune.cc:74: tree pruning end, 1 roots, 20 extra nodes, 14 pruned nodes, max_depth=5\u001b[0m\n",
      "\u001b[34m[160]#011train-error:0.076333#011validation-error:0.1397\u001b[0m\n",
      "\u001b[34m[11:49:07] src/tree/updater_prune.cc:74: tree pruning end, 1 roots, 18 extra nodes, 0 pruned nodes, max_depth=5\u001b[0m\n",
      "\u001b[34m[161]#011train-error:0.075867#011validation-error:0.1396\u001b[0m\n",
      "\u001b[34m[11:49:08] src/tree/updater_prune.cc:74: tree pruning end, 1 roots, 12 extra nodes, 8 pruned nodes, max_depth=5\u001b[0m\n",
      "\u001b[34m[162]#011train-error:0.0756#011validation-error:0.1394\u001b[0m\n",
      "\u001b[34m[11:49:09] src/tree/updater_prune.cc:74: tree pruning end, 1 roots, 14 extra nodes, 4 pruned nodes, max_depth=5\u001b[0m\n",
      "\u001b[34m[163]#011train-error:0.076067#011validation-error:0.1399\u001b[0m\n",
      "\u001b[34m[11:49:11] src/tree/updater_prune.cc:74: tree pruning end, 1 roots, 10 extra nodes, 14 pruned nodes, max_depth=5\u001b[0m\n",
      "\u001b[34m[164]#011train-error:0.076067#011validation-error:0.1396\u001b[0m\n",
      "\u001b[34m[11:49:12] src/tree/updater_prune.cc:74: tree pruning end, 1 roots, 12 extra nodes, 4 pruned nodes, max_depth=5\u001b[0m\n",
      "\u001b[34m[165]#011train-error:0.0758#011validation-error:0.1401\u001b[0m\n",
      "\u001b[34m[11:49:13] src/tree/updater_prune.cc:74: tree pruning end, 1 roots, 20 extra nodes, 6 pruned nodes, max_depth=5\u001b[0m\n",
      "\u001b[34m[166]#011train-error:0.075533#011validation-error:0.1391\u001b[0m\n",
      "\u001b[34m[11:49:14] src/tree/updater_prune.cc:74: tree pruning end, 1 roots, 22 extra nodes, 4 pruned nodes, max_depth=5\u001b[0m\n",
      "\u001b[34m[167]#011train-error:0.074733#011validation-error:0.1395\u001b[0m\n",
      "\u001b[34m[11:49:16] src/tree/updater_prune.cc:74: tree pruning end, 1 roots, 12 extra nodes, 6 pruned nodes, max_depth=5\u001b[0m\n",
      "\u001b[34m[168]#011train-error:0.074333#011validation-error:0.1398\u001b[0m\n",
      "\u001b[34m[11:49:17] src/tree/updater_prune.cc:74: tree pruning end, 1 roots, 12 extra nodes, 6 pruned nodes, max_depth=5\u001b[0m\n",
      "\u001b[34m[169]#011train-error:0.074533#011validation-error:0.1384\u001b[0m\n",
      "\u001b[34m[11:49:18] src/tree/updater_prune.cc:74: tree pruning end, 1 roots, 14 extra nodes, 6 pruned nodes, max_depth=5\u001b[0m\n",
      "\u001b[34m[170]#011train-error:0.074333#011validation-error:0.1388\u001b[0m\n",
      "\u001b[34m[11:49:19] src/tree/updater_prune.cc:74: tree pruning end, 1 roots, 12 extra nodes, 2 pruned nodes, max_depth=5\u001b[0m\n",
      "\u001b[34m[171]#011train-error:0.073867#011validation-error:0.138\u001b[0m\n",
      "\u001b[34m[11:49:21] src/tree/updater_prune.cc:74: tree pruning end, 1 roots, 18 extra nodes, 6 pruned nodes, max_depth=5\u001b[0m\n",
      "\u001b[34m[172]#011train-error:0.073933#011validation-error:0.1377\u001b[0m\n",
      "\u001b[34m[11:49:22] src/tree/updater_prune.cc:74: tree pruning end, 1 roots, 16 extra nodes, 20 pruned nodes, max_depth=5\u001b[0m\n",
      "\u001b[34m[173]#011train-error:0.0742#011validation-error:0.1378\u001b[0m\n",
      "\u001b[34m[11:49:23] src/tree/updater_prune.cc:74: tree pruning end, 1 roots, 20 extra nodes, 16 pruned nodes, max_depth=5\u001b[0m\n",
      "\u001b[34m[174]#011train-error:0.073867#011validation-error:0.1385\u001b[0m\n",
      "\u001b[34m[11:49:24] src/tree/updater_prune.cc:74: tree pruning end, 1 roots, 18 extra nodes, 12 pruned nodes, max_depth=5\u001b[0m\n",
      "\u001b[34m[175]#011train-error:0.073067#011validation-error:0.1379\u001b[0m\n",
      "\u001b[34m[11:49:26] src/tree/updater_prune.cc:74: tree pruning end, 1 roots, 10 extra nodes, 8 pruned nodes, max_depth=5\u001b[0m\n",
      "\u001b[34m[176]#011train-error:0.073333#011validation-error:0.1378\u001b[0m\n",
      "\u001b[34m[11:49:27] src/tree/updater_prune.cc:74: tree pruning end, 1 roots, 14 extra nodes, 6 pruned nodes, max_depth=5\u001b[0m\n",
      "\u001b[34m[177]#011train-error:0.0726#011validation-error:0.1381\u001b[0m\n",
      "\u001b[34m[11:49:28] src/tree/updater_prune.cc:74: tree pruning end, 1 roots, 14 extra nodes, 8 pruned nodes, max_depth=5\u001b[0m\n",
      "\u001b[34m[178]#011train-error:0.072867#011validation-error:0.1381\u001b[0m\n",
      "\u001b[34m[11:49:30] src/tree/updater_prune.cc:74: tree pruning end, 1 roots, 12 extra nodes, 6 pruned nodes, max_depth=5\u001b[0m\n",
      "\u001b[34m[179]#011train-error:0.072733#011validation-error:0.1379\u001b[0m\n",
      "\u001b[34m[11:49:31] src/tree/updater_prune.cc:74: tree pruning end, 1 roots, 16 extra nodes, 8 pruned nodes, max_depth=5\u001b[0m\n",
      "\u001b[34m[180]#011train-error:0.072267#011validation-error:0.138\u001b[0m\n",
      "\u001b[34m[11:49:32] src/tree/updater_prune.cc:74: tree pruning end, 1 roots, 10 extra nodes, 18 pruned nodes, max_depth=5\u001b[0m\n",
      "\u001b[34m[181]#011train-error:0.072067#011validation-error:0.1384\u001b[0m\n",
      "\u001b[34m[11:49:33] src/tree/updater_prune.cc:74: tree pruning end, 1 roots, 12 extra nodes, 4 pruned nodes, max_depth=5\u001b[0m\n",
      "\u001b[34m[182]#011train-error:0.072067#011validation-error:0.1385\u001b[0m\n",
      "\u001b[34mStopping. Best iteration:\u001b[0m\n",
      "\u001b[34m[172]#011train-error:0.073933#011validation-error:0.1377\n",
      "\u001b[0m\n"
     ]
    },
    {
     "name": "stdout",
     "output_type": "stream",
     "text": [
      "\n",
      "2020-05-10 11:49:41 Uploading - Uploading generated training model\n",
      "2020-05-10 11:49:41 Completed - Training job completed\n",
      "Training seconds: 288\n",
      "Billable seconds: 288\n"
     ]
    }
   ],
   "source": [
    "xgb.fit({'train': s3_input_train, 'validation': s3_input_validation})"
   ]
  },
  {
   "cell_type": "markdown",
   "metadata": {},
   "source": [
    "## Step 5: Testing the model\n",
    "\n",
    "Now that we've fit our XGBoost model, it's time to see how well it performs. To do this we will use SageMakers Batch Transform functionality. Batch Transform is a convenient way to perform inference on a large dataset in a way that is not realtime. That is, we don't necessarily need to use our model's results immediately and instead we can perform inference on a large number of samples. An example of this in industry might be performing an end of month report. This method of inference can also be useful to us as it means that we can perform inference on our entire test set. \n",
    "\n",
    "To perform a Batch Transformation we need to first create a transformer objects from our trained estimator object."
   ]
  },
  {
   "cell_type": "code",
   "execution_count": 24,
   "metadata": {},
   "outputs": [],
   "source": [
    "xgb_transformer = xgb.transformer(instance_count = 1, instance_type = 'ml.m4.xlarge')"
   ]
  },
  {
   "cell_type": "markdown",
   "metadata": {},
   "source": [
    "Next we actually perform the transform job. When doing so we need to make sure to specify the type of data we are sending so that it is serialized correctly in the background. In our case we are providing our model with csv data so we specify `text/csv`. Also, if the test data that we have provided is too large to process all at once then we need to specify how the data file should be split up. Since each line is a single entry in our data set we tell SageMaker that it can split the input on each line."
   ]
  },
  {
   "cell_type": "code",
   "execution_count": 25,
   "metadata": {},
   "outputs": [],
   "source": [
    "xgb_transformer.transform(test_location, content_type='text/csv', split_type='Line')"
   ]
  },
  {
   "cell_type": "markdown",
   "metadata": {},
   "source": [
    "Currently the transform job is running but it is doing so in the background. Since we wish to wait until the transform job is done and we would like a bit of feedback we can run the `wait()` method."
   ]
  },
  {
   "cell_type": "code",
   "execution_count": 26,
   "metadata": {},
   "outputs": [
    {
     "name": "stdout",
     "output_type": "stream",
     "text": [
      "..................\u001b[34mArguments: serve\u001b[0m\n",
      "\u001b[34m[2020-05-10 11:54:06 +0000] [1] [INFO] Starting gunicorn 19.7.1\u001b[0m\n",
      "\u001b[34m[2020-05-10 11:54:06 +0000] [1] [INFO] Listening at: http://0.0.0.0:8080 (1)\u001b[0m\n",
      "\u001b[34m[2020-05-10 11:54:06 +0000] [1] [INFO] Using worker: gevent\u001b[0m\n",
      "\u001b[34m[2020-05-10 11:54:06 +0000] [38] [INFO] Booting worker with pid: 38\u001b[0m\n",
      "\u001b[34m[2020-05-10 11:54:06 +0000] [39] [INFO] Booting worker with pid: 39\u001b[0m\n",
      "\u001b[34m[2020-05-10 11:54:06 +0000] [40] [INFO] Booting worker with pid: 40\u001b[0m\n",
      "\u001b[34m[2020-05-10 11:54:06 +0000] [41] [INFO] Booting worker with pid: 41\u001b[0m\n",
      "\u001b[34m[2020-05-10:11:54:06:INFO] Model loaded successfully for worker : 38\u001b[0m\n",
      "\u001b[34m[2020-05-10:11:54:06:INFO] Model loaded successfully for worker : 39\u001b[0m\n",
      "\u001b[34m[2020-05-10:11:54:06:INFO] Model loaded successfully for worker : 40\u001b[0m\n",
      "\u001b[34m[2020-05-10:11:54:06:INFO] Model loaded successfully for worker : 41\u001b[0m\n",
      "\u001b[32m2020-05-10T11:54:31.133:[sagemaker logs]: MaxConcurrentTransforms=4, MaxPayloadInMB=6, BatchStrategy=MULTI_RECORD\u001b[0m\n",
      "\u001b[34m[2020-05-10:11:54:34:INFO] Sniff delimiter as ','\u001b[0m\n",
      "\u001b[34m[2020-05-10:11:54:34:INFO] Determined delimiter of CSV input is ','\u001b[0m\n",
      "\u001b[34m[2020-05-10:11:54:34:INFO] Sniff delimiter as ','\u001b[0m\n",
      "\u001b[34m[2020-05-10:11:54:34:INFO] Determined delimiter of CSV input is ','\u001b[0m\n",
      "\u001b[34m[2020-05-10:11:54:34:INFO] Sniff delimiter as ','\u001b[0m\n",
      "\u001b[34m[2020-05-10:11:54:34:INFO] Determined delimiter of CSV input is ','\u001b[0m\n",
      "\u001b[35m[2020-05-10:11:54:34:INFO] Sniff delimiter as ','\u001b[0m\n",
      "\u001b[35m[2020-05-10:11:54:34:INFO] Determined delimiter of CSV input is ','\u001b[0m\n",
      "\u001b[35m[2020-05-10:11:54:34:INFO] Sniff delimiter as ','\u001b[0m\n",
      "\u001b[35m[2020-05-10:11:54:34:INFO] Determined delimiter of CSV input is ','\u001b[0m\n",
      "\u001b[35m[2020-05-10:11:54:34:INFO] Sniff delimiter as ','\u001b[0m\n",
      "\u001b[35m[2020-05-10:11:54:34:INFO] Determined delimiter of CSV input is ','\u001b[0m\n",
      "\u001b[34m[2020-05-10:11:54:36:INFO] Sniff delimiter as ','\u001b[0m\n",
      "\u001b[34m[2020-05-10:11:54:36:INFO] Determined delimiter of CSV input is ','\u001b[0m\n",
      "\u001b[34m[2020-05-10:11:54:36:INFO] Sniff delimiter as ','\u001b[0m\n",
      "\u001b[34m[2020-05-10:11:54:36:INFO] Determined delimiter of CSV input is ','\u001b[0m\n",
      "\u001b[35m[2020-05-10:11:54:36:INFO] Sniff delimiter as ','\u001b[0m\n",
      "\u001b[35m[2020-05-10:11:54:36:INFO] Determined delimiter of CSV input is ','\u001b[0m\n",
      "\u001b[35m[2020-05-10:11:54:36:INFO] Sniff delimiter as ','\u001b[0m\n",
      "\u001b[35m[2020-05-10:11:54:36:INFO] Determined delimiter of CSV input is ','\u001b[0m\n",
      "\u001b[34m[2020-05-10:11:54:37:INFO] Sniff delimiter as ','\u001b[0m\n",
      "\u001b[35m[2020-05-10:11:54:37:INFO] Sniff delimiter as ','\u001b[0m\n",
      "\u001b[34m[2020-05-10:11:54:37:INFO] Determined delimiter of CSV input is ','\u001b[0m\n",
      "\u001b[34m[2020-05-10:11:54:37:INFO] Sniff delimiter as ','\u001b[0m\n",
      "\u001b[34m[2020-05-10:11:54:37:INFO] Determined delimiter of CSV input is ','\u001b[0m\n",
      "\u001b[34m[2020-05-10:11:54:37:INFO] Sniff delimiter as ','\u001b[0m\n",
      "\u001b[34m[2020-05-10:11:54:37:INFO] Determined delimiter of CSV input is ','\u001b[0m\n",
      "\u001b[35m[2020-05-10:11:54:37:INFO] Determined delimiter of CSV input is ','\u001b[0m\n",
      "\u001b[35m[2020-05-10:11:54:37:INFO] Sniff delimiter as ','\u001b[0m\n",
      "\u001b[35m[2020-05-10:11:54:37:INFO] Determined delimiter of CSV input is ','\u001b[0m\n",
      "\u001b[35m[2020-05-10:11:54:37:INFO] Sniff delimiter as ','\u001b[0m\n",
      "\u001b[35m[2020-05-10:11:54:37:INFO] Determined delimiter of CSV input is ','\u001b[0m\n",
      "\u001b[34m[2020-05-10:11:54:39:INFO] Sniff delimiter as ','\u001b[0m\n",
      "\u001b[35m[2020-05-10:11:54:39:INFO] Sniff delimiter as ','\u001b[0m\n",
      "\u001b[34m[2020-05-10:11:54:39:INFO] Determined delimiter of CSV input is ','\u001b[0m\n",
      "\u001b[35m[2020-05-10:11:54:39:INFO] Determined delimiter of CSV input is ','\u001b[0m\n",
      "\u001b[34m[2020-05-10:11:54:40:INFO] Sniff delimiter as ','\u001b[0m\n",
      "\u001b[34m[2020-05-10:11:54:40:INFO] Determined delimiter of CSV input is ','\u001b[0m\n",
      "\u001b[34m[2020-05-10:11:54:40:INFO] Sniff delimiter as ','\u001b[0m\n",
      "\u001b[34m[2020-05-10:11:54:40:INFO] Determined delimiter of CSV input is ','\u001b[0m\n",
      "\u001b[34m[2020-05-10:11:54:40:INFO] Sniff delimiter as ','\u001b[0m\n",
      "\u001b[34m[2020-05-10:11:54:40:INFO] Determined delimiter of CSV input is ','\u001b[0m\n",
      "\u001b[35m[2020-05-10:11:54:40:INFO] Sniff delimiter as ','\u001b[0m\n",
      "\u001b[35m[2020-05-10:11:54:40:INFO] Determined delimiter of CSV input is ','\u001b[0m\n",
      "\u001b[35m[2020-05-10:11:54:40:INFO] Sniff delimiter as ','\u001b[0m\n",
      "\u001b[35m[2020-05-10:11:54:40:INFO] Determined delimiter of CSV input is ','\u001b[0m\n",
      "\u001b[35m[2020-05-10:11:54:40:INFO] Sniff delimiter as ','\u001b[0m\n",
      "\u001b[35m[2020-05-10:11:54:40:INFO] Determined delimiter of CSV input is ','\u001b[0m\n",
      "\u001b[34m[2020-05-10:11:54:42:INFO] Sniff delimiter as ','\u001b[0m\n",
      "\u001b[34m[2020-05-10:11:54:42:INFO] Determined delimiter of CSV input is ','\u001b[0m\n",
      "\u001b[34m[2020-05-10:11:54:42:INFO] Sniff delimiter as ','\u001b[0m\n",
      "\u001b[34m[2020-05-10:11:54:42:INFO] Determined delimiter of CSV input is ','\u001b[0m\n",
      "\u001b[34m[2020-05-10:11:54:42:INFO] Sniff delimiter as ','\u001b[0m\n",
      "\u001b[34m[2020-05-10:11:54:42:INFO] Determined delimiter of CSV input is ','\u001b[0m\n",
      "\u001b[35m[2020-05-10:11:54:42:INFO] Sniff delimiter as ','\u001b[0m\n",
      "\u001b[35m[2020-05-10:11:54:42:INFO] Determined delimiter of CSV input is ','\u001b[0m\n",
      "\u001b[35m[2020-05-10:11:54:42:INFO] Sniff delimiter as ','\u001b[0m\n",
      "\u001b[35m[2020-05-10:11:54:42:INFO] Determined delimiter of CSV input is ','\u001b[0m\n",
      "\u001b[35m[2020-05-10:11:54:42:INFO] Sniff delimiter as ','\u001b[0m\n",
      "\u001b[35m[2020-05-10:11:54:42:INFO] Determined delimiter of CSV input is ','\u001b[0m\n",
      "\u001b[34m[2020-05-10:11:54:45:INFO] Sniff delimiter as ','\u001b[0m\n",
      "\u001b[34m[2020-05-10:11:54:45:INFO] Determined delimiter of CSV input is ','\u001b[0m\n",
      "\u001b[35m[2020-05-10:11:54:45:INFO] Sniff delimiter as ','\u001b[0m\n",
      "\u001b[35m[2020-05-10:11:54:45:INFO] Determined delimiter of CSV input is ','\u001b[0m\n",
      "\u001b[34m[2020-05-10:11:54:46:INFO] Sniff delimiter as ','\u001b[0m\n",
      "\u001b[35m[2020-05-10:11:54:46:INFO] Sniff delimiter as ','\u001b[0m\n",
      "\u001b[34m[2020-05-10:11:54:46:INFO] Determined delimiter of CSV input is ','\u001b[0m\n",
      "\u001b[34m[2020-05-10:11:54:46:INFO] Sniff delimiter as ','\u001b[0m\n",
      "\u001b[34m[2020-05-10:11:54:46:INFO] Determined delimiter of CSV input is ','\u001b[0m\n",
      "\u001b[35m[2020-05-10:11:54:46:INFO] Determined delimiter of CSV input is ','\u001b[0m\n",
      "\u001b[35m[2020-05-10:11:54:46:INFO] Sniff delimiter as ','\u001b[0m\n",
      "\u001b[35m[2020-05-10:11:54:46:INFO] Determined delimiter of CSV input is ','\u001b[0m\n",
      "\u001b[34m[2020-05-10:11:54:47:INFO] Sniff delimiter as ','\u001b[0m\n",
      "\u001b[34m[2020-05-10:11:54:47:INFO] Determined delimiter of CSV input is ','\u001b[0m\n",
      "\u001b[34m[2020-05-10:11:54:47:INFO] Sniff delimiter as ','\u001b[0m\n",
      "\u001b[34m[2020-05-10:11:54:47:INFO] Determined delimiter of CSV input is ','\u001b[0m\n",
      "\u001b[34m[2020-05-10:11:54:47:INFO] Sniff delimiter as ','\u001b[0m\n",
      "\u001b[35m[2020-05-10:11:54:47:INFO] Sniff delimiter as ','\u001b[0m\n",
      "\u001b[35m[2020-05-10:11:54:47:INFO] Determined delimiter of CSV input is ','\u001b[0m\n",
      "\u001b[35m[2020-05-10:11:54:47:INFO] Sniff delimiter as ','\u001b[0m\n",
      "\u001b[35m[2020-05-10:11:54:47:INFO] Determined delimiter of CSV input is ','\u001b[0m\n",
      "\u001b[35m[2020-05-10:11:54:47:INFO] Sniff delimiter as ','\u001b[0m\n",
      "\u001b[34m[2020-05-10:11:54:47:INFO] Determined delimiter of CSV input is ','\u001b[0m\n",
      "\u001b[35m[2020-05-10:11:54:47:INFO] Determined delimiter of CSV input is ','\u001b[0m\n",
      "\u001b[34m[2020-05-10:11:54:49:INFO] Sniff delimiter as ','\u001b[0m\n",
      "\u001b[34m[2020-05-10:11:54:49:INFO] Determined delimiter of CSV input is ','\u001b[0m\n",
      "\u001b[34m[2020-05-10:11:54:49:INFO] Sniff delimiter as ','\u001b[0m\n",
      "\u001b[34m[2020-05-10:11:54:49:INFO] Determined delimiter of CSV input is ','\u001b[0m\n",
      "\u001b[35m[2020-05-10:11:54:49:INFO] Sniff delimiter as ','\u001b[0m\n",
      "\u001b[35m[2020-05-10:11:54:49:INFO] Determined delimiter of CSV input is ','\u001b[0m\n",
      "\u001b[35m[2020-05-10:11:54:49:INFO] Sniff delimiter as ','\u001b[0m\n",
      "\u001b[35m[2020-05-10:11:54:49:INFO] Determined delimiter of CSV input is ','\u001b[0m\n",
      "\u001b[34m[2020-05-10:11:54:49:INFO] Sniff delimiter as ','\u001b[0m\n",
      "\u001b[34m[2020-05-10:11:54:49:INFO] Determined delimiter of CSV input is ','\u001b[0m\n",
      "\u001b[35m[2020-05-10:11:54:49:INFO] Sniff delimiter as ','\u001b[0m\n",
      "\u001b[35m[2020-05-10:11:54:49:INFO] Determined delimiter of CSV input is ','\u001b[0m\n",
      "\u001b[34m[2020-05-10:11:54:51:INFO] Sniff delimiter as ','\u001b[0m\n",
      "\u001b[34m[2020-05-10:11:54:51:INFO] Determined delimiter of CSV input is ','\u001b[0m\n",
      "\u001b[34m[2020-05-10:11:54:51:INFO] Sniff delimiter as ','\u001b[0m\n",
      "\u001b[34m[2020-05-10:11:54:51:INFO] Determined delimiter of CSV input is ','\u001b[0m\n",
      "\u001b[35m[2020-05-10:11:54:51:INFO] Sniff delimiter as ','\u001b[0m\n",
      "\u001b[35m[2020-05-10:11:54:51:INFO] Determined delimiter of CSV input is ','\u001b[0m\n",
      "\u001b[35m[2020-05-10:11:54:51:INFO] Sniff delimiter as ','\u001b[0m\n",
      "\u001b[35m[2020-05-10:11:54:51:INFO] Determined delimiter of CSV input is ','\u001b[0m\n",
      "\u001b[34m[2020-05-10:11:54:51:INFO] Sniff delimiter as ','\u001b[0m\n",
      "\u001b[34m[2020-05-10:11:54:51:INFO] Determined delimiter of CSV input is ','\u001b[0m\n",
      "\u001b[34m[2020-05-10:11:54:51:INFO] Sniff delimiter as ','\u001b[0m\n",
      "\u001b[34m[2020-05-10:11:54:51:INFO] Determined delimiter of CSV input is ','\u001b[0m\n",
      "\u001b[35m[2020-05-10:11:54:51:INFO] Sniff delimiter as ','\u001b[0m\n",
      "\u001b[35m[2020-05-10:11:54:51:INFO] Determined delimiter of CSV input is ','\u001b[0m\n",
      "\u001b[35m[2020-05-10:11:54:51:INFO] Sniff delimiter as ','\u001b[0m\n",
      "\u001b[35m[2020-05-10:11:54:51:INFO] Determined delimiter of CSV input is ','\u001b[0m\n",
      "\u001b[34m[2020-05-10:11:54:53:INFO] Sniff delimiter as ','\u001b[0m\n",
      "\u001b[34m[2020-05-10:11:54:53:INFO] Determined delimiter of CSV input is ','\u001b[0m\n",
      "\u001b[35m[2020-05-10:11:54:53:INFO] Sniff delimiter as ','\u001b[0m\n",
      "\u001b[35m[2020-05-10:11:54:53:INFO] Determined delimiter of CSV input is ','\u001b[0m\n",
      "\u001b[34m[2020-05-10:11:54:53:INFO] Sniff delimiter as ','\u001b[0m\n",
      "\u001b[34m[2020-05-10:11:54:53:INFO] Determined delimiter of CSV input is ','\u001b[0m\n",
      "\u001b[35m[2020-05-10:11:54:53:INFO] Sniff delimiter as ','\u001b[0m\n",
      "\u001b[35m[2020-05-10:11:54:53:INFO] Determined delimiter of CSV input is ','\u001b[0m\n"
     ]
    },
    {
     "name": "stdout",
     "output_type": "stream",
     "text": [
      "\u001b[34m[2020-05-10:11:54:53:INFO] Sniff delimiter as ','\u001b[0m\n",
      "\u001b[34m[2020-05-10:11:54:53:INFO] Determined delimiter of CSV input is ','\u001b[0m\n",
      "\u001b[35m[2020-05-10:11:54:53:INFO] Sniff delimiter as ','\u001b[0m\n",
      "\u001b[35m[2020-05-10:11:54:53:INFO] Determined delimiter of CSV input is ','\u001b[0m\n",
      "\u001b[34m[2020-05-10:11:54:56:INFO] Sniff delimiter as ','\u001b[0m\n",
      "\u001b[34m[2020-05-10:11:54:56:INFO] Determined delimiter of CSV input is ','\u001b[0m\n",
      "\u001b[34m[2020-05-10:11:54:56:INFO] Sniff delimiter as ','\u001b[0m\n",
      "\u001b[34m[2020-05-10:11:54:56:INFO] Determined delimiter of CSV input is ','\u001b[0m\n",
      "\u001b[34m[2020-05-10:11:54:56:INFO] Sniff delimiter as ','\u001b[0m\n",
      "\u001b[34m[2020-05-10:11:54:56:INFO] Determined delimiter of CSV input is ','\u001b[0m\n",
      "\u001b[34m[2020-05-10:11:54:56:INFO] Sniff delimiter as ','\u001b[0m\n",
      "\u001b[34m[2020-05-10:11:54:56:INFO] Determined delimiter of CSV input is ','\u001b[0m\n",
      "\u001b[35m[2020-05-10:11:54:56:INFO] Sniff delimiter as ','\u001b[0m\n",
      "\u001b[35m[2020-05-10:11:54:56:INFO] Determined delimiter of CSV input is ','\u001b[0m\n",
      "\u001b[35m[2020-05-10:11:54:56:INFO] Sniff delimiter as ','\u001b[0m\n",
      "\u001b[35m[2020-05-10:11:54:56:INFO] Determined delimiter of CSV input is ','\u001b[0m\n",
      "\u001b[35m[2020-05-10:11:54:56:INFO] Sniff delimiter as ','\u001b[0m\n",
      "\u001b[35m[2020-05-10:11:54:56:INFO] Determined delimiter of CSV input is ','\u001b[0m\n",
      "\u001b[35m[2020-05-10:11:54:56:INFO] Sniff delimiter as ','\u001b[0m\n",
      "\u001b[35m[2020-05-10:11:54:56:INFO] Determined delimiter of CSV input is ','\u001b[0m\n",
      "\u001b[34m[2020-05-10:11:54:58:INFO] Sniff delimiter as ','\u001b[0m\n",
      "\u001b[34m[2020-05-10:11:54:58:INFO] Determined delimiter of CSV input is ','\u001b[0m\n",
      "\u001b[35m[2020-05-10:11:54:58:INFO] Sniff delimiter as ','\u001b[0m\n",
      "\u001b[35m[2020-05-10:11:54:58:INFO] Determined delimiter of CSV input is ','\u001b[0m\n",
      "\n"
     ]
    }
   ],
   "source": [
    "xgb_transformer.wait()"
   ]
  },
  {
   "cell_type": "markdown",
   "metadata": {},
   "source": [
    "Now the transform job has executed and the result, the estimated sentiment of each review, has been saved on S3. Since we would rather work on this file locally we can perform a bit of notebook magic to copy the file to the `data_dir`."
   ]
  },
  {
   "cell_type": "code",
   "execution_count": 27,
   "metadata": {},
   "outputs": [
    {
     "name": "stdout",
     "output_type": "stream",
     "text": [
      "Completed 256.0 KiB/370.0 KiB (3.8 MiB/s) with 1 file(s) remaining\r",
      "Completed 370.0 KiB/370.0 KiB (5.3 MiB/s) with 1 file(s) remaining\r",
      "download: s3://sagemaker-eu-central-1-293973958717/xgboost-2020-05-10-11-51-07-960/test.csv.out to ../data/sentiment_web_app/test.csv.out\r\n"
     ]
    }
   ],
   "source": [
    "!aws s3 cp --recursive $xgb_transformer.output_path $data_dir"
   ]
  },
  {
   "cell_type": "markdown",
   "metadata": {},
   "source": [
    "The last step is now to read in the output from our model, convert the output to something a little more usable, in this case we want the sentiment to be either `1` (positive) or `0` (negative), and then compare to the ground truth labels."
   ]
  },
  {
   "cell_type": "code",
   "execution_count": 28,
   "metadata": {},
   "outputs": [],
   "source": [
    "predictions = pd.read_csv(os.path.join(data_dir, 'test.csv.out'), header=None)\n",
    "predictions = [round(num) for num in predictions.squeeze().values]"
   ]
  },
  {
   "cell_type": "code",
   "execution_count": 29,
   "metadata": {},
   "outputs": [
    {
     "data": {
      "text/plain": [
       "0.86172"
      ]
     },
     "execution_count": 29,
     "metadata": {},
     "output_type": "execute_result"
    }
   ],
   "source": [
    "from sklearn.metrics import accuracy_score\n",
    "accuracy_score(test_y, predictions)"
   ]
  },
  {
   "cell_type": "markdown",
   "metadata": {},
   "source": [
    "## Step 6: Deploying the model\n",
    "\n",
    "Once we construct and fit our model, SageMaker stores the resulting model artifacts and we can use those to deploy an endpoint (inference code). To see this, look in the SageMaker console and you should see that a model has been created along with a link to the S3 location where the model artifacts have been stored.\n",
    "\n",
    "Deploying an endpoint is a lot like training the model with a few important differences. The first is that a deployed model doesn't change the model artifacts, so as you send it various testing instances the model won't change. Another difference is that since we aren't performing a fixed computation, as we were in the training step or while performing a batch transform, the compute instance that gets started stays running until we tell it to stop. This is important to note as if we forget and leave it running we will be charged the entire time.\n",
    "\n",
    "In other words **If you are no longer using a deployed endpoint, shut it down!**"
   ]
  },
  {
   "cell_type": "code",
   "execution_count": 30,
   "metadata": {},
   "outputs": [
    {
     "name": "stderr",
     "output_type": "stream",
     "text": [
      "WARNING:sagemaker:Using already existing model: xgboost-2020-05-10-11-42-57-801\n"
     ]
    },
    {
     "name": "stdout",
     "output_type": "stream",
     "text": [
      "-------------!"
     ]
    }
   ],
   "source": [
    "xgb_predictor = xgb.deploy(initial_instance_count = 1, instance_type = 'ml.m4.xlarge')"
   ]
  },
  {
   "cell_type": "markdown",
   "metadata": {},
   "source": [
    "### Testing the model (again)\n",
    "\n",
    "Now that we have deployed our endpoint, we can send the testing data to it and get back the inference results. We already did this earlier using the batch transform functionality of SageMaker, however, we will test our model again using the newly deployed endpoint so that we can make sure that it works properly and to get a bit of a feel for how the endpoint works.\n",
    "\n",
    "When using the created endpoint it is important to know that we are limited in the amount of information we can send in each call so we need to break the testing data up into chunks and then send each chunk. Also, we need to serialize our data before we send it to the endpoint to ensure that our data is transmitted properly. Fortunately, SageMaker can do the serialization part for us provided we tell it the format of our data."
   ]
  },
  {
   "cell_type": "code",
   "execution_count": 31,
   "metadata": {},
   "outputs": [],
   "source": [
    "from sagemaker.predictor import csv_serializer\n",
    "\n",
    "# We need to tell the endpoint what format the data we are sending is in so that SageMaker can perform the serialization.\n",
    "xgb_predictor.content_type = 'text/csv'\n",
    "xgb_predictor.serializer = csv_serializer"
   ]
  },
  {
   "cell_type": "code",
   "execution_count": 32,
   "metadata": {},
   "outputs": [],
   "source": [
    "# We split the data into chunks and send each chunk seperately, accumulating the results.\n",
    "\n",
    "def predict(data, rows=512):\n",
    "    split_array = np.array_split(data, int(data.shape[0] / float(rows) + 1))\n",
    "    predictions = ''\n",
    "    for array in split_array:\n",
    "        predictions = ','.join([predictions, xgb_predictor.predict(array).decode('utf-8')])\n",
    "    \n",
    "    return np.fromstring(predictions[1:], sep=',')"
   ]
  },
  {
   "cell_type": "code",
   "execution_count": 33,
   "metadata": {},
   "outputs": [],
   "source": [
    "test_X = pd.read_csv(os.path.join(data_dir, 'test.csv'), header=None).values\n",
    "\n",
    "predictions = predict(test_X)\n",
    "predictions = [round(num) for num in predictions]"
   ]
  },
  {
   "cell_type": "markdown",
   "metadata": {},
   "source": [
    "Lastly, we check to see what the accuracy of our model is."
   ]
  },
  {
   "cell_type": "code",
   "execution_count": 34,
   "metadata": {},
   "outputs": [
    {
     "data": {
      "text/plain": [
       "0.86172"
      ]
     },
     "execution_count": 34,
     "metadata": {},
     "output_type": "execute_result"
    }
   ],
   "source": [
    "from sklearn.metrics import accuracy_score\n",
    "accuracy_score(test_y, predictions)"
   ]
  },
  {
   "cell_type": "markdown",
   "metadata": {},
   "source": [
    "And the results here should agree with the model testing that we did earlier using the batch transform job.\n",
    "\n",
    "### Cleaning up\n",
    "\n",
    "Now that we've determined that deploying our model works as expected, we are going to shut it down. Remember that the longer the endpoint is left running, the greater the cost and since we have a bit more work to do before we are able to use our endpoint with our simple web app, we should shut everything down."
   ]
  },
  {
   "cell_type": "code",
   "execution_count": null,
   "metadata": {},
   "outputs": [],
   "source": [
    "xgb_predictor.delete_endpoint()"
   ]
  },
  {
   "cell_type": "markdown",
   "metadata": {},
   "source": [
    "## Step 7: Putting our model to work\n",
    "\n",
    "As we've mentioned a few times now, our goal is to have our model deployed and then access it using a very simple web app. The intent is for this web app to take some user submitted data (a review), send it off to our endpoint (the model) and then display the result.\n",
    "\n",
    "However, there is a small catch. Currently the only way we can access the endpoint to send it data is using the SageMaker API. We can, if we wish, expose the actual URL that our model's endpoint is receiving data from, however, if we just send it data ourselves we will not get anything in return. This is because the endpoint created by SageMaker requires the entity accessing it have the correct permissions. So, we would need to somehow authenticate our web app with AWS.\n",
    "\n",
    "Having a website that authenticates to AWS seems a bit beyond the scope of this lesson so we will opt for an alternative approach. Namely, we will create a new endpoint which does not require authentication and which acts as a proxy for the SageMaker endpoint.\n",
    "\n",
    "As an additional constraint, we will try to avoid doing any data processing in the web app itself. Remember that when we constructed and tested our model we started with a movie review, then we simplified it by removing any html formatting and punctuation, then we constructed a bag of words embedding and the resulting vector is what we sent to our model. All of this needs to be done to our user input as well.\n",
    "\n",
    "Fortunately we can do all of this data processing in the backend, using Amazon's Lambda service.\n",
    "\n",
    "<img src=\"Web App Diagram.svg\">\n",
    "\n",
    "The diagram above gives an overview of how the various services will work together. On the far right is the model which we trained above and which will be deployed using SageMaker. On the far left is our web app that collects a user's movie review, sends it off and expects a positive or negative sentiment in return.\n",
    "\n",
    "In the middle is where some of the magic happens. We will construct a Lambda function, which you can think of as a straightforward Python function that can be executed whenever a specified event occurs. This Python function will do the data processing we need to perform on a user submitted review. In addition, we will give this function permission to send and recieve data from a SageMaker endpoint.\n",
    "\n",
    "Lastly, the method we will use to execute the Lambda function is a new endpoint that we will create using API Gateway. This endpoint will be a url that listens for data to be sent to it. Once it gets some data it will pass that data on to the Lambda function and then return whatever the Lambda function returns. Essentially it will act as an interface that lets our web app communicate with the Lambda function.\n",
    "\n",
    "### Processing a single review\n",
    "\n",
    "For now, suppose we are given a movie review by our user in the form of a string, like so:"
   ]
  },
  {
   "cell_type": "code",
   "execution_count": 35,
   "metadata": {},
   "outputs": [],
   "source": [
    "test_review = \"Nothing but a disgusting materialistic pageant of glistening abed remote control greed zombies, totally devoid of any heart or heat. A romantic comedy that has zero romantic chemestry and zero laughs!\""
   ]
  },
  {
   "cell_type": "markdown",
   "metadata": {},
   "source": [
    "How do we go from this string to the bag of words feature vector that is expected by our model?\n",
    "\n",
    "If we recall at the beginning of this notebook, the first step is to remove any unnecessary characters using the `review_to_words` method. Remember that we intentionally did this in a very simplistic way. This is because we are going to have to copy this method to our (eventual) Lambda function (we will go into more detail later) and this means it needs to be rather simplistic."
   ]
  },
  {
   "cell_type": "code",
   "execution_count": 36,
   "metadata": {},
   "outputs": [
    {
     "name": "stdout",
     "output_type": "stream",
     "text": [
      "nothing but a disgusting materialistic pageant of glistening abed remote control greed zombies totally devoid of any heart or heat a romantic comedy that has zero romantic chemestry and zero laughs\n"
     ]
    }
   ],
   "source": [
    "test_words = review_to_words(test_review)\n",
    "print(test_words)"
   ]
  },
  {
   "cell_type": "markdown",
   "metadata": {},
   "source": [
    "Next, we need to construct a bag of words embedding of the `test_words` string. To do this, remember that a bag of words embedding uses a `vocabulary` consisting of the most frequently appearing words in a set of documents. Then, for each word in the vocabulary we record the number of times that word appears in `test_words`. We constructed the `vocabulary` earlier using the training set for our problem so encoding `test_words` is relatively straightforward."
   ]
  },
  {
   "cell_type": "code",
   "execution_count": 37,
   "metadata": {},
   "outputs": [],
   "source": [
    "def bow_encoding(words, vocabulary):\n",
    "    bow = [0] * len(vocabulary) # Start by setting the count for each word in the vocabulary to zero.\n",
    "    for word in words.split():  # For each word in the string\n",
    "        if word in vocabulary:  # If the word is one that occurs in the vocabulary, increase its count.\n",
    "            bow[vocabulary[word]] += 1\n",
    "    return bow"
   ]
  },
  {
   "cell_type": "code",
   "execution_count": 38,
   "metadata": {},
   "outputs": [
    {
     "name": "stdout",
     "output_type": "stream",
     "text": [
      "[0, 0, 0, 0, 0, 0, 0, 0, 0, 0, 0, 0, 0, 0, 0, 0, 0, 0, 0, 0, 0, 0, 0, 0, 0, 0, 0, 0, 0, 0, 0, 0, 0, 0, 0, 0, 0, 0, 0, 0, 0, 0, 0, 0, 0, 0, 0, 0, 0, 0, 0, 0, 0, 0, 0, 0, 0, 0, 0, 0, 0, 0, 0, 0, 0, 0, 0, 0, 0, 0, 0, 0, 0, 0, 0, 0, 0, 0, 0, 0, 0, 0, 0, 0, 0, 0, 0, 0, 0, 0, 0, 0, 0, 0, 0, 0, 0, 0, 0, 0, 0, 0, 0, 0, 0, 0, 0, 0, 0, 0, 0, 0, 0, 0, 0, 0, 0, 0, 0, 0, 0, 0, 0, 0, 0, 0, 0, 0, 0, 0, 0, 0, 0, 0, 0, 0, 0, 0, 0, 0, 0, 0, 0, 0, 0, 0, 0, 0, 0, 0, 0, 0, 0, 0, 0, 0, 0, 0, 0, 0, 0, 0, 0, 0, 0, 0, 0, 0, 0, 0, 0, 0, 0, 0, 0, 0, 0, 0, 0, 0, 0, 0, 0, 0, 0, 0, 0, 0, 0, 0, 0, 0, 0, 0, 0, 0, 0, 0, 0, 0, 0, 0, 0, 0, 0, 0, 0, 0, 0, 0, 0, 0, 0, 0, 0, 0, 0, 0, 0, 0, 0, 0, 0, 0, 0, 0, 1, 0, 0, 0, 0, 0, 0, 0, 0, 0, 0, 0, 0, 0, 0, 0, 0, 0, 0, 0, 0, 0, 0, 0, 0, 0, 0, 0, 0, 0, 1, 0, 0, 0, 0, 0, 0, 0, 0, 0, 0, 0, 0, 0, 0, 0, 0, 0, 0, 0, 0, 0, 0, 0, 0, 0, 0, 0, 0, 0, 0, 0, 0, 0, 0, 0, 0, 0, 0, 0, 0, 0, 0, 0, 0, 0, 0, 0, 0, 0, 0, 0, 0, 0, 0, 0, 0, 0, 0, 0, 0, 0, 0, 0, 0, 0, 0, 0, 0, 0, 0, 0, 0, 0, 0, 0, 0, 0, 0, 0, 0, 0, 0, 0, 0, 0, 0, 0, 0, 0, 0, 0, 0, 0, 0, 0, 0, 0, 0, 0, 0, 0, 0, 0, 0, 0, 0, 0, 0, 0, 0, 0, 0, 0, 0, 0, 0, 0, 0, 0, 0, 0, 0, 0, 0, 0, 0, 0, 0, 0, 0, 0, 0, 0, 0, 0, 0, 0, 0, 0, 0, 0, 0, 0, 0, 0, 0, 0, 0, 0, 0, 0, 0, 0, 0, 0, 0, 0, 0, 0, 0, 0, 0, 0, 0, 0, 0, 0, 0, 0, 0, 0, 0, 0, 0, 0, 0, 0, 0, 0, 0, 0, 0, 0, 0, 0, 0, 0, 0, 0, 0, 0, 0, 0, 0, 0, 0, 0, 0, 0, 0, 0, 0, 0, 0, 0, 0, 0, 0, 0, 0, 0, 0, 0, 0, 0, 0, 0, 0, 0, 0, 0, 0, 0, 0, 0, 0, 0, 0, 0, 0, 0, 0, 0, 0, 0, 0, 0, 0, 0, 0, 0, 0, 0, 0, 0, 0, 0, 0, 0, 0, 0, 0, 0, 0, 0, 0, 0, 0, 0, 0, 0, 0, 0, 0, 0, 0, 0, 0, 0, 0, 0, 0, 0, 0, 0, 0, 0, 0, 0, 0, 0, 0, 0, 0, 0, 0, 0, 0, 0, 0, 0, 0, 0, 0, 0, 0, 0, 0, 0, 0, 0, 0, 0, 0, 0, 0, 0, 0, 0, 0, 0, 0, 0, 0, 0, 0, 0, 0, 0, 0, 0, 0, 0, 0, 0, 0, 0, 0, 0, 0, 0, 0, 0, 0, 0, 0, 0, 0, 0, 0, 0, 0, 0, 0, 0, 0, 0, 0, 0, 0, 0, 0, 0, 0, 0, 0, 0, 0, 0, 0, 0, 0, 0, 0, 0, 0, 0, 0, 0, 0, 0, 0, 0, 0, 0, 0, 0, 0, 0, 1, 0, 0, 0, 0, 0, 0, 0, 0, 0, 0, 0, 0, 0, 0, 0, 0, 0, 0, 0, 0, 0, 0, 0, 0, 0, 0, 0, 0, 0, 0, 0, 0, 0, 0, 0, 0, 0, 0, 0, 0, 0, 0, 0, 0, 0, 0, 0, 0, 0, 0, 0, 0, 0, 0, 0, 0, 0, 0, 0, 0, 0, 0, 0, 0, 0, 0, 0, 0, 0, 0, 0, 0, 0, 0, 0, 0, 0, 0, 0, 0, 0, 0, 0, 0, 0, 0, 0, 0, 0, 0, 0, 0, 0, 0, 0, 0, 0, 0, 0, 0, 0, 0, 0, 0, 0, 0, 0, 0, 0, 0, 0, 0, 0, 0, 0, 0, 0, 0, 0, 0, 0, 0, 0, 0, 0, 0, 0, 0, 0, 0, 0, 0, 0, 0, 0, 0, 0, 0, 0, 0, 0, 0, 0, 0, 0, 0, 0, 0, 0, 0, 0, 0, 0, 0, 0, 0, 0, 0, 0, 0, 0, 0, 0, 0, 0, 0, 0, 0, 0, 0, 0, 0, 0, 0, 0, 0, 0, 0, 0, 0, 0, 0, 0, 0, 0, 0, 0, 0, 0, 0, 0, 0, 0, 0, 0, 0, 0, 0, 0, 0, 0, 0, 0, 0, 0, 0, 0, 0, 0, 0, 0, 0, 0, 0, 0, 0, 0, 0, 0, 0, 0, 0, 0, 0, 0, 0, 0, 0, 0, 0, 0, 0, 0, 0, 0, 0, 0, 0, 0, 0, 0, 0, 0, 0, 0, 0, 0, 0, 0, 0, 0, 0, 0, 1, 0, 0, 0, 0, 0, 0, 0, 0, 0, 0, 0, 0, 0, 0, 0, 0, 0, 0, 0, 0, 0, 0, 0, 0, 0, 0, 0, 0, 0, 0, 0, 0, 0, 0, 0, 0, 0, 0, 0, 0, 0, 0, 0, 0, 0, 0, 0, 0, 0, 0, 0, 0, 0, 0, 0, 0, 0, 0, 0, 0, 0, 0, 0, 0, 0, 0, 0, 0, 0, 0, 0, 0, 0, 0, 0, 0, 0, 0, 0, 0, 0, 0, 0, 0, 0, 0, 1, 0, 0, 0, 0, 0, 0, 0, 0, 0, 0, 0, 0, 0, 0, 0, 0, 0, 0, 0, 0, 0, 0, 0, 0, 0, 0, 0, 0, 0, 0, 0, 0, 0, 0, 0, 0, 0, 0, 0, 0, 0, 0, 0, 0, 0, 0, 0, 0, 0, 0, 0, 0, 0, 0, 0, 0, 0, 0, 0, 0, 0, 0, 0, 0, 0, 0, 0, 0, 0, 0, 0, 0, 0, 0, 0, 0, 0, 0, 0, 0, 0, 0, 0, 0, 0, 0, 0, 0, 0, 0, 0, 0, 0, 0, 0, 0, 0, 0, 0, 0, 0, 0, 0, 0, 0, 0, 0, 0, 0, 0, 0, 0, 0, 0, 0, 0, 0, 0, 0, 0, 0, 0, 0, 0, 0, 0, 0, 0, 0, 0, 0, 0, 0, 0, 0, 0, 0, 0, 0, 0, 0, 0, 0, 0, 0, 0, 0, 0, 0, 0, 0, 0, 0, 0, 0, 0, 0, 0, 0, 0, 0, 0, 0, 0, 0, 0, 0, 0, 0, 0, 0, 0, 0, 0, 0, 0, 0, 0, 0, 0, 0, 0, 0, 0, 0, 0, 0, 0, 0, 0, 0, 0, 0, 0, 0, 0, 0, 0, 0, 0, 0, 0, 0, 0, 0, 0, 0, 0, 0, 0, 0, 0, 0, 0, 0, 0, 0, 0, 0, 0, 0, 0, 0, 0, 0, 0, 0, 0, 0, 0, 0, 0, 0, 0, 0, 0, 0, 0, 0, 0, 0, 0, 0, 0, 0, 0, 0, 0, 0, 0, 0, 0, 1, 0, 0, 0, 0, 0, 0, 0, 0, 0, 0, 0, 0, 0, 0, 0, 0, 0, 0, 0, 0, 0, 0, 0, 0, 0, 0, 0, 0, 0, 0, 0, 0, 0, 0, 0, 0, 0, 0, 0, 0, 0, 0, 0, 0, 0, 0, 0, 0, 0, 0, 0, 0, 0, 0, 0, 1, 0, 0, 0, 0, 0, 0, 0, 0, 0, 0, 0, 0, 0, 0, 0, 0, 0, 0, 0, 0, 0, 0, 0, 0, 0, 0, 0, 0, 0, 0, 0, 0, 0, 0, 0, 0, 0, 0, 0, 0, 0, 0, 0, 0, 0, 0, 0, 0, 0, 0, 0, 0, 0, 0, 0, 0, 0, 0, 0, 0, 0, 0, 0, 0, 0, 0, 0, 0, 0, 0, 0, 0, 0, 0, 0, 0, 0, 0, 0, 0, 0, 0, 0, 0, 0, 0, 0, 0, 0, 0, 0, 0, 0, 0, 0, 0, 0, 0, 0, 0, 0, 0, 0, 0, 0, 0, 0, 0, 0, 0, 0, 0, 0, 0, 0, 0, 0, 0, 0, 0, 0, 0, 0, 0, 0, 0, 0, 0, 0, 0, 0, 0, 0, 0, 0, 0, 0, 0, 0, 0, 0, 0, 0, 0, 0, 0, 0, 0, 0, 0, 0, 0, 0, 0, 0, 0, 0, 0, 0, 0, 0, 0, 0, 0, 0, 0, 0, 0, 0, 0, 0, 0, 0, 0, 0, 0, 0, 0, 0, 0, 0, 0, 0, 0, 0, 0, 0, 0, 0, 0, 0, 0, 0, 0, 0, 0, 0, 0, 0, 0, 0, 0, 0, 0, 0, 0, 0, 0, 0, 0, 0, 0, 0, 0, 0, 0, 0, 0, 0, 0, 0, 0, 0, 0, 0, 0, 0, 0, 0, 0, 0, 0, 0, 0, 0, 0, 0, 0, 0, 0, 0, 0, 0, 0, 0, 0, 0, 0, 0, 0, 0, 0, 0, 0, 0, 0, 0, 0, 0, 0, 0, 0, 0, 0, 0, 0, 0, 0, 0, 0, 0, 0, 0, 0, 0, 0, 0, 0, 0, 0, 0, 0, 0, 0, 0, 0, 0, 0, 0, 0, 0, 0, 0, 0, 0, 0, 0, 0, 0, 0, 0, 0, 0, 0, 0, 0, 0, 0, 0, 0, 0, 0, 0, 0, 0, 0, 0, 0, 0, 0, 0, 0, 0, 0, 0, 0, 0, 0, 0, 0, 0, 0, 0, 0, 0, 0, 0, 0, 0, 0, 0, 0, 0, 0, 0, 0, 0, 0, 0, 0, 0, 0, 0, 0, 0, 0, 0, 0, 0, 0, 0, 0, 0, 0, 0, 0, 0, 0, 0, 0, 0, 0, 0, 0, 0, 0, 0, 0, 0, 0, 0, 0, 0, 0, 0, 0, 0, 0, 0, 0, 0, 0, 0, 0, 0, 0, 0, 0, 0, 0, 0, 0, 0, 0, 0, 0, 0, 0, 0, 0, 0, 0, 0, 0, 0, 0, 0, 0, 0, 0, 0, 0, 0, 0, 0, 0, 0, 0, 0, 0, 0, 0, 0, 0, 0, 0, 0, 0, 0, 0, 0, 0, 0, 0, 0, 0, 0, 0, 0, 0, 0, 0, 0, 0, 0, 0, 0, 0, 0, 0, 0, 0, 0, 0, 0, 0, 0, 0, 0, 0, 0, 0, 0, 0, 0, 0, 0, 0, 0, 0, 0, 0, 0, 0, 0, 0, 0, 0, 0, 0, 0, 0, 0, 0, 0, 0, 0, 0, 0, 0, 0, 0, 0, 0, 0, 0, 0, 0, 0, 0, 0, 0, 0, 0, 0, 0, 0, 0, 0, 0, 0, 0, 0, 0, 0, 0, 0, 0, 0, 0, 0, 0, 0, 0, 0, 0, 0, 0, 0, 0, 0, 0, 0, 0, 0, 0, 0, 0, 0, 0, 0, 0, 0, 0, 0, 0, 0, 0, 0, 0, 0, 0, 0, 0, 0, 0, 0, 0, 0, 0, 0, 0, 0, 0, 0, 0, 0, 0, 0, 0, 0, 0, 0, 0, 0, 0, 0, 0, 0, 0, 0, 0, 0, 0, 0, 0, 0, 0, 0, 0, 0, 0, 0, 0, 0, 0, 0, 0, 0, 0, 0, 0, 0, 0, 0, 0, 0, 0, 0, 0, 0, 0, 0, 0, 0, 0, 0, 0, 0, 0, 0, 0, 0, 0, 0, 0, 0, 0, 0, 0, 0, 0, 0, 0, 0, 0, 0, 0, 0, 0, 0, 0, 0, 0, 0, 0, 0, 0, 0, 0, 0, 0, 0, 0, 0, 0, 0, 0, 0, 0, 0, 0, 0, 0, 0, 0, 0, 0, 0, 0, 0, 1, 0, 0, 0, 0, 0, 0, 0, 0, 0, 0, 0, 0, 0, 0, 0, 0, 0, 0, 0, 0, 0, 0, 0, 0, 0, 0, 0, 0, 0, 0, 0, 0, 0, 0, 0, 0, 0, 0, 0, 0, 0, 0, 0, 0, 0, 0, 0, 0, 0, 0, 0, 0, 0, 0, 0, 0, 0, 0, 0, 0, 0, 0, 0, 0, 0, 0, 0, 0, 0, 0, 0, 0, 0, 0, 1, 0, 0, 0, 0, 0, 0, 0, 0, 0, 0, 0, 0, 0, 0, 0, 0, 0, 0, 0, 0, 1, 0, 0, 1, 0, 0, 0, 0, 0, 0, 0, 0, 0, 0, 0, 0, 0, 0, 0, 0, 0, 0, 0, 0, 0, 0, 0, 0, 0, 0, 0, 0, 0, 0, 0, 0, 0, 0, 0, 0, 0, 0, 0, 0, 0, 0, 0, 0, 0, 0, 0, 0, 0, 0, 0, 0, 0, 0, 0, 0, 0, 0, 0, 0, 0, 0, 0, 0, 0, 0, 0, 0, 0, 0, 0, 0, 0, 0, 0, 0, 0, 0, 0, 0, 0, 0, 0, 0, 0, 0, 0, 0, 0, 0, 0, 0, 0, 0, 0, 0, 0, 0, 0, 0, 0, 0, 0, 0, 0, 0, 0, 0, 0, 0, 0, 0, 0, 0, 0, 0, 0, 0, 0, 0, 0, 0, 0, 0, 0, 0, 0, 0, 0, 0, 0, 0, 0, 0, 0, 0, 0, 0, 0, 0, 0, 0, 0, 0, 0, 0, 0, 0, 0, 0, 0, 0, 0, 0, 0, 0, 0, 0, 0, 0, 0, 0, 0, 0, 0, 0, 0, 0, 0, 0, 0, 0, 0, 0, 0, 0, 0, 0, 0, 0, 0, 0, 0, 0, 0, 0, 0, 0, 0, 0, 0, 0, 0, 0, 0, 0, 0, 0, 0, 0, 0, 0, 0, 0, 0, 0, 0, 0, 0, 0, 0, 0, 0, 0, 0, 0, 0, 0, 0, 0, 0, 0, 0, 0, 0, 0, 0, 0, 0, 0, 0, 0, 0, 0, 0, 0, 0, 0, 0, 0, 0, 0, 0, 0, 0, 0, 0, 0, 0, 0, 0, 0, 0, 0, 0, 0, 0, 0, 0, 0, 0, 0, 0, 0, 0, 0, 0, 0, 0, 0, 0, 0, 0, 0, 0, 0, 0, 0, 0, 0, 0, 0, 0, 0, 0, 0, 0, 0, 0, 0, 0, 0, 0, 0, 0, 0, 0, 0, 0, 0, 0, 0, 0, 0, 0, 0, 0, 0, 0, 0, 0, 0, 0, 0, 0, 0, 0, 0, 0, 0, 0, 0, 0, 0, 0, 0, 0, 0, 0, 0, 0, 0, 0, 0, 0, 0, 0, 0, 0, 0, 0, 0, 0, 0, 0, 0, 0, 0, 0, 0, 0, 0, 0, 0, 0, 0, 0, 0, 0, 0, 0, 0, 0, 0, 0, 0, 0, 0, 0, 0, 0, 0, 0, 0, 0, 0, 0, 0, 0, 0, 0, 0, 0, 0, 0, 0, 0, 0, 0, 0, 0, 0, 0, 0, 0, 0, 0, 0, 0, 0, 0, 0, 0, 0, 0, 0, 0, 0, 0, 0, 0, 0, 0, 0, 0, 0, 0, 0, 0, 0, 0, 0, 0, 0, 0, 0, 0, 0, 0, 0, 0, 0, 0, 0, 0, 0, 0, 0, 0, 0, 0, 0, 0, 0, 0, 0, 0, 0, 0, 0, 0, 0, 0, 0, 0, 0, 0, 0, 0, 0, 0, 0, 0, 0, 0, 0, 1, 0, 0, 0, 0, 0, 0, 0, 0, 0, 0, 0, 0, 0, 0, 0, 0, 0, 0, 0, 0, 0, 0, 0, 0, 0, 0, 0, 0, 0, 0, 0, 0, 0, 0, 0, 0, 0, 0, 0, 0, 0, 0, 0, 0, 0, 0, 0, 0, 0, 0, 0, 0, 0, 0, 0, 0, 0, 0, 0, 0, 0, 0, 0, 0, 0, 0, 0, 0, 0, 0, 0, 0, 0, 0, 0, 0, 0, 0, 0, 0, 0, 0, 0, 0, 0, 0, 0, 0, 0, 0, 0, 0, 0, 0, 0, 0, 0, 0, 0, 0, 0, 0, 0, 0, 0, 0, 0, 0, 0, 0, 0, 0, 0, 0, 0, 0, 0, 0, 0, 0, 0, 0, 0, 0, 0, 0, 0, 0, 0, 0, 0, 0, 0, 0, 0, 0, 0, 0, 0, 0, 0, 0, 0, 0, 0, 0, 0, 0, 0, 0, 0, 0, 0, 0, 0, 0, 0, 0, 0, 0, 0, 0, 0, 0, 0, 0, 0, 0, 0, 0, 0, 0, 0, 0, 0, 0, 0, 0, 0, 0, 0, 0, 0, 0, 0, 0, 0, 0, 0, 0, 0, 0, 0, 0, 0, 0, 0, 0, 0, 0, 0, 0, 0, 0, 0, 0, 0, 0, 0, 0, 0, 0, 0, 0, 0, 0, 0, 0, 0, 0, 0, 0, 0, 0, 0, 0, 0, 0, 0, 0, 0, 0, 0, 0, 0, 0, 0, 0, 0, 0, 0, 0, 0, 0, 0, 0, 0, 0, 0, 0, 0, 0, 0, 0, 0, 0, 0, 0, 0, 0, 0, 0, 0, 0, 0, 0, 0, 0, 0, 0, 0, 0, 0, 0, 0, 0, 0, 0, 0, 0, 0, 0, 0, 0, 0, 0, 0, 0, 0, 0, 0, 0, 0, 0, 0, 0, 0, 0, 0, 0, 0, 0, 0, 0, 0, 0, 0, 0, 0, 0, 0, 0, 0, 0, 0, 0, 0, 0, 0, 0, 0, 0, 0, 0, 0, 0, 0, 0, 0, 0, 0, 0, 0, 0, 0, 0, 0, 0, 0, 0, 0, 0, 0, 0, 0, 0, 0, 0, 0, 0, 0, 0, 0, 0, 0, 0, 0, 0, 0, 0, 0, 0, 0, 0, 0, 0, 0, 0, 0, 0, 0, 0, 0, 0, 0, 0, 0, 0, 0, 0, 0, 0, 0, 0, 0, 0, 0, 0, 0, 0, 0, 0, 0, 0, 0, 0, 0, 0, 0, 0, 0, 0, 0, 0, 0, 0, 0, 0, 0, 0, 0, 0, 0, 0, 0, 0, 0, 0, 0, 0, 0, 0, 0, 0, 0, 0, 0, 0, 0, 0, 0, 0, 0, 0, 0, 0, 0, 0, 0, 0, 0, 0, 0, 0, 0, 0, 0, 0, 0, 0, 0, 0, 0, 0, 0, 0, 0, 0, 0, 0, 0, 0, 0, 0, 0, 0, 0, 0, 0, 0, 0, 0, 0, 0, 0, 0, 0, 0, 0, 0, 0, 0, 0, 0, 0, 0, 0, 0, 0, 0, 0, 0, 0, 0, 0, 0, 0, 0, 0, 0, 0, 0, 0, 0, 0, 0, 0, 0, 0, 0, 0, 0, 1, 0, 0, 0, 0, 0, 0, 0, 0, 0, 0, 0, 0, 0, 0, 0, 0, 0, 0, 0, 0, 0, 0, 0, 0, 0, 0, 0, 0, 0, 0, 0, 0, 0, 0, 0, 2, 0, 0, 0, 0, 0, 0, 0, 0, 0, 0, 0, 0, 0, 0, 0, 0, 0, 0, 0, 0, 0, 0, 0, 0, 0, 0, 0, 0, 0, 0, 0, 0, 0, 0, 0, 0, 0, 0, 0, 0, 1, 0, 0, 0, 0, 0, 0, 0, 0, 0, 0, 0, 0, 0, 0, 0, 0, 0, 0, 0, 0, 0, 0, 0, 0, 0, 0, 0, 0, 0, 0, 0, 0, 0, 0, 0, 0, 0, 0, 0, 0, 0, 0, 0, 0, 0, 0, 0, 0, 0, 0, 0, 0, 0, 0, 0, 0, 0, 0, 0, 0, 0, 0, 0, 0, 0, 0, 0, 0, 0, 0, 0, 0, 0, 0, 0, 0, 0, 0, 0, 0, 0, 0, 0, 0, 0, 0, 0, 0, 0, 0, 0, 0, 0, 0, 0, 0, 0, 0, 0, 0, 0, 0, 0, 0, 0, 0, 0, 0, 0, 0, 0, 0, 0, 0, 0, 0, 0, 0, 0, 0, 0, 0, 0, 0, 0, 0, 0, 0, 0, 0, 0, 0, 0, 0, 0, 0, 0, 0, 0, 0, 0, 0, 0, 0, 0, 0, 0, 0, 0, 0, 0, 0, 0, 0, 0, 0, 0, 0, 0, 0, 0, 0, 0, 0, 0, 0, 0, 0, 0, 0, 0, 0, 0, 0, 0, 0, 0, 0, 0, 0, 0, 0, 0, 0, 0, 0, 0, 0, 0, 0, 0, 0, 0, 0, 0, 0, 0, 0, 0, 0, 0, 0, 0, 0, 0, 0, 0, 0, 0, 0, 0, 0, 0, 0, 0, 0, 0, 0, 0, 0, 0, 0, 0, 0, 0, 0, 0, 0, 0, 0, 0, 0, 0, 0, 0, 0, 0, 0, 0, 0, 0, 0, 0, 0, 0, 0, 0, 0, 0, 0, 0, 0, 0, 0, 0, 0, 0, 0, 0, 0, 0, 0, 0, 0, 0, 0, 0, 0, 0, 0, 0, 0, 0, 0, 0, 0, 0, 0, 0, 0, 0, 0, 0, 0, 0, 0, 0, 0, 0, 0, 0, 0, 0, 0, 0, 0, 0, 0, 0, 0, 0, 0, 0, 0, 0, 0, 0, 0, 0, 0, 0, 0, 0, 0, 0, 0, 0, 0, 0, 0, 0, 0, 0, 0, 0, 0, 0, 0, 0, 0, 0, 0, 0, 0, 0, 0, 0, 0, 0, 0, 0, 0, 0, 0, 0, 0, 0, 0, 0, 0, 0, 0, 0, 0, 0, 0, 0, 0, 0, 0, 0, 0, 0, 0, 0, 0, 0, 0, 0, 0, 0, 0, 0, 0, 0, 0, 0, 0, 0, 0, 0, 0, 0, 0, 0, 0, 0, 0, 0, 0, 0, 0, 0, 0, 0, 0, 0, 0, 0, 0, 0, 0, 0, 0, 0, 0, 0, 0, 0, 0, 0, 0, 0, 0, 0, 0, 0, 0, 0, 0, 0, 0, 0, 0, 0, 0, 0, 0, 0, 0, 0, 0, 0, 0, 0, 0, 0, 0, 0, 0, 0, 0, 0, 0, 0, 0, 0, 0, 0, 0, 0, 0, 0, 0, 0, 0, 0, 0, 0, 0, 0, 0, 0, 0, 0, 0, 0, 0, 0, 0, 0, 0, 0, 0, 0, 0, 0, 0, 0, 0, 0, 0, 0, 0, 0, 0, 0, 0, 0, 0, 0, 0, 0, 0, 0, 0, 0, 1, 0, 0, 0, 0, 0, 0, 0, 0, 0, 0, 0, 0, 0, 0, 0, 0, 0, 0, 0, 0, 0, 0, 0, 0, 0, 0, 0, 0, 0, 0, 0, 0, 0, 0, 0, 0, 0, 0, 0, 0, 0, 0, 0, 0, 0, 0, 0, 0, 0, 0, 0, 0, 0, 0, 0, 0, 0, 0, 0, 0, 0, 0, 0, 0, 0, 0, 0, 0, 0, 0, 0, 0, 0, 0, 0, 0, 0, 0, 0, 0, 0, 0, 0, 0, 0, 0, 0, 0, 0, 0, 0, 0, 0, 0, 0, 0, 0, 0, 0, 0, 0, 0, 0, 0, 0, 0, 0, 0, 0, 0, 2, 0, 0, 0, 0, 0, 0, 0, 0, 0, 0, 0, 0, 0, 0, 0, 0, 0, 0, 0, 0, 0, 0, 0, 0, 0, 0, 0, 0, 0, 0, 0, 0, 0, 0, 0, 0, 0, 0, 0, 0, 0, 0, 0, 0, 0, 0, 0, 0, 0, 0, 0, 0, 0, 0, 0, 0, 0, 0, 0, 0, 0, 0, 0, 0, 0, 0, 0, 0, 0, 0, 0, 0, 0, 0, 0, 0, 0, 0, 0, 0, 0, 0, 0, 0, 0, 0, 0, 0, 0, 0, 0, 0, 0, 0, 0, 0, 0, 0, 0, 0, 0, 0, 0, 0, 0, 0, 0, 0, 0, 0, 0, 0, 0, 0, 0, 0, 0, 0, 0, 0, 0, 0, 0, 0, 0, 0, 0, 0, 0, 0, 0, 0, 0, 0, 0, 0, 0, 0, 0, 0, 0, 0, 0, 0, 0, 0, 0, 0, 0, 0, 0, 0, 0, 0, 0, 0, 0, 0, 0, 0, 0, 0, 0, 0, 0, 0, 0, 0, 0, 0, 0, 0, 0, 0, 0, 0, 0, 0, 0, 0, 0, 0, 0, 0, 0, 0, 0, 0, 0, 0, 0, 0, 0, 0, 0, 0, 0, 0, 0, 0, 0, 0, 0, 0, 0, 0, 0, 0, 0, 0, 0, 0, 0, 0, 0, 0, 0, 0, 0, 0, 0, 0, 0, 0, 0, 0, 0, 0, 0, 0, 0, 0, 0, 0, 0, 0, 0, 0, 0, 0, 0, 0, 0, 0, 0, 0, 0, 0, 0, 0, 0, 0, 0, 0, 0, 0, 0, 0, 0, 0, 0, 0, 0, 0, 0, 0, 0, 0, 0, 0, 0, 0, 0, 0, 0, 0, 0, 0, 0, 0, 0, 0, 0, 0, 0, 0, 0, 0, 0, 0, 0, 0, 0, 0, 0, 0, 0, 0, 0, 0, 0, 0, 0, 0, 0, 0, 0, 0, 0, 0, 0, 0, 0, 0, 0, 0, 0, 0, 0, 0, 0, 0, 0, 0, 0, 0, 0, 0, 0, 0, 0, 0, 0, 0, 0, 0, 0, 0, 0, 0, 0, 0, 0, 0, 0, 0, 0, 0, 0, 0, 0, 0, 0, 0, 0, 0, 0, 0, 0, 0, 0, 0, 0, 0, 0, 0, 0, 0, 0, 0, 0, 0, 0, 0, 0, 0, 0, 0, 0, 0, 0, 0, 0, 0, 0, 0, 0, 0, 0, 0, 0, 0, 0, 0, 0, 0, 0, 0, 0, 0, 0, 0, 0, 0, 0, 0, 0, 0, 0, 0, 0, 0, 0, 0, 0, 0, 0, 0, 0, 0, 0, 0, 0, 0, 0, 0, 0, 0, 0, 0, 0, 0, 0, 0, 0, 0, 0, 0, 0, 0, 0, 0, 0, 0, 0, 0, 0, 0, 0, 0, 0, 0, 0, 0, 0, 0, 0, 0, 0, 0, 0, 0, 0, 0, 0, 0, 0, 0, 0, 0, 0, 0, 0, 0, 0, 0, 0, 0, 0, 0, 0, 0, 0, 0, 0, 0, 0, 0, 0, 0, 0, 0, 0, 0, 0, 0, 0, 0, 0, 0, 0, 0, 0, 0, 0, 0, 0, 0, 0, 0, 0, 0, 0, 0, 0, 0, 0, 0, 0, 0, 0, 0, 0, 0, 0, 0, 0, 0, 0, 0, 0, 0, 0, 0, 0, 0, 0, 0, 0, 0, 0, 0, 0, 0, 0, 0, 0, 0, 0, 0, 0, 0, 0, 0, 0, 0, 0, 0, 0, 0, 0, 0, 0, 0, 0, 0, 0, 0, 0, 0, 0, 0, 0, 0, 0, 0, 0, 0, 0, 0, 0, 0, 0, 0, 0, 0, 0, 0, 0, 0, 0, 0, 0, 0, 0, 0, 0, 0, 0, 0, 0, 0, 0, 0, 0, 0, 0, 0, 0, 0, 0, 0, 0, 0, 0, 0, 0, 0, 0, 0, 0, 0, 0, 0, 0, 0, 0, 0, 0, 0, 0, 0, 0, 0, 0, 0, 0, 0, 0, 0, 0, 0, 0, 0, 0, 0, 0, 0, 0, 0, 0, 0, 0, 0, 0, 0, 0, 0, 0, 0, 0, 0, 0, 0, 0, 0, 0, 0, 0, 0, 0, 0, 0, 0, 0, 0, 0, 0, 0, 0, 0, 0, 0, 0, 0, 0, 0, 0, 0, 0, 1, 0, 0, 0, 0, 0, 0, 0, 0, 0, 0, 0, 0, 0, 0, 0, 0, 0, 0, 0, 0, 0, 0, 0, 0, 0, 0, 0, 0, 0, 0, 0, 0, 0, 0, 0, 0, 0, 0, 0, 0, 0, 0, 0, 0, 0, 0, 0, 0, 0, 0, 0, 0, 0, 0, 0, 0, 0, 0, 0, 0, 0, 0, 0, 0, 0, 0, 0, 0, 0, 0, 0, 0, 0, 0, 0, 0, 0, 0, 0, 0, 0, 0, 0, 0, 0, 0, 0, 0, 0, 0, 0, 0, 0, 0, 0, 0, 0, 0, 0, 0, 0, 0, 0, 0, 0, 0, 0, 1, 0, 0, 0, 0, 0, 0, 0, 0, 0, 0, 0, 0, 0, 0, 0, 0, 0, 0, 0, 0, 0, 0, 0, 0, 0, 0, 0, 0, 0, 0, 0, 0, 0, 0, 0, 0, 0, 0, 0, 0, 0, 0, 0, 0, 0, 0, 0, 0, 0, 0, 0, 0, 0, 0, 0, 0, 0, 0, 0, 0, 0, 0, 0, 0, 0, 0, 0, 0, 0, 0, 0, 0, 0, 0, 0, 0, 0, 0, 0, 0, 0, 0, 0, 0, 0, 0, 0, 0, 0, 0, 0, 0, 0, 0, 0, 0, 0, 0, 0, 0, 0, 0, 0, 0, 0, 0, 0, 0, 0, 0, 0, 0, 0, 0, 0, 0, 0, 0, 0, 0, 0, 0, 0, 0, 0, 0, 0, 0, 0, 0, 0, 0, 0, 0, 0, 0, 0, 0, 0, 0, 0, 0, 0, 0, 0, 0, 0, 0, 0, 0, 0, 0, 0, 0, 0, 0, 0, 0, 0, 0, 0, 0, 0, 0, 0, 0, 0, 0, 0, 0, 0, 0, 0, 0, 0, 0, 0, 0, 0, 0, 0, 0, 0, 0, 0, 0, 0, 0, 0, 0, 0, 0, 0, 0, 0, 0, 0, 0, 0, 0, 0, 0, 0, 0, 0, 0, 0, 0, 0, 0, 0, 0, 0, 0, 0, 0, 0, 0, 0, 0, 0, 0, 0, 0, 0, 0, 0, 0, 0, 0, 0, 0, 0, 0, 0, 0, 0, 0, 0, 0, 0, 0, 0, 0, 0, 0, 0, 0, 0, 0, 0, 0, 0, 0, 0, 0, 0, 0, 0, 0, 0, 0, 0, 0, 0, 0, 0, 0, 0, 0, 0, 0, 0, 0, 0, 0, 0, 0, 0, 0, 0, 0, 0, 0, 0, 0, 0, 0, 0, 0, 0, 0, 0, 0, 0, 0, 0, 0, 0, 0, 0, 0, 0, 0, 0, 0, 0, 0, 0, 0, 0, 0, 0, 0, 0, 0, 0, 0, 0, 0, 0, 0, 0, 0, 0, 0, 0, 0, 0, 0, 0, 0, 0, 0, 0, 0, 0, 0, 0, 0, 0, 0, 0, 0, 0, 0, 0, 0, 0, 0, 0, 0, 0, 0, 0, 0, 0, 0, 0, 0, 0, 0, 0, 0, 0, 0, 0, 0, 0, 0, 0, 0, 0, 0, 0, 0, 0, 0, 0, 0, 0, 0, 0, 0, 0, 0, 0, 0, 0, 0, 0, 0, 0, 0, 0, 0, 0, 0, 0, 0, 0, 0, 0, 0, 0, 0, 0, 0, 0, 0, 0, 0, 0, 0, 0, 0, 0, 0, 0, 0, 0, 0, 0, 0, 0, 0, 0, 0, 0, 0, 0, 0, 0, 0, 0, 0, 0, 0, 0, 0, 0, 0, 0, 0, 0, 0, 0, 0, 0, 0, 0, 0, 0, 0, 0, 0, 0, 0, 0, 0, 0, 0, 0, 2, 0, 1, 0]\n"
     ]
    }
   ],
   "source": [
    "test_bow = bow_encoding(test_words, vocabulary)\n",
    "print(test_bow)"
   ]
  },
  {
   "cell_type": "code",
   "execution_count": 39,
   "metadata": {},
   "outputs": [
    {
     "data": {
      "text/plain": [
       "5000"
      ]
     },
     "execution_count": 39,
     "metadata": {},
     "output_type": "execute_result"
    }
   ],
   "source": [
    "len(test_bow)"
   ]
  },
  {
   "cell_type": "markdown",
   "metadata": {},
   "source": [
    "So now we know how to construct a bag of words encoding of a user provided review, how to we send it to our endpoint? First, we need to start the endpoint back up."
   ]
  },
  {
   "cell_type": "code",
   "execution_count": null,
   "metadata": {},
   "outputs": [],
   "source": [
    "xgb_predictor = xgb.deploy(initial_instance_count = 1, instance_type = 'ml.m4.xlarge')"
   ]
  },
  {
   "cell_type": "markdown",
   "metadata": {},
   "source": [
    "At this point we could just do the same thing that we did earlier when we tested our deployed model and send `test_bow` to our endpoint using the `xgb_predictor` object. However, when we eventually construct our Lambda function we won't have access to this object, so how do we call a SageMaker endpoint?\n",
    "\n",
    "It turns out that Python functions that are used in Lambda have access to another Amazon library called `boto3`. This library provides an API for working with Amazon services, including SageMaker. To start with, we need to get a handle to the SageMaker runtime."
   ]
  },
  {
   "cell_type": "code",
   "execution_count": 40,
   "metadata": {},
   "outputs": [],
   "source": [
    "import boto3\n",
    "\n",
    "runtime = boto3.Session().client('sagemaker-runtime')"
   ]
  },
  {
   "cell_type": "markdown",
   "metadata": {},
   "source": [
    "And now that we have access to the SageMaker runtime, we can ask it to make use of (invoke) an endpoint that has already been created. However, we need to provide SageMaker with the name of the deployed endpoint. To find this out we can print it out using the `xgb_predictor` object."
   ]
  },
  {
   "cell_type": "code",
   "execution_count": 49,
   "metadata": {},
   "outputs": [
    {
     "data": {
      "text/plain": [
       "'xgboost-2020-05-10-11-42-57-801'"
      ]
     },
     "execution_count": 49,
     "metadata": {},
     "output_type": "execute_result"
    }
   ],
   "source": [
    "xgb_predictor.endpoint"
   ]
  },
  {
   "cell_type": "markdown",
   "metadata": {},
   "source": [
    "Using the SageMaker runtime and the name of our endpoint, we can invoke the endpoint and send it the `test_bow` data."
   ]
  },
  {
   "cell_type": "code",
   "execution_count": 42,
   "metadata": {},
   "outputs": [
    {
     "ename": "ParamValidationError",
     "evalue": "Parameter validation failed:\nInvalid type for parameter Body, value: [0, 0, 0, 0, 0, 0, 0, 0, 0, 0, 0, 0, 0, 0, 0, 0, 0, 0, 0, 0, 0, 0, 0, 0, 0, 0, 0, 0, 0, 0, 0, 0, 0, 0, 0, 0, 0, 0, 0, 0, 0, 0, 0, 0, 0, 0, 0, 0, 0, 0, 0, 0, 0, 0, 0, 0, 0, 0, 0, 0, 0, 0, 0, 0, 0, 0, 0, 0, 0, 0, 0, 0, 0, 0, 0, 0, 0, 0, 0, 0, 0, 0, 0, 0, 0, 0, 0, 0, 0, 0, 0, 0, 0, 0, 0, 0, 0, 0, 0, 0, 0, 0, 0, 0, 0, 0, 0, 0, 0, 0, 0, 0, 0, 0, 0, 0, 0, 0, 0, 0, 0, 0, 0, 0, 0, 0, 0, 0, 0, 0, 0, 0, 0, 0, 0, 0, 0, 0, 0, 0, 0, 0, 0, 0, 0, 0, 0, 0, 0, 0, 0, 0, 0, 0, 0, 0, 0, 0, 0, 0, 0, 0, 0, 0, 0, 0, 0, 0, 0, 0, 0, 0, 0, 0, 0, 0, 0, 0, 0, 0, 0, 0, 0, 0, 0, 0, 0, 0, 0, 0, 0, 0, 0, 0, 0, 0, 0, 0, 0, 0, 0, 0, 0, 0, 0, 0, 0, 0, 0, 0, 0, 0, 0, 0, 0, 0, 0, 0, 0, 0, 0, 0, 0, 0, 0, 0, 1, 0, 0, 0, 0, 0, 0, 0, 0, 0, 0, 0, 0, 0, 0, 0, 0, 0, 0, 0, 0, 0, 0, 0, 0, 0, 0, 0, 0, 0, 1, 0, 0, 0, 0, 0, 0, 0, 0, 0, 0, 0, 0, 0, 0, 0, 0, 0, 0, 0, 0, 0, 0, 0, 0, 0, 0, 0, 0, 0, 0, 0, 0, 0, 0, 0, 0, 0, 0, 0, 0, 0, 0, 0, 0, 0, 0, 0, 0, 0, 0, 0, 0, 0, 0, 0, 0, 0, 0, 0, 0, 0, 0, 0, 0, 0, 0, 0, 0, 0, 0, 0, 0, 0, 0, 0, 0, 0, 0, 0, 0, 0, 0, 0, 0, 0, 0, 0, 0, 0, 0, 0, 0, 0, 0, 0, 0, 0, 0, 0, 0, 0, 0, 0, 0, 0, 0, 0, 0, 0, 0, 0, 0, 0, 0, 0, 0, 0, 0, 0, 0, 0, 0, 0, 0, 0, 0, 0, 0, 0, 0, 0, 0, 0, 0, 0, 0, 0, 0, 0, 0, 0, 0, 0, 0, 0, 0, 0, 0, 0, 0, 0, 0, 0, 0, 0, 0, 0, 0, 0, 0, 0, 0, 0, 0, 0, 0, 0, 0, 0, 0, 0, 0, 0, 0, 0, 0, 0, 0, 0, 0, 0, 0, 0, 0, 0, 0, 0, 0, 0, 0, 0, 0, 0, 0, 0, 0, 0, 0, 0, 0, 0, 0, 0, 0, 0, 0, 0, 0, 0, 0, 0, 0, 0, 0, 0, 0, 0, 0, 0, 0, 0, 0, 0, 0, 0, 0, 0, 0, 0, 0, 0, 0, 0, 0, 0, 0, 0, 0, 0, 0, 0, 0, 0, 0, 0, 0, 0, 0, 0, 0, 0, 0, 0, 0, 0, 0, 0, 0, 0, 0, 0, 0, 0, 0, 0, 0, 0, 0, 0, 0, 0, 0, 0, 0, 0, 0, 0, 0, 0, 0, 0, 0, 0, 0, 0, 0, 0, 0, 0, 0, 0, 0, 0, 0, 0, 0, 0, 0, 0, 0, 0, 0, 0, 0, 0, 0, 0, 0, 0, 0, 0, 0, 0, 0, 0, 0, 0, 0, 0, 0, 0, 0, 0, 0, 0, 0, 0, 0, 0, 0, 0, 0, 0, 0, 0, 0, 0, 0, 0, 0, 0, 0, 0, 0, 0, 0, 0, 0, 0, 0, 0, 0, 0, 0, 0, 0, 0, 0, 0, 0, 0, 0, 0, 0, 0, 0, 0, 0, 0, 0, 0, 0, 0, 0, 0, 0, 0, 0, 0, 1, 0, 0, 0, 0, 0, 0, 0, 0, 0, 0, 0, 0, 0, 0, 0, 0, 0, 0, 0, 0, 0, 0, 0, 0, 0, 0, 0, 0, 0, 0, 0, 0, 0, 0, 0, 0, 0, 0, 0, 0, 0, 0, 0, 0, 0, 0, 0, 0, 0, 0, 0, 0, 0, 0, 0, 0, 0, 0, 0, 0, 0, 0, 0, 0, 0, 0, 0, 0, 0, 0, 0, 0, 0, 0, 0, 0, 0, 0, 0, 0, 0, 0, 0, 0, 0, 0, 0, 0, 0, 0, 0, 0, 0, 0, 0, 0, 0, 0, 0, 0, 0, 0, 0, 0, 0, 0, 0, 0, 0, 0, 0, 0, 0, 0, 0, 0, 0, 0, 0, 0, 0, 0, 0, 0, 0, 0, 0, 0, 0, 0, 0, 0, 0, 0, 0, 0, 0, 0, 0, 0, 0, 0, 0, 0, 0, 0, 0, 0, 0, 0, 0, 0, 0, 0, 0, 0, 0, 0, 0, 0, 0, 0, 0, 0, 0, 0, 0, 0, 0, 0, 0, 0, 0, 0, 0, 0, 0, 0, 0, 0, 0, 0, 0, 0, 0, 0, 0, 0, 0, 0, 0, 0, 0, 0, 0, 0, 0, 0, 0, 0, 0, 0, 0, 0, 0, 0, 0, 0, 0, 0, 0, 0, 0, 0, 0, 0, 0, 0, 0, 0, 0, 0, 0, 0, 0, 0, 0, 0, 0, 0, 0, 0, 0, 0, 0, 0, 0, 0, 0, 0, 0, 0, 0, 0, 0, 0, 0, 0, 0, 0, 0, 0, 0, 1, 0, 0, 0, 0, 0, 0, 0, 0, 0, 0, 0, 0, 0, 0, 0, 0, 0, 0, 0, 0, 0, 0, 0, 0, 0, 0, 0, 0, 0, 0, 0, 0, 0, 0, 0, 0, 0, 0, 0, 0, 0, 0, 0, 0, 0, 0, 0, 0, 0, 0, 0, 0, 0, 0, 0, 0, 0, 0, 0, 0, 0, 0, 0, 0, 0, 0, 0, 0, 0, 0, 0, 0, 0, 0, 0, 0, 0, 0, 0, 0, 0, 0, 0, 0, 0, 0, 1, 0, 0, 0, 0, 0, 0, 0, 0, 0, 0, 0, 0, 0, 0, 0, 0, 0, 0, 0, 0, 0, 0, 0, 0, 0, 0, 0, 0, 0, 0, 0, 0, 0, 0, 0, 0, 0, 0, 0, 0, 0, 0, 0, 0, 0, 0, 0, 0, 0, 0, 0, 0, 0, 0, 0, 0, 0, 0, 0, 0, 0, 0, 0, 0, 0, 0, 0, 0, 0, 0, 0, 0, 0, 0, 0, 0, 0, 0, 0, 0, 0, 0, 0, 0, 0, 0, 0, 0, 0, 0, 0, 0, 0, 0, 0, 0, 0, 0, 0, 0, 0, 0, 0, 0, 0, 0, 0, 0, 0, 0, 0, 0, 0, 0, 0, 0, 0, 0, 0, 0, 0, 0, 0, 0, 0, 0, 0, 0, 0, 0, 0, 0, 0, 0, 0, 0, 0, 0, 0, 0, 0, 0, 0, 0, 0, 0, 0, 0, 0, 0, 0, 0, 0, 0, 0, 0, 0, 0, 0, 0, 0, 0, 0, 0, 0, 0, 0, 0, 0, 0, 0, 0, 0, 0, 0, 0, 0, 0, 0, 0, 0, 0, 0, 0, 0, 0, 0, 0, 0, 0, 0, 0, 0, 0, 0, 0, 0, 0, 0, 0, 0, 0, 0, 0, 0, 0, 0, 0, 0, 0, 0, 0, 0, 0, 0, 0, 0, 0, 0, 0, 0, 0, 0, 0, 0, 0, 0, 0, 0, 0, 0, 0, 0, 0, 0, 0, 0, 0, 0, 0, 0, 0, 0, 0, 0, 0, 0, 0, 0, 0, 0, 0, 1, 0, 0, 0, 0, 0, 0, 0, 0, 0, 0, 0, 0, 0, 0, 0, 0, 0, 0, 0, 0, 0, 0, 0, 0, 0, 0, 0, 0, 0, 0, 0, 0, 0, 0, 0, 0, 0, 0, 0, 0, 0, 0, 0, 0, 0, 0, 0, 0, 0, 0, 0, 0, 0, 0, 0, 1, 0, 0, 0, 0, 0, 0, 0, 0, 0, 0, 0, 0, 0, 0, 0, 0, 0, 0, 0, 0, 0, 0, 0, 0, 0, 0, 0, 0, 0, 0, 0, 0, 0, 0, 0, 0, 0, 0, 0, 0, 0, 0, 0, 0, 0, 0, 0, 0, 0, 0, 0, 0, 0, 0, 0, 0, 0, 0, 0, 0, 0, 0, 0, 0, 0, 0, 0, 0, 0, 0, 0, 0, 0, 0, 0, 0, 0, 0, 0, 0, 0, 0, 0, 0, 0, 0, 0, 0, 0, 0, 0, 0, 0, 0, 0, 0, 0, 0, 0, 0, 0, 0, 0, 0, 0, 0, 0, 0, 0, 0, 0, 0, 0, 0, 0, 0, 0, 0, 0, 0, 0, 0, 0, 0, 0, 0, 0, 0, 0, 0, 0, 0, 0, 0, 0, 0, 0, 0, 0, 0, 0, 0, 0, 0, 0, 0, 0, 0, 0, 0, 0, 0, 0, 0, 0, 0, 0, 0, 0, 0, 0, 0, 0, 0, 0, 0, 0, 0, 0, 0, 0, 0, 0, 0, 0, 0, 0, 0, 0, 0, 0, 0, 0, 0, 0, 0, 0, 0, 0, 0, 0, 0, 0, 0, 0, 0, 0, 0, 0, 0, 0, 0, 0, 0, 0, 0, 0, 0, 0, 0, 0, 0, 0, 0, 0, 0, 0, 0, 0, 0, 0, 0, 0, 0, 0, 0, 0, 0, 0, 0, 0, 0, 0, 0, 0, 0, 0, 0, 0, 0, 0, 0, 0, 0, 0, 0, 0, 0, 0, 0, 0, 0, 0, 0, 0, 0, 0, 0, 0, 0, 0, 0, 0, 0, 0, 0, 0, 0, 0, 0, 0, 0, 0, 0, 0, 0, 0, 0, 0, 0, 0, 0, 0, 0, 0, 0, 0, 0, 0, 0, 0, 0, 0, 0, 0, 0, 0, 0, 0, 0, 0, 0, 0, 0, 0, 0, 0, 0, 0, 0, 0, 0, 0, 0, 0, 0, 0, 0, 0, 0, 0, 0, 0, 0, 0, 0, 0, 0, 0, 0, 0, 0, 0, 0, 0, 0, 0, 0, 0, 0, 0, 0, 0, 0, 0, 0, 0, 0, 0, 0, 0, 0, 0, 0, 0, 0, 0, 0, 0, 0, 0, 0, 0, 0, 0, 0, 0, 0, 0, 0, 0, 0, 0, 0, 0, 0, 0, 0, 0, 0, 0, 0, 0, 0, 0, 0, 0, 0, 0, 0, 0, 0, 0, 0, 0, 0, 0, 0, 0, 0, 0, 0, 0, 0, 0, 0, 0, 0, 0, 0, 0, 0, 0, 0, 0, 0, 0, 0, 0, 0, 0, 0, 0, 0, 0, 0, 0, 0, 0, 0, 0, 0, 0, 0, 0, 0, 0, 0, 0, 0, 0, 0, 0, 0, 0, 0, 0, 0, 0, 0, 0, 0, 0, 0, 0, 0, 0, 0, 0, 0, 0, 0, 0, 0, 0, 0, 0, 0, 0, 0, 0, 0, 0, 0, 0, 0, 0, 0, 0, 0, 0, 0, 0, 0, 0, 0, 0, 0, 0, 0, 0, 0, 0, 0, 0, 0, 0, 0, 0, 0, 0, 0, 0, 0, 0, 0, 0, 0, 0, 0, 0, 0, 0, 0, 0, 0, 0, 0, 0, 0, 0, 0, 0, 0, 0, 0, 0, 0, 0, 0, 0, 0, 0, 0, 0, 0, 0, 0, 0, 0, 0, 0, 0, 0, 0, 0, 0, 0, 0, 0, 0, 0, 0, 0, 0, 0, 0, 0, 0, 0, 0, 0, 0, 0, 0, 0, 0, 0, 0, 0, 0, 0, 0, 0, 0, 0, 0, 0, 0, 0, 0, 0, 0, 0, 0, 0, 0, 0, 0, 0, 0, 0, 0, 0, 0, 0, 0, 0, 0, 0, 0, 0, 0, 0, 0, 0, 0, 0, 0, 0, 0, 0, 0, 0, 0, 0, 0, 0, 0, 0, 0, 0, 0, 0, 0, 0, 0, 0, 0, 0, 0, 0, 0, 0, 0, 0, 0, 0, 0, 0, 0, 0, 0, 0, 0, 0, 0, 0, 0, 0, 0, 0, 0, 0, 0, 0, 0, 0, 0, 0, 0, 0, 0, 0, 0, 0, 0, 0, 0, 0, 0, 0, 0, 0, 0, 0, 0, 0, 0, 0, 0, 1, 0, 0, 0, 0, 0, 0, 0, 0, 0, 0, 0, 0, 0, 0, 0, 0, 0, 0, 0, 0, 0, 0, 0, 0, 0, 0, 0, 0, 0, 0, 0, 0, 0, 0, 0, 0, 0, 0, 0, 0, 0, 0, 0, 0, 0, 0, 0, 0, 0, 0, 0, 0, 0, 0, 0, 0, 0, 0, 0, 0, 0, 0, 0, 0, 0, 0, 0, 0, 0, 0, 0, 0, 0, 0, 1, 0, 0, 0, 0, 0, 0, 0, 0, 0, 0, 0, 0, 0, 0, 0, 0, 0, 0, 0, 0, 1, 0, 0, 1, 0, 0, 0, 0, 0, 0, 0, 0, 0, 0, 0, 0, 0, 0, 0, 0, 0, 0, 0, 0, 0, 0, 0, 0, 0, 0, 0, 0, 0, 0, 0, 0, 0, 0, 0, 0, 0, 0, 0, 0, 0, 0, 0, 0, 0, 0, 0, 0, 0, 0, 0, 0, 0, 0, 0, 0, 0, 0, 0, 0, 0, 0, 0, 0, 0, 0, 0, 0, 0, 0, 0, 0, 0, 0, 0, 0, 0, 0, 0, 0, 0, 0, 0, 0, 0, 0, 0, 0, 0, 0, 0, 0, 0, 0, 0, 0, 0, 0, 0, 0, 0, 0, 0, 0, 0, 0, 0, 0, 0, 0, 0, 0, 0, 0, 0, 0, 0, 0, 0, 0, 0, 0, 0, 0, 0, 0, 0, 0, 0, 0, 0, 0, 0, 0, 0, 0, 0, 0, 0, 0, 0, 0, 0, 0, 0, 0, 0, 0, 0, 0, 0, 0, 0, 0, 0, 0, 0, 0, 0, 0, 0, 0, 0, 0, 0, 0, 0, 0, 0, 0, 0, 0, 0, 0, 0, 0, 0, 0, 0, 0, 0, 0, 0, 0, 0, 0, 0, 0, 0, 0, 0, 0, 0, 0, 0, 0, 0, 0, 0, 0, 0, 0, 0, 0, 0, 0, 0, 0, 0, 0, 0, 0, 0, 0, 0, 0, 0, 0, 0, 0, 0, 0, 0, 0, 0, 0, 0, 0, 0, 0, 0, 0, 0, 0, 0, 0, 0, 0, 0, 0, 0, 0, 0, 0, 0, 0, 0, 0, 0, 0, 0, 0, 0, 0, 0, 0, 0, 0, 0, 0, 0, 0, 0, 0, 0, 0, 0, 0, 0, 0, 0, 0, 0, 0, 0, 0, 0, 0, 0, 0, 0, 0, 0, 0, 0, 0, 0, 0, 0, 0, 0, 0, 0, 0, 0, 0, 0, 0, 0, 0, 0, 0, 0, 0, 0, 0, 0, 0, 0, 0, 0, 0, 0, 0, 0, 0, 0, 0, 0, 0, 0, 0, 0, 0, 0, 0, 0, 0, 0, 0, 0, 0, 0, 0, 0, 0, 0, 0, 0, 0, 0, 0, 0, 0, 0, 0, 0, 0, 0, 0, 0, 0, 0, 0, 0, 0, 0, 0, 0, 0, 0, 0, 0, 0, 0, 0, 0, 0, 0, 0, 0, 0, 0, 0, 0, 0, 0, 0, 0, 0, 0, 0, 0, 0, 0, 0, 0, 0, 0, 0, 0, 0, 0, 0, 0, 0, 0, 0, 0, 0, 0, 0, 0, 0, 0, 0, 0, 0, 0, 0, 0, 0, 0, 0, 0, 0, 0, 0, 0, 0, 0, 0, 0, 0, 0, 0, 0, 0, 0, 0, 0, 0, 0, 0, 0, 0, 0, 0, 0, 0, 0, 0, 0, 0, 0, 0, 0, 0, 0, 0, 0, 0, 0, 0, 0, 0, 0, 0, 0, 0, 0, 0, 0, 0, 0, 0, 1, 0, 0, 0, 0, 0, 0, 0, 0, 0, 0, 0, 0, 0, 0, 0, 0, 0, 0, 0, 0, 0, 0, 0, 0, 0, 0, 0, 0, 0, 0, 0, 0, 0, 0, 0, 0, 0, 0, 0, 0, 0, 0, 0, 0, 0, 0, 0, 0, 0, 0, 0, 0, 0, 0, 0, 0, 0, 0, 0, 0, 0, 0, 0, 0, 0, 0, 0, 0, 0, 0, 0, 0, 0, 0, 0, 0, 0, 0, 0, 0, 0, 0, 0, 0, 0, 0, 0, 0, 0, 0, 0, 0, 0, 0, 0, 0, 0, 0, 0, 0, 0, 0, 0, 0, 0, 0, 0, 0, 0, 0, 0, 0, 0, 0, 0, 0, 0, 0, 0, 0, 0, 0, 0, 0, 0, 0, 0, 0, 0, 0, 0, 0, 0, 0, 0, 0, 0, 0, 0, 0, 0, 0, 0, 0, 0, 0, 0, 0, 0, 0, 0, 0, 0, 0, 0, 0, 0, 0, 0, 0, 0, 0, 0, 0, 0, 0, 0, 0, 0, 0, 0, 0, 0, 0, 0, 0, 0, 0, 0, 0, 0, 0, 0, 0, 0, 0, 0, 0, 0, 0, 0, 0, 0, 0, 0, 0, 0, 0, 0, 0, 0, 0, 0, 0, 0, 0, 0, 0, 0, 0, 0, 0, 0, 0, 0, 0, 0, 0, 0, 0, 0, 0, 0, 0, 0, 0, 0, 0, 0, 0, 0, 0, 0, 0, 0, 0, 0, 0, 0, 0, 0, 0, 0, 0, 0, 0, 0, 0, 0, 0, 0, 0, 0, 0, 0, 0, 0, 0, 0, 0, 0, 0, 0, 0, 0, 0, 0, 0, 0, 0, 0, 0, 0, 0, 0, 0, 0, 0, 0, 0, 0, 0, 0, 0, 0, 0, 0, 0, 0, 0, 0, 0, 0, 0, 0, 0, 0, 0, 0, 0, 0, 0, 0, 0, 0, 0, 0, 0, 0, 0, 0, 0, 0, 0, 0, 0, 0, 0, 0, 0, 0, 0, 0, 0, 0, 0, 0, 0, 0, 0, 0, 0, 0, 0, 0, 0, 0, 0, 0, 0, 0, 0, 0, 0, 0, 0, 0, 0, 0, 0, 0, 0, 0, 0, 0, 0, 0, 0, 0, 0, 0, 0, 0, 0, 0, 0, 0, 0, 0, 0, 0, 0, 0, 0, 0, 0, 0, 0, 0, 0, 0, 0, 0, 0, 0, 0, 0, 0, 0, 0, 0, 0, 0, 0, 0, 0, 0, 0, 0, 0, 0, 0, 0, 0, 0, 0, 0, 0, 0, 0, 0, 0, 0, 0, 0, 0, 0, 0, 0, 0, 0, 0, 0, 0, 0, 0, 0, 0, 0, 0, 0, 0, 0, 0, 0, 0, 0, 0, 0, 0, 0, 0, 0, 0, 0, 0, 0, 0, 0, 0, 0, 0, 0, 0, 0, 0, 0, 0, 0, 0, 0, 0, 0, 0, 0, 0, 0, 0, 0, 0, 0, 0, 0, 0, 0, 0, 0, 0, 0, 0, 0, 0, 0, 0, 0, 0, 0, 0, 0, 0, 0, 0, 0, 0, 0, 0, 0, 0, 0, 0, 0, 0, 0, 0, 0, 0, 0, 0, 0, 0, 0, 0, 1, 0, 0, 0, 0, 0, 0, 0, 0, 0, 0, 0, 0, 0, 0, 0, 0, 0, 0, 0, 0, 0, 0, 0, 0, 0, 0, 0, 0, 0, 0, 0, 0, 0, 0, 0, 2, 0, 0, 0, 0, 0, 0, 0, 0, 0, 0, 0, 0, 0, 0, 0, 0, 0, 0, 0, 0, 0, 0, 0, 0, 0, 0, 0, 0, 0, 0, 0, 0, 0, 0, 0, 0, 0, 0, 0, 0, 1, 0, 0, 0, 0, 0, 0, 0, 0, 0, 0, 0, 0, 0, 0, 0, 0, 0, 0, 0, 0, 0, 0, 0, 0, 0, 0, 0, 0, 0, 0, 0, 0, 0, 0, 0, 0, 0, 0, 0, 0, 0, 0, 0, 0, 0, 0, 0, 0, 0, 0, 0, 0, 0, 0, 0, 0, 0, 0, 0, 0, 0, 0, 0, 0, 0, 0, 0, 0, 0, 0, 0, 0, 0, 0, 0, 0, 0, 0, 0, 0, 0, 0, 0, 0, 0, 0, 0, 0, 0, 0, 0, 0, 0, 0, 0, 0, 0, 0, 0, 0, 0, 0, 0, 0, 0, 0, 0, 0, 0, 0, 0, 0, 0, 0, 0, 0, 0, 0, 0, 0, 0, 0, 0, 0, 0, 0, 0, 0, 0, 0, 0, 0, 0, 0, 0, 0, 0, 0, 0, 0, 0, 0, 0, 0, 0, 0, 0, 0, 0, 0, 0, 0, 0, 0, 0, 0, 0, 0, 0, 0, 0, 0, 0, 0, 0, 0, 0, 0, 0, 0, 0, 0, 0, 0, 0, 0, 0, 0, 0, 0, 0, 0, 0, 0, 0, 0, 0, 0, 0, 0, 0, 0, 0, 0, 0, 0, 0, 0, 0, 0, 0, 0, 0, 0, 0, 0, 0, 0, 0, 0, 0, 0, 0, 0, 0, 0, 0, 0, 0, 0, 0, 0, 0, 0, 0, 0, 0, 0, 0, 0, 0, 0, 0, 0, 0, 0, 0, 0, 0, 0, 0, 0, 0, 0, 0, 0, 0, 0, 0, 0, 0, 0, 0, 0, 0, 0, 0, 0, 0, 0, 0, 0, 0, 0, 0, 0, 0, 0, 0, 0, 0, 0, 0, 0, 0, 0, 0, 0, 0, 0, 0, 0, 0, 0, 0, 0, 0, 0, 0, 0, 0, 0, 0, 0, 0, 0, 0, 0, 0, 0, 0, 0, 0, 0, 0, 0, 0, 0, 0, 0, 0, 0, 0, 0, 0, 0, 0, 0, 0, 0, 0, 0, 0, 0, 0, 0, 0, 0, 0, 0, 0, 0, 0, 0, 0, 0, 0, 0, 0, 0, 0, 0, 0, 0, 0, 0, 0, 0, 0, 0, 0, 0, 0, 0, 0, 0, 0, 0, 0, 0, 0, 0, 0, 0, 0, 0, 0, 0, 0, 0, 0, 0, 0, 0, 0, 0, 0, 0, 0, 0, 0, 0, 0, 0, 0, 0, 0, 0, 0, 0, 0, 0, 0, 0, 0, 0, 0, 0, 0, 0, 0, 0, 0, 0, 0, 0, 0, 0, 0, 0, 0, 0, 0, 0, 0, 0, 0, 0, 0, 0, 0, 0, 0, 0, 0, 0, 0, 0, 0, 0, 0, 0, 0, 0, 0, 0, 0, 0, 0, 0, 0, 0, 0, 0, 0, 0, 0, 0, 0, 0, 0, 0, 0, 0, 0, 0, 0, 0, 0, 0, 0, 0, 0, 0, 0, 0, 0, 0, 0, 0, 0, 0, 0, 0, 0, 0, 0, 0, 0, 0, 0, 0, 0, 0, 0, 0, 0, 0, 0, 0, 0, 0, 0, 0, 0, 0, 0, 1, 0, 0, 0, 0, 0, 0, 0, 0, 0, 0, 0, 0, 0, 0, 0, 0, 0, 0, 0, 0, 0, 0, 0, 0, 0, 0, 0, 0, 0, 0, 0, 0, 0, 0, 0, 0, 0, 0, 0, 0, 0, 0, 0, 0, 0, 0, 0, 0, 0, 0, 0, 0, 0, 0, 0, 0, 0, 0, 0, 0, 0, 0, 0, 0, 0, 0, 0, 0, 0, 0, 0, 0, 0, 0, 0, 0, 0, 0, 0, 0, 0, 0, 0, 0, 0, 0, 0, 0, 0, 0, 0, 0, 0, 0, 0, 0, 0, 0, 0, 0, 0, 0, 0, 0, 0, 0, 0, 0, 0, 0, 2, 0, 0, 0, 0, 0, 0, 0, 0, 0, 0, 0, 0, 0, 0, 0, 0, 0, 0, 0, 0, 0, 0, 0, 0, 0, 0, 0, 0, 0, 0, 0, 0, 0, 0, 0, 0, 0, 0, 0, 0, 0, 0, 0, 0, 0, 0, 0, 0, 0, 0, 0, 0, 0, 0, 0, 0, 0, 0, 0, 0, 0, 0, 0, 0, 0, 0, 0, 0, 0, 0, 0, 0, 0, 0, 0, 0, 0, 0, 0, 0, 0, 0, 0, 0, 0, 0, 0, 0, 0, 0, 0, 0, 0, 0, 0, 0, 0, 0, 0, 0, 0, 0, 0, 0, 0, 0, 0, 0, 0, 0, 0, 0, 0, 0, 0, 0, 0, 0, 0, 0, 0, 0, 0, 0, 0, 0, 0, 0, 0, 0, 0, 0, 0, 0, 0, 0, 0, 0, 0, 0, 0, 0, 0, 0, 0, 0, 0, 0, 0, 0, 0, 0, 0, 0, 0, 0, 0, 0, 0, 0, 0, 0, 0, 0, 0, 0, 0, 0, 0, 0, 0, 0, 0, 0, 0, 0, 0, 0, 0, 0, 0, 0, 0, 0, 0, 0, 0, 0, 0, 0, 0, 0, 0, 0, 0, 0, 0, 0, 0, 0, 0, 0, 0, 0, 0, 0, 0, 0, 0, 0, 0, 0, 0, 0, 0, 0, 0, 0, 0, 0, 0, 0, 0, 0, 0, 0, 0, 0, 0, 0, 0, 0, 0, 0, 0, 0, 0, 0, 0, 0, 0, 0, 0, 0, 0, 0, 0, 0, 0, 0, 0, 0, 0, 0, 0, 0, 0, 0, 0, 0, 0, 0, 0, 0, 0, 0, 0, 0, 0, 0, 0, 0, 0, 0, 0, 0, 0, 0, 0, 0, 0, 0, 0, 0, 0, 0, 0, 0, 0, 0, 0, 0, 0, 0, 0, 0, 0, 0, 0, 0, 0, 0, 0, 0, 0, 0, 0, 0, 0, 0, 0, 0, 0, 0, 0, 0, 0, 0, 0, 0, 0, 0, 0, 0, 0, 0, 0, 0, 0, 0, 0, 0, 0, 0, 0, 0, 0, 0, 0, 0, 0, 0, 0, 0, 0, 0, 0, 0, 0, 0, 0, 0, 0, 0, 0, 0, 0, 0, 0, 0, 0, 0, 0, 0, 0, 0, 0, 0, 0, 0, 0, 0, 0, 0, 0, 0, 0, 0, 0, 0, 0, 0, 0, 0, 0, 0, 0, 0, 0, 0, 0, 0, 0, 0, 0, 0, 0, 0, 0, 0, 0, 0, 0, 0, 0, 0, 0, 0, 0, 0, 0, 0, 0, 0, 0, 0, 0, 0, 0, 0, 0, 0, 0, 0, 0, 0, 0, 0, 0, 0, 0, 0, 0, 0, 0, 0, 0, 0, 0, 0, 0, 0, 0, 0, 0, 0, 0, 0, 0, 0, 0, 0, 0, 0, 0, 0, 0, 0, 0, 0, 0, 0, 0, 0, 0, 0, 0, 0, 0, 0, 0, 0, 0, 0, 0, 0, 0, 0, 0, 0, 0, 0, 0, 0, 0, 0, 0, 0, 0, 0, 0, 0, 0, 0, 0, 0, 0, 0, 0, 0, 0, 0, 0, 0, 0, 0, 0, 0, 0, 0, 0, 0, 0, 0, 0, 0, 0, 0, 0, 0, 0, 0, 0, 0, 0, 0, 0, 0, 0, 0, 0, 0, 0, 0, 0, 0, 0, 0, 0, 0, 0, 0, 0, 0, 0, 0, 0, 0, 0, 0, 0, 0, 0, 0, 0, 0, 0, 0, 0, 0, 0, 0, 0, 0, 0, 0, 0, 0, 0, 0, 0, 0, 0, 0, 0, 0, 0, 0, 0, 0, 0, 0, 0, 0, 0, 0, 0, 0, 0, 0, 0, 0, 0, 0, 0, 0, 0, 0, 0, 0, 0, 0, 0, 0, 0, 0, 0, 0, 0, 0, 0, 0, 0, 0, 0, 0, 0, 0, 0, 0, 0, 0, 0, 0, 0, 0, 0, 0, 0, 0, 0, 0, 0, 0, 0, 0, 0, 0, 0, 0, 0, 0, 0, 0, 0, 0, 0, 0, 0, 0, 0, 0, 0, 0, 0, 0, 0, 0, 0, 0, 0, 0, 0, 0, 0, 0, 0, 0, 0, 0, 0, 0, 0, 0, 0, 0, 0, 0, 0, 0, 0, 0, 0, 0, 0, 0, 0, 0, 0, 0, 1, 0, 0, 0, 0, 0, 0, 0, 0, 0, 0, 0, 0, 0, 0, 0, 0, 0, 0, 0, 0, 0, 0, 0, 0, 0, 0, 0, 0, 0, 0, 0, 0, 0, 0, 0, 0, 0, 0, 0, 0, 0, 0, 0, 0, 0, 0, 0, 0, 0, 0, 0, 0, 0, 0, 0, 0, 0, 0, 0, 0, 0, 0, 0, 0, 0, 0, 0, 0, 0, 0, 0, 0, 0, 0, 0, 0, 0, 0, 0, 0, 0, 0, 0, 0, 0, 0, 0, 0, 0, 0, 0, 0, 0, 0, 0, 0, 0, 0, 0, 0, 0, 0, 0, 0, 0, 0, 0, 1, 0, 0, 0, 0, 0, 0, 0, 0, 0, 0, 0, 0, 0, 0, 0, 0, 0, 0, 0, 0, 0, 0, 0, 0, 0, 0, 0, 0, 0, 0, 0, 0, 0, 0, 0, 0, 0, 0, 0, 0, 0, 0, 0, 0, 0, 0, 0, 0, 0, 0, 0, 0, 0, 0, 0, 0, 0, 0, 0, 0, 0, 0, 0, 0, 0, 0, 0, 0, 0, 0, 0, 0, 0, 0, 0, 0, 0, 0, 0, 0, 0, 0, 0, 0, 0, 0, 0, 0, 0, 0, 0, 0, 0, 0, 0, 0, 0, 0, 0, 0, 0, 0, 0, 0, 0, 0, 0, 0, 0, 0, 0, 0, 0, 0, 0, 0, 0, 0, 0, 0, 0, 0, 0, 0, 0, 0, 0, 0, 0, 0, 0, 0, 0, 0, 0, 0, 0, 0, 0, 0, 0, 0, 0, 0, 0, 0, 0, 0, 0, 0, 0, 0, 0, 0, 0, 0, 0, 0, 0, 0, 0, 0, 0, 0, 0, 0, 0, 0, 0, 0, 0, 0, 0, 0, 0, 0, 0, 0, 0, 0, 0, 0, 0, 0, 0, 0, 0, 0, 0, 0, 0, 0, 0, 0, 0, 0, 0, 0, 0, 0, 0, 0, 0, 0, 0, 0, 0, 0, 0, 0, 0, 0, 0, 0, 0, 0, 0, 0, 0, 0, 0, 0, 0, 0, 0, 0, 0, 0, 0, 0, 0, 0, 0, 0, 0, 0, 0, 0, 0, 0, 0, 0, 0, 0, 0, 0, 0, 0, 0, 0, 0, 0, 0, 0, 0, 0, 0, 0, 0, 0, 0, 0, 0, 0, 0, 0, 0, 0, 0, 0, 0, 0, 0, 0, 0, 0, 0, 0, 0, 0, 0, 0, 0, 0, 0, 0, 0, 0, 0, 0, 0, 0, 0, 0, 0, 0, 0, 0, 0, 0, 0, 0, 0, 0, 0, 0, 0, 0, 0, 0, 0, 0, 0, 0, 0, 0, 0, 0, 0, 0, 0, 0, 0, 0, 0, 0, 0, 0, 0, 0, 0, 0, 0, 0, 0, 0, 0, 0, 0, 0, 0, 0, 0, 0, 0, 0, 0, 0, 0, 0, 0, 0, 0, 0, 0, 0, 0, 0, 0, 0, 0, 0, 0, 0, 0, 0, 0, 0, 0, 0, 0, 0, 0, 0, 0, 0, 0, 0, 0, 0, 0, 0, 0, 0, 0, 0, 0, 0, 0, 0, 0, 0, 0, 0, 0, 0, 0, 0, 0, 0, 0, 0, 0, 0, 0, 0, 0, 0, 0, 0, 0, 0, 0, 0, 0, 0, 0, 0, 0, 0, 0, 0, 0, 0, 0, 0, 0, 0, 0, 0, 0, 0, 0, 0, 0, 0, 0, 0, 0, 0, 0, 0, 0, 0, 0, 0, 0, 0, 0, 0, 0, 0, 0, 0, 0, 0, 0, 0, 0, 0, 0, 0, 0, 2, 0, 1, 0], type: <class 'list'>, valid types: <class 'bytes'>, <class 'bytearray'>, file-like object",
     "output_type": "error",
     "traceback": [
      "\u001b[0;31m---------------------------------------------------------------------------\u001b[0m",
      "\u001b[0;31mParamValidationError\u001b[0m                      Traceback (most recent call last)",
      "\u001b[0;32m<ipython-input-42-c9ab54ae3a48>\u001b[0m in \u001b[0;36m<module>\u001b[0;34m()\u001b[0m\n\u001b[1;32m      1\u001b[0m response = runtime.invoke_endpoint(EndpointName = xgb_predictor.endpoint, # The name of the endpoint we created\n\u001b[1;32m      2\u001b[0m                                        \u001b[0mContentType\u001b[0m \u001b[0;34m=\u001b[0m \u001b[0;34m'text/csv'\u001b[0m\u001b[0;34m,\u001b[0m                     \u001b[0;31m# The data format that is expected\u001b[0m\u001b[0;34m\u001b[0m\u001b[0m\n\u001b[0;32m----> 3\u001b[0;31m                                        Body = test_bow)\n\u001b[0m",
      "\u001b[0;32m~/anaconda3/envs/python3/lib/python3.6/site-packages/botocore/client.py\u001b[0m in \u001b[0;36m_api_call\u001b[0;34m(self, *args, **kwargs)\u001b[0m\n\u001b[1;32m    314\u001b[0m                     \"%s() only accepts keyword arguments.\" % py_operation_name)\n\u001b[1;32m    315\u001b[0m             \u001b[0;31m# The \"self\" in this scope is referring to the BaseClient.\u001b[0m\u001b[0;34m\u001b[0m\u001b[0;34m\u001b[0m\u001b[0m\n\u001b[0;32m--> 316\u001b[0;31m             \u001b[0;32mreturn\u001b[0m \u001b[0mself\u001b[0m\u001b[0;34m.\u001b[0m\u001b[0m_make_api_call\u001b[0m\u001b[0;34m(\u001b[0m\u001b[0moperation_name\u001b[0m\u001b[0;34m,\u001b[0m \u001b[0mkwargs\u001b[0m\u001b[0;34m)\u001b[0m\u001b[0;34m\u001b[0m\u001b[0m\n\u001b[0m\u001b[1;32m    317\u001b[0m \u001b[0;34m\u001b[0m\u001b[0m\n\u001b[1;32m    318\u001b[0m         \u001b[0m_api_call\u001b[0m\u001b[0;34m.\u001b[0m\u001b[0m__name__\u001b[0m \u001b[0;34m=\u001b[0m \u001b[0mstr\u001b[0m\u001b[0;34m(\u001b[0m\u001b[0mpy_operation_name\u001b[0m\u001b[0;34m)\u001b[0m\u001b[0;34m\u001b[0m\u001b[0m\n",
      "\u001b[0;32m~/anaconda3/envs/python3/lib/python3.6/site-packages/botocore/client.py\u001b[0m in \u001b[0;36m_make_api_call\u001b[0;34m(self, operation_name, api_params)\u001b[0m\n\u001b[1;32m    597\u001b[0m         }\n\u001b[1;32m    598\u001b[0m         request_dict = self._convert_to_request_dict(\n\u001b[0;32m--> 599\u001b[0;31m             api_params, operation_model, context=request_context)\n\u001b[0m\u001b[1;32m    600\u001b[0m \u001b[0;34m\u001b[0m\u001b[0m\n\u001b[1;32m    601\u001b[0m         \u001b[0mservice_id\u001b[0m \u001b[0;34m=\u001b[0m \u001b[0mself\u001b[0m\u001b[0;34m.\u001b[0m\u001b[0m_service_model\u001b[0m\u001b[0;34m.\u001b[0m\u001b[0mservice_id\u001b[0m\u001b[0;34m.\u001b[0m\u001b[0mhyphenize\u001b[0m\u001b[0;34m(\u001b[0m\u001b[0;34m)\u001b[0m\u001b[0;34m\u001b[0m\u001b[0m\n",
      "\u001b[0;32m~/anaconda3/envs/python3/lib/python3.6/site-packages/botocore/client.py\u001b[0m in \u001b[0;36m_convert_to_request_dict\u001b[0;34m(self, api_params, operation_model, context)\u001b[0m\n\u001b[1;32m    645\u001b[0m             api_params, operation_model, context)\n\u001b[1;32m    646\u001b[0m         request_dict = self._serializer.serialize_to_request(\n\u001b[0;32m--> 647\u001b[0;31m             api_params, operation_model)\n\u001b[0m\u001b[1;32m    648\u001b[0m         \u001b[0;32mif\u001b[0m \u001b[0;32mnot\u001b[0m \u001b[0mself\u001b[0m\u001b[0;34m.\u001b[0m\u001b[0m_client_config\u001b[0m\u001b[0;34m.\u001b[0m\u001b[0minject_host_prefix\u001b[0m\u001b[0;34m:\u001b[0m\u001b[0;34m\u001b[0m\u001b[0m\n\u001b[1;32m    649\u001b[0m             \u001b[0mrequest_dict\u001b[0m\u001b[0;34m.\u001b[0m\u001b[0mpop\u001b[0m\u001b[0;34m(\u001b[0m\u001b[0;34m'host_prefix'\u001b[0m\u001b[0;34m,\u001b[0m \u001b[0;32mNone\u001b[0m\u001b[0;34m)\u001b[0m\u001b[0;34m\u001b[0m\u001b[0m\n",
      "\u001b[0;32m~/anaconda3/envs/python3/lib/python3.6/site-packages/botocore/validate.py\u001b[0m in \u001b[0;36mserialize_to_request\u001b[0;34m(self, parameters, operation_model)\u001b[0m\n\u001b[1;32m    295\u001b[0m                                                     operation_model.input_shape)\n\u001b[1;32m    296\u001b[0m             \u001b[0;32mif\u001b[0m \u001b[0mreport\u001b[0m\u001b[0;34m.\u001b[0m\u001b[0mhas_errors\u001b[0m\u001b[0;34m(\u001b[0m\u001b[0;34m)\u001b[0m\u001b[0;34m:\u001b[0m\u001b[0;34m\u001b[0m\u001b[0m\n\u001b[0;32m--> 297\u001b[0;31m                 \u001b[0;32mraise\u001b[0m \u001b[0mParamValidationError\u001b[0m\u001b[0;34m(\u001b[0m\u001b[0mreport\u001b[0m\u001b[0;34m=\u001b[0m\u001b[0mreport\u001b[0m\u001b[0;34m.\u001b[0m\u001b[0mgenerate_report\u001b[0m\u001b[0;34m(\u001b[0m\u001b[0;34m)\u001b[0m\u001b[0;34m)\u001b[0m\u001b[0;34m\u001b[0m\u001b[0m\n\u001b[0m\u001b[1;32m    298\u001b[0m         return self._serializer.serialize_to_request(parameters,\n\u001b[1;32m    299\u001b[0m                                                      operation_model)\n",
      "\u001b[0;31mParamValidationError\u001b[0m: Parameter validation failed:\nInvalid type for parameter Body, value: [0, 0, 0, 0, 0, 0, 0, 0, 0, 0, 0, 0, 0, 0, 0, 0, 0, 0, 0, 0, 0, 0, 0, 0, 0, 0, 0, 0, 0, 0, 0, 0, 0, 0, 0, 0, 0, 0, 0, 0, 0, 0, 0, 0, 0, 0, 0, 0, 0, 0, 0, 0, 0, 0, 0, 0, 0, 0, 0, 0, 0, 0, 0, 0, 0, 0, 0, 0, 0, 0, 0, 0, 0, 0, 0, 0, 0, 0, 0, 0, 0, 0, 0, 0, 0, 0, 0, 0, 0, 0, 0, 0, 0, 0, 0, 0, 0, 0, 0, 0, 0, 0, 0, 0, 0, 0, 0, 0, 0, 0, 0, 0, 0, 0, 0, 0, 0, 0, 0, 0, 0, 0, 0, 0, 0, 0, 0, 0, 0, 0, 0, 0, 0, 0, 0, 0, 0, 0, 0, 0, 0, 0, 0, 0, 0, 0, 0, 0, 0, 0, 0, 0, 0, 0, 0, 0, 0, 0, 0, 0, 0, 0, 0, 0, 0, 0, 0, 0, 0, 0, 0, 0, 0, 0, 0, 0, 0, 0, 0, 0, 0, 0, 0, 0, 0, 0, 0, 0, 0, 0, 0, 0, 0, 0, 0, 0, 0, 0, 0, 0, 0, 0, 0, 0, 0, 0, 0, 0, 0, 0, 0, 0, 0, 0, 0, 0, 0, 0, 0, 0, 0, 0, 0, 0, 0, 0, 1, 0, 0, 0, 0, 0, 0, 0, 0, 0, 0, 0, 0, 0, 0, 0, 0, 0, 0, 0, 0, 0, 0, 0, 0, 0, 0, 0, 0, 0, 1, 0, 0, 0, 0, 0, 0, 0, 0, 0, 0, 0, 0, 0, 0, 0, 0, 0, 0, 0, 0, 0, 0, 0, 0, 0, 0, 0, 0, 0, 0, 0, 0, 0, 0, 0, 0, 0, 0, 0, 0, 0, 0, 0, 0, 0, 0, 0, 0, 0, 0, 0, 0, 0, 0, 0, 0, 0, 0, 0, 0, 0, 0, 0, 0, 0, 0, 0, 0, 0, 0, 0, 0, 0, 0, 0, 0, 0, 0, 0, 0, 0, 0, 0, 0, 0, 0, 0, 0, 0, 0, 0, 0, 0, 0, 0, 0, 0, 0, 0, 0, 0, 0, 0, 0, 0, 0, 0, 0, 0, 0, 0, 0, 0, 0, 0, 0, 0, 0, 0, 0, 0, 0, 0, 0, 0, 0, 0, 0, 0, 0, 0, 0, 0, 0, 0, 0, 0, 0, 0, 0, 0, 0, 0, 0, 0, 0, 0, 0, 0, 0, 0, 0, 0, 0, 0, 0, 0, 0, 0, 0, 0, 0, 0, 0, 0, 0, 0, 0, 0, 0, 0, 0, 0, 0, 0, 0, 0, 0, 0, 0, 0, 0, 0, 0, 0, 0, 0, 0, 0, 0, 0, 0, 0, 0, 0, 0, 0, 0, 0, 0, 0, 0, 0, 0, 0, 0, 0, 0, 0, 0, 0, 0, 0, 0, 0, 0, 0, 0, 0, 0, 0, 0, 0, 0, 0, 0, 0, 0, 0, 0, 0, 0, 0, 0, 0, 0, 0, 0, 0, 0, 0, 0, 0, 0, 0, 0, 0, 0, 0, 0, 0, 0, 0, 0, 0, 0, 0, 0, 0, 0, 0, 0, 0, 0, 0, 0, 0, 0, 0, 0, 0, 0, 0, 0, 0, 0, 0, 0, 0, 0, 0, 0, 0, 0, 0, 0, 0, 0, 0, 0, 0, 0, 0, 0, 0, 0, 0, 0, 0, 0, 0, 0, 0, 0, 0, 0, 0, 0, 0, 0, 0, 0, 0, 0, 0, 0, 0, 0, 0, 0, 0, 0, 0, 0, 0, 0, 0, 0, 0, 0, 0, 0, 0, 0, 0, 0, 0, 0, 0, 0, 0, 0, 0, 0, 0, 0, 0, 0, 0, 0, 0, 0, 0, 0, 0, 0, 0, 0, 0, 0, 0, 0, 0, 0, 0, 0, 0, 0, 0, 0, 0, 0, 0, 0, 0, 0, 0, 0, 0, 1, 0, 0, 0, 0, 0, 0, 0, 0, 0, 0, 0, 0, 0, 0, 0, 0, 0, 0, 0, 0, 0, 0, 0, 0, 0, 0, 0, 0, 0, 0, 0, 0, 0, 0, 0, 0, 0, 0, 0, 0, 0, 0, 0, 0, 0, 0, 0, 0, 0, 0, 0, 0, 0, 0, 0, 0, 0, 0, 0, 0, 0, 0, 0, 0, 0, 0, 0, 0, 0, 0, 0, 0, 0, 0, 0, 0, 0, 0, 0, 0, 0, 0, 0, 0, 0, 0, 0, 0, 0, 0, 0, 0, 0, 0, 0, 0, 0, 0, 0, 0, 0, 0, 0, 0, 0, 0, 0, 0, 0, 0, 0, 0, 0, 0, 0, 0, 0, 0, 0, 0, 0, 0, 0, 0, 0, 0, 0, 0, 0, 0, 0, 0, 0, 0, 0, 0, 0, 0, 0, 0, 0, 0, 0, 0, 0, 0, 0, 0, 0, 0, 0, 0, 0, 0, 0, 0, 0, 0, 0, 0, 0, 0, 0, 0, 0, 0, 0, 0, 0, 0, 0, 0, 0, 0, 0, 0, 0, 0, 0, 0, 0, 0, 0, 0, 0, 0, 0, 0, 0, 0, 0, 0, 0, 0, 0, 0, 0, 0, 0, 0, 0, 0, 0, 0, 0, 0, 0, 0, 0, 0, 0, 0, 0, 0, 0, 0, 0, 0, 0, 0, 0, 0, 0, 0, 0, 0, 0, 0, 0, 0, 0, 0, 0, 0, 0, 0, 0, 0, 0, 0, 0, 0, 0, 0, 0, 0, 0, 0, 0, 0, 0, 0, 0, 1, 0, 0, 0, 0, 0, 0, 0, 0, 0, 0, 0, 0, 0, 0, 0, 0, 0, 0, 0, 0, 0, 0, 0, 0, 0, 0, 0, 0, 0, 0, 0, 0, 0, 0, 0, 0, 0, 0, 0, 0, 0, 0, 0, 0, 0, 0, 0, 0, 0, 0, 0, 0, 0, 0, 0, 0, 0, 0, 0, 0, 0, 0, 0, 0, 0, 0, 0, 0, 0, 0, 0, 0, 0, 0, 0, 0, 0, 0, 0, 0, 0, 0, 0, 0, 0, 0, 1, 0, 0, 0, 0, 0, 0, 0, 0, 0, 0, 0, 0, 0, 0, 0, 0, 0, 0, 0, 0, 0, 0, 0, 0, 0, 0, 0, 0, 0, 0, 0, 0, 0, 0, 0, 0, 0, 0, 0, 0, 0, 0, 0, 0, 0, 0, 0, 0, 0, 0, 0, 0, 0, 0, 0, 0, 0, 0, 0, 0, 0, 0, 0, 0, 0, 0, 0, 0, 0, 0, 0, 0, 0, 0, 0, 0, 0, 0, 0, 0, 0, 0, 0, 0, 0, 0, 0, 0, 0, 0, 0, 0, 0, 0, 0, 0, 0, 0, 0, 0, 0, 0, 0, 0, 0, 0, 0, 0, 0, 0, 0, 0, 0, 0, 0, 0, 0, 0, 0, 0, 0, 0, 0, 0, 0, 0, 0, 0, 0, 0, 0, 0, 0, 0, 0, 0, 0, 0, 0, 0, 0, 0, 0, 0, 0, 0, 0, 0, 0, 0, 0, 0, 0, 0, 0, 0, 0, 0, 0, 0, 0, 0, 0, 0, 0, 0, 0, 0, 0, 0, 0, 0, 0, 0, 0, 0, 0, 0, 0, 0, 0, 0, 0, 0, 0, 0, 0, 0, 0, 0, 0, 0, 0, 0, 0, 0, 0, 0, 0, 0, 0, 0, 0, 0, 0, 0, 0, 0, 0, 0, 0, 0, 0, 0, 0, 0, 0, 0, 0, 0, 0, 0, 0, 0, 0, 0, 0, 0, 0, 0, 0, 0, 0, 0, 0, 0, 0, 0, 0, 0, 0, 0, 0, 0, 0, 0, 0, 0, 0, 0, 0, 0, 1, 0, 0, 0, 0, 0, 0, 0, 0, 0, 0, 0, 0, 0, 0, 0, 0, 0, 0, 0, 0, 0, 0, 0, 0, 0, 0, 0, 0, 0, 0, 0, 0, 0, 0, 0, 0, 0, 0, 0, 0, 0, 0, 0, 0, 0, 0, 0, 0, 0, 0, 0, 0, 0, 0, 0, 1, 0, 0, 0, 0, 0, 0, 0, 0, 0, 0, 0, 0, 0, 0, 0, 0, 0, 0, 0, 0, 0, 0, 0, 0, 0, 0, 0, 0, 0, 0, 0, 0, 0, 0, 0, 0, 0, 0, 0, 0, 0, 0, 0, 0, 0, 0, 0, 0, 0, 0, 0, 0, 0, 0, 0, 0, 0, 0, 0, 0, 0, 0, 0, 0, 0, 0, 0, 0, 0, 0, 0, 0, 0, 0, 0, 0, 0, 0, 0, 0, 0, 0, 0, 0, 0, 0, 0, 0, 0, 0, 0, 0, 0, 0, 0, 0, 0, 0, 0, 0, 0, 0, 0, 0, 0, 0, 0, 0, 0, 0, 0, 0, 0, 0, 0, 0, 0, 0, 0, 0, 0, 0, 0, 0, 0, 0, 0, 0, 0, 0, 0, 0, 0, 0, 0, 0, 0, 0, 0, 0, 0, 0, 0, 0, 0, 0, 0, 0, 0, 0, 0, 0, 0, 0, 0, 0, 0, 0, 0, 0, 0, 0, 0, 0, 0, 0, 0, 0, 0, 0, 0, 0, 0, 0, 0, 0, 0, 0, 0, 0, 0, 0, 0, 0, 0, 0, 0, 0, 0, 0, 0, 0, 0, 0, 0, 0, 0, 0, 0, 0, 0, 0, 0, 0, 0, 0, 0, 0, 0, 0, 0, 0, 0, 0, 0, 0, 0, 0, 0, 0, 0, 0, 0, 0, 0, 0, 0, 0, 0, 0, 0, 0, 0, 0, 0, 0, 0, 0, 0, 0, 0, 0, 0, 0, 0, 0, 0, 0, 0, 0, 0, 0, 0, 0, 0, 0, 0, 0, 0, 0, 0, 0, 0, 0, 0, 0, 0, 0, 0, 0, 0, 0, 0, 0, 0, 0, 0, 0, 0, 0, 0, 0, 0, 0, 0, 0, 0, 0, 0, 0, 0, 0, 0, 0, 0, 0, 0, 0, 0, 0, 0, 0, 0, 0, 0, 0, 0, 0, 0, 0, 0, 0, 0, 0, 0, 0, 0, 0, 0, 0, 0, 0, 0, 0, 0, 0, 0, 0, 0, 0, 0, 0, 0, 0, 0, 0, 0, 0, 0, 0, 0, 0, 0, 0, 0, 0, 0, 0, 0, 0, 0, 0, 0, 0, 0, 0, 0, 0, 0, 0, 0, 0, 0, 0, 0, 0, 0, 0, 0, 0, 0, 0, 0, 0, 0, 0, 0, 0, 0, 0, 0, 0, 0, 0, 0, 0, 0, 0, 0, 0, 0, 0, 0, 0, 0, 0, 0, 0, 0, 0, 0, 0, 0, 0, 0, 0, 0, 0, 0, 0, 0, 0, 0, 0, 0, 0, 0, 0, 0, 0, 0, 0, 0, 0, 0, 0, 0, 0, 0, 0, 0, 0, 0, 0, 0, 0, 0, 0, 0, 0, 0, 0, 0, 0, 0, 0, 0, 0, 0, 0, 0, 0, 0, 0, 0, 0, 0, 0, 0, 0, 0, 0, 0, 0, 0, 0, 0, 0, 0, 0, 0, 0, 0, 0, 0, 0, 0, 0, 0, 0, 0, 0, 0, 0, 0, 0, 0, 0, 0, 0, 0, 0, 0, 0, 0, 0, 0, 0, 0, 0, 0, 0, 0, 0, 0, 0, 0, 0, 0, 0, 0, 0, 0, 0, 0, 0, 0, 0, 0, 0, 0, 0, 0, 0, 0, 0, 0, 0, 0, 0, 0, 0, 0, 0, 0, 0, 0, 0, 0, 0, 0, 0, 0, 0, 0, 0, 0, 0, 0, 0, 0, 0, 0, 0, 0, 0, 0, 0, 0, 0, 0, 0, 0, 0, 0, 0, 0, 0, 0, 0, 0, 0, 0, 0, 0, 0, 0, 0, 0, 0, 0, 0, 0, 0, 0, 0, 0, 0, 0, 0, 0, 0, 0, 0, 0, 0, 0, 0, 0, 0, 0, 0, 0, 0, 0, 0, 0, 0, 0, 0, 0, 0, 0, 0, 0, 0, 0, 0, 0, 0, 0, 0, 0, 0, 0, 0, 0, 0, 0, 0, 0, 0, 0, 0, 0, 0, 0, 0, 0, 0, 0, 0, 0, 0, 0, 0, 0, 0, 0, 0, 0, 0, 0, 0, 0, 0, 0, 0, 0, 0, 0, 0, 0, 0, 0, 0, 0, 0, 0, 0, 0, 0, 0, 0, 0, 0, 0, 0, 0, 0, 0, 1, 0, 0, 0, 0, 0, 0, 0, 0, 0, 0, 0, 0, 0, 0, 0, 0, 0, 0, 0, 0, 0, 0, 0, 0, 0, 0, 0, 0, 0, 0, 0, 0, 0, 0, 0, 0, 0, 0, 0, 0, 0, 0, 0, 0, 0, 0, 0, 0, 0, 0, 0, 0, 0, 0, 0, 0, 0, 0, 0, 0, 0, 0, 0, 0, 0, 0, 0, 0, 0, 0, 0, 0, 0, 0, 1, 0, 0, 0, 0, 0, 0, 0, 0, 0, 0, 0, 0, 0, 0, 0, 0, 0, 0, 0, 0, 1, 0, 0, 1, 0, 0, 0, 0, 0, 0, 0, 0, 0, 0, 0, 0, 0, 0, 0, 0, 0, 0, 0, 0, 0, 0, 0, 0, 0, 0, 0, 0, 0, 0, 0, 0, 0, 0, 0, 0, 0, 0, 0, 0, 0, 0, 0, 0, 0, 0, 0, 0, 0, 0, 0, 0, 0, 0, 0, 0, 0, 0, 0, 0, 0, 0, 0, 0, 0, 0, 0, 0, 0, 0, 0, 0, 0, 0, 0, 0, 0, 0, 0, 0, 0, 0, 0, 0, 0, 0, 0, 0, 0, 0, 0, 0, 0, 0, 0, 0, 0, 0, 0, 0, 0, 0, 0, 0, 0, 0, 0, 0, 0, 0, 0, 0, 0, 0, 0, 0, 0, 0, 0, 0, 0, 0, 0, 0, 0, 0, 0, 0, 0, 0, 0, 0, 0, 0, 0, 0, 0, 0, 0, 0, 0, 0, 0, 0, 0, 0, 0, 0, 0, 0, 0, 0, 0, 0, 0, 0, 0, 0, 0, 0, 0, 0, 0, 0, 0, 0, 0, 0, 0, 0, 0, 0, 0, 0, 0, 0, 0, 0, 0, 0, 0, 0, 0, 0, 0, 0, 0, 0, 0, 0, 0, 0, 0, 0, 0, 0, 0, 0, 0, 0, 0, 0, 0, 0, 0, 0, 0, 0, 0, 0, 0, 0, 0, 0, 0, 0, 0, 0, 0, 0, 0, 0, 0, 0, 0, 0, 0, 0, 0, 0, 0, 0, 0, 0, 0, 0, 0, 0, 0, 0, 0, 0, 0, 0, 0, 0, 0, 0, 0, 0, 0, 0, 0, 0, 0, 0, 0, 0, 0, 0, 0, 0, 0, 0, 0, 0, 0, 0, 0, 0, 0, 0, 0, 0, 0, 0, 0, 0, 0, 0, 0, 0, 0, 0, 0, 0, 0, 0, 0, 0, 0, 0, 0, 0, 0, 0, 0, 0, 0, 0, 0, 0, 0, 0, 0, 0, 0, 0, 0, 0, 0, 0, 0, 0, 0, 0, 0, 0, 0, 0, 0, 0, 0, 0, 0, 0, 0, 0, 0, 0, 0, 0, 0, 0, 0, 0, 0, 0, 0, 0, 0, 0, 0, 0, 0, 0, 0, 0, 0, 0, 0, 0, 0, 0, 0, 0, 0, 0, 0, 0, 0, 0, 0, 0, 0, 0, 0, 0, 0, 0, 0, 0, 0, 0, 0, 0, 0, 0, 0, 0, 0, 0, 0, 0, 0, 0, 0, 0, 0, 0, 0, 0, 0, 0, 0, 0, 0, 0, 0, 0, 0, 0, 0, 0, 0, 0, 0, 0, 0, 0, 0, 0, 0, 0, 0, 0, 0, 0, 0, 0, 0, 0, 0, 0, 0, 0, 0, 0, 0, 0, 0, 0, 0, 0, 0, 0, 0, 0, 0, 0, 0, 0, 0, 0, 0, 0, 0, 0, 0, 0, 0, 0, 0, 0, 0, 0, 0, 0, 0, 0, 0, 0, 0, 0, 0, 0, 1, 0, 0, 0, 0, 0, 0, 0, 0, 0, 0, 0, 0, 0, 0, 0, 0, 0, 0, 0, 0, 0, 0, 0, 0, 0, 0, 0, 0, 0, 0, 0, 0, 0, 0, 0, 0, 0, 0, 0, 0, 0, 0, 0, 0, 0, 0, 0, 0, 0, 0, 0, 0, 0, 0, 0, 0, 0, 0, 0, 0, 0, 0, 0, 0, 0, 0, 0, 0, 0, 0, 0, 0, 0, 0, 0, 0, 0, 0, 0, 0, 0, 0, 0, 0, 0, 0, 0, 0, 0, 0, 0, 0, 0, 0, 0, 0, 0, 0, 0, 0, 0, 0, 0, 0, 0, 0, 0, 0, 0, 0, 0, 0, 0, 0, 0, 0, 0, 0, 0, 0, 0, 0, 0, 0, 0, 0, 0, 0, 0, 0, 0, 0, 0, 0, 0, 0, 0, 0, 0, 0, 0, 0, 0, 0, 0, 0, 0, 0, 0, 0, 0, 0, 0, 0, 0, 0, 0, 0, 0, 0, 0, 0, 0, 0, 0, 0, 0, 0, 0, 0, 0, 0, 0, 0, 0, 0, 0, 0, 0, 0, 0, 0, 0, 0, 0, 0, 0, 0, 0, 0, 0, 0, 0, 0, 0, 0, 0, 0, 0, 0, 0, 0, 0, 0, 0, 0, 0, 0, 0, 0, 0, 0, 0, 0, 0, 0, 0, 0, 0, 0, 0, 0, 0, 0, 0, 0, 0, 0, 0, 0, 0, 0, 0, 0, 0, 0, 0, 0, 0, 0, 0, 0, 0, 0, 0, 0, 0, 0, 0, 0, 0, 0, 0, 0, 0, 0, 0, 0, 0, 0, 0, 0, 0, 0, 0, 0, 0, 0, 0, 0, 0, 0, 0, 0, 0, 0, 0, 0, 0, 0, 0, 0, 0, 0, 0, 0, 0, 0, 0, 0, 0, 0, 0, 0, 0, 0, 0, 0, 0, 0, 0, 0, 0, 0, 0, 0, 0, 0, 0, 0, 0, 0, 0, 0, 0, 0, 0, 0, 0, 0, 0, 0, 0, 0, 0, 0, 0, 0, 0, 0, 0, 0, 0, 0, 0, 0, 0, 0, 0, 0, 0, 0, 0, 0, 0, 0, 0, 0, 0, 0, 0, 0, 0, 0, 0, 0, 0, 0, 0, 0, 0, 0, 0, 0, 0, 0, 0, 0, 0, 0, 0, 0, 0, 0, 0, 0, 0, 0, 0, 0, 0, 0, 0, 0, 0, 0, 0, 0, 0, 0, 0, 0, 0, 0, 0, 0, 0, 0, 0, 0, 0, 0, 0, 0, 0, 0, 0, 0, 0, 0, 0, 0, 0, 0, 0, 0, 0, 0, 0, 0, 0, 0, 0, 0, 0, 0, 0, 0, 0, 0, 0, 0, 0, 0, 0, 0, 0, 0, 0, 0, 0, 0, 0, 0, 0, 0, 0, 0, 0, 0, 0, 0, 0, 0, 0, 0, 0, 0, 0, 0, 0, 0, 0, 0, 0, 0, 0, 0, 0, 0, 0, 0, 0, 0, 0, 0, 0, 0, 0, 0, 0, 0, 0, 0, 0, 0, 0, 0, 0, 0, 0, 0, 0, 0, 0, 0, 0, 0, 0, 0, 0, 0, 0, 0, 0, 0, 0, 0, 0, 0, 0, 0, 1, 0, 0, 0, 0, 0, 0, 0, 0, 0, 0, 0, 0, 0, 0, 0, 0, 0, 0, 0, 0, 0, 0, 0, 0, 0, 0, 0, 0, 0, 0, 0, 0, 0, 0, 0, 2, 0, 0, 0, 0, 0, 0, 0, 0, 0, 0, 0, 0, 0, 0, 0, 0, 0, 0, 0, 0, 0, 0, 0, 0, 0, 0, 0, 0, 0, 0, 0, 0, 0, 0, 0, 0, 0, 0, 0, 0, 1, 0, 0, 0, 0, 0, 0, 0, 0, 0, 0, 0, 0, 0, 0, 0, 0, 0, 0, 0, 0, 0, 0, 0, 0, 0, 0, 0, 0, 0, 0, 0, 0, 0, 0, 0, 0, 0, 0, 0, 0, 0, 0, 0, 0, 0, 0, 0, 0, 0, 0, 0, 0, 0, 0, 0, 0, 0, 0, 0, 0, 0, 0, 0, 0, 0, 0, 0, 0, 0, 0, 0, 0, 0, 0, 0, 0, 0, 0, 0, 0, 0, 0, 0, 0, 0, 0, 0, 0, 0, 0, 0, 0, 0, 0, 0, 0, 0, 0, 0, 0, 0, 0, 0, 0, 0, 0, 0, 0, 0, 0, 0, 0, 0, 0, 0, 0, 0, 0, 0, 0, 0, 0, 0, 0, 0, 0, 0, 0, 0, 0, 0, 0, 0, 0, 0, 0, 0, 0, 0, 0, 0, 0, 0, 0, 0, 0, 0, 0, 0, 0, 0, 0, 0, 0, 0, 0, 0, 0, 0, 0, 0, 0, 0, 0, 0, 0, 0, 0, 0, 0, 0, 0, 0, 0, 0, 0, 0, 0, 0, 0, 0, 0, 0, 0, 0, 0, 0, 0, 0, 0, 0, 0, 0, 0, 0, 0, 0, 0, 0, 0, 0, 0, 0, 0, 0, 0, 0, 0, 0, 0, 0, 0, 0, 0, 0, 0, 0, 0, 0, 0, 0, 0, 0, 0, 0, 0, 0, 0, 0, 0, 0, 0, 0, 0, 0, 0, 0, 0, 0, 0, 0, 0, 0, 0, 0, 0, 0, 0, 0, 0, 0, 0, 0, 0, 0, 0, 0, 0, 0, 0, 0, 0, 0, 0, 0, 0, 0, 0, 0, 0, 0, 0, 0, 0, 0, 0, 0, 0, 0, 0, 0, 0, 0, 0, 0, 0, 0, 0, 0, 0, 0, 0, 0, 0, 0, 0, 0, 0, 0, 0, 0, 0, 0, 0, 0, 0, 0, 0, 0, 0, 0, 0, 0, 0, 0, 0, 0, 0, 0, 0, 0, 0, 0, 0, 0, 0, 0, 0, 0, 0, 0, 0, 0, 0, 0, 0, 0, 0, 0, 0, 0, 0, 0, 0, 0, 0, 0, 0, 0, 0, 0, 0, 0, 0, 0, 0, 0, 0, 0, 0, 0, 0, 0, 0, 0, 0, 0, 0, 0, 0, 0, 0, 0, 0, 0, 0, 0, 0, 0, 0, 0, 0, 0, 0, 0, 0, 0, 0, 0, 0, 0, 0, 0, 0, 0, 0, 0, 0, 0, 0, 0, 0, 0, 0, 0, 0, 0, 0, 0, 0, 0, 0, 0, 0, 0, 0, 0, 0, 0, 0, 0, 0, 0, 0, 0, 0, 0, 0, 0, 0, 0, 0, 0, 0, 0, 0, 0, 0, 0, 0, 0, 0, 0, 0, 0, 0, 0, 0, 0, 0, 0, 0, 0, 0, 0, 0, 0, 0, 0, 0, 0, 0, 0, 0, 0, 0, 0, 0, 0, 0, 0, 0, 0, 0, 0, 0, 0, 0, 0, 0, 0, 0, 0, 0, 0, 0, 0, 0, 0, 0, 0, 0, 0, 0, 0, 0, 0, 1, 0, 0, 0, 0, 0, 0, 0, 0, 0, 0, 0, 0, 0, 0, 0, 0, 0, 0, 0, 0, 0, 0, 0, 0, 0, 0, 0, 0, 0, 0, 0, 0, 0, 0, 0, 0, 0, 0, 0, 0, 0, 0, 0, 0, 0, 0, 0, 0, 0, 0, 0, 0, 0, 0, 0, 0, 0, 0, 0, 0, 0, 0, 0, 0, 0, 0, 0, 0, 0, 0, 0, 0, 0, 0, 0, 0, 0, 0, 0, 0, 0, 0, 0, 0, 0, 0, 0, 0, 0, 0, 0, 0, 0, 0, 0, 0, 0, 0, 0, 0, 0, 0, 0, 0, 0, 0, 0, 0, 0, 0, 2, 0, 0, 0, 0, 0, 0, 0, 0, 0, 0, 0, 0, 0, 0, 0, 0, 0, 0, 0, 0, 0, 0, 0, 0, 0, 0, 0, 0, 0, 0, 0, 0, 0, 0, 0, 0, 0, 0, 0, 0, 0, 0, 0, 0, 0, 0, 0, 0, 0, 0, 0, 0, 0, 0, 0, 0, 0, 0, 0, 0, 0, 0, 0, 0, 0, 0, 0, 0, 0, 0, 0, 0, 0, 0, 0, 0, 0, 0, 0, 0, 0, 0, 0, 0, 0, 0, 0, 0, 0, 0, 0, 0, 0, 0, 0, 0, 0, 0, 0, 0, 0, 0, 0, 0, 0, 0, 0, 0, 0, 0, 0, 0, 0, 0, 0, 0, 0, 0, 0, 0, 0, 0, 0, 0, 0, 0, 0, 0, 0, 0, 0, 0, 0, 0, 0, 0, 0, 0, 0, 0, 0, 0, 0, 0, 0, 0, 0, 0, 0, 0, 0, 0, 0, 0, 0, 0, 0, 0, 0, 0, 0, 0, 0, 0, 0, 0, 0, 0, 0, 0, 0, 0, 0, 0, 0, 0, 0, 0, 0, 0, 0, 0, 0, 0, 0, 0, 0, 0, 0, 0, 0, 0, 0, 0, 0, 0, 0, 0, 0, 0, 0, 0, 0, 0, 0, 0, 0, 0, 0, 0, 0, 0, 0, 0, 0, 0, 0, 0, 0, 0, 0, 0, 0, 0, 0, 0, 0, 0, 0, 0, 0, 0, 0, 0, 0, 0, 0, 0, 0, 0, 0, 0, 0, 0, 0, 0, 0, 0, 0, 0, 0, 0, 0, 0, 0, 0, 0, 0, 0, 0, 0, 0, 0, 0, 0, 0, 0, 0, 0, 0, 0, 0, 0, 0, 0, 0, 0, 0, 0, 0, 0, 0, 0, 0, 0, 0, 0, 0, 0, 0, 0, 0, 0, 0, 0, 0, 0, 0, 0, 0, 0, 0, 0, 0, 0, 0, 0, 0, 0, 0, 0, 0, 0, 0, 0, 0, 0, 0, 0, 0, 0, 0, 0, 0, 0, 0, 0, 0, 0, 0, 0, 0, 0, 0, 0, 0, 0, 0, 0, 0, 0, 0, 0, 0, 0, 0, 0, 0, 0, 0, 0, 0, 0, 0, 0, 0, 0, 0, 0, 0, 0, 0, 0, 0, 0, 0, 0, 0, 0, 0, 0, 0, 0, 0, 0, 0, 0, 0, 0, 0, 0, 0, 0, 0, 0, 0, 0, 0, 0, 0, 0, 0, 0, 0, 0, 0, 0, 0, 0, 0, 0, 0, 0, 0, 0, 0, 0, 0, 0, 0, 0, 0, 0, 0, 0, 0, 0, 0, 0, 0, 0, 0, 0, 0, 0, 0, 0, 0, 0, 0, 0, 0, 0, 0, 0, 0, 0, 0, 0, 0, 0, 0, 0, 0, 0, 0, 0, 0, 0, 0, 0, 0, 0, 0, 0, 0, 0, 0, 0, 0, 0, 0, 0, 0, 0, 0, 0, 0, 0, 0, 0, 0, 0, 0, 0, 0, 0, 0, 0, 0, 0, 0, 0, 0, 0, 0, 0, 0, 0, 0, 0, 0, 0, 0, 0, 0, 0, 0, 0, 0, 0, 0, 0, 0, 0, 0, 0, 0, 0, 0, 0, 0, 0, 0, 0, 0, 0, 0, 0, 0, 0, 0, 0, 0, 0, 0, 0, 0, 0, 0, 0, 0, 0, 0, 0, 0, 0, 0, 0, 0, 0, 0, 0, 0, 0, 0, 0, 0, 0, 0, 0, 0, 0, 0, 0, 0, 0, 0, 0, 0, 0, 0, 0, 0, 0, 0, 0, 0, 0, 0, 0, 0, 0, 0, 0, 0, 0, 0, 0, 0, 0, 0, 0, 0, 0, 0, 0, 0, 0, 0, 0, 0, 0, 0, 0, 0, 0, 0, 0, 0, 0, 0, 0, 0, 0, 0, 0, 0, 0, 0, 0, 0, 0, 0, 0, 0, 0, 0, 0, 0, 0, 0, 0, 0, 0, 0, 0, 0, 0, 0, 0, 0, 0, 0, 0, 0, 0, 0, 0, 0, 0, 0, 0, 0, 0, 0, 0, 0, 0, 0, 0, 0, 0, 0, 0, 0, 0, 0, 0, 0, 0, 0, 0, 0, 0, 0, 0, 0, 0, 0, 0, 0, 0, 0, 0, 0, 0, 0, 0, 0, 0, 0, 0, 0, 0, 0, 0, 0, 0, 0, 1, 0, 0, 0, 0, 0, 0, 0, 0, 0, 0, 0, 0, 0, 0, 0, 0, 0, 0, 0, 0, 0, 0, 0, 0, 0, 0, 0, 0, 0, 0, 0, 0, 0, 0, 0, 0, 0, 0, 0, 0, 0, 0, 0, 0, 0, 0, 0, 0, 0, 0, 0, 0, 0, 0, 0, 0, 0, 0, 0, 0, 0, 0, 0, 0, 0, 0, 0, 0, 0, 0, 0, 0, 0, 0, 0, 0, 0, 0, 0, 0, 0, 0, 0, 0, 0, 0, 0, 0, 0, 0, 0, 0, 0, 0, 0, 0, 0, 0, 0, 0, 0, 0, 0, 0, 0, 0, 0, 1, 0, 0, 0, 0, 0, 0, 0, 0, 0, 0, 0, 0, 0, 0, 0, 0, 0, 0, 0, 0, 0, 0, 0, 0, 0, 0, 0, 0, 0, 0, 0, 0, 0, 0, 0, 0, 0, 0, 0, 0, 0, 0, 0, 0, 0, 0, 0, 0, 0, 0, 0, 0, 0, 0, 0, 0, 0, 0, 0, 0, 0, 0, 0, 0, 0, 0, 0, 0, 0, 0, 0, 0, 0, 0, 0, 0, 0, 0, 0, 0, 0, 0, 0, 0, 0, 0, 0, 0, 0, 0, 0, 0, 0, 0, 0, 0, 0, 0, 0, 0, 0, 0, 0, 0, 0, 0, 0, 0, 0, 0, 0, 0, 0, 0, 0, 0, 0, 0, 0, 0, 0, 0, 0, 0, 0, 0, 0, 0, 0, 0, 0, 0, 0, 0, 0, 0, 0, 0, 0, 0, 0, 0, 0, 0, 0, 0, 0, 0, 0, 0, 0, 0, 0, 0, 0, 0, 0, 0, 0, 0, 0, 0, 0, 0, 0, 0, 0, 0, 0, 0, 0, 0, 0, 0, 0, 0, 0, 0, 0, 0, 0, 0, 0, 0, 0, 0, 0, 0, 0, 0, 0, 0, 0, 0, 0, 0, 0, 0, 0, 0, 0, 0, 0, 0, 0, 0, 0, 0, 0, 0, 0, 0, 0, 0, 0, 0, 0, 0, 0, 0, 0, 0, 0, 0, 0, 0, 0, 0, 0, 0, 0, 0, 0, 0, 0, 0, 0, 0, 0, 0, 0, 0, 0, 0, 0, 0, 0, 0, 0, 0, 0, 0, 0, 0, 0, 0, 0, 0, 0, 0, 0, 0, 0, 0, 0, 0, 0, 0, 0, 0, 0, 0, 0, 0, 0, 0, 0, 0, 0, 0, 0, 0, 0, 0, 0, 0, 0, 0, 0, 0, 0, 0, 0, 0, 0, 0, 0, 0, 0, 0, 0, 0, 0, 0, 0, 0, 0, 0, 0, 0, 0, 0, 0, 0, 0, 0, 0, 0, 0, 0, 0, 0, 0, 0, 0, 0, 0, 0, 0, 0, 0, 0, 0, 0, 0, 0, 0, 0, 0, 0, 0, 0, 0, 0, 0, 0, 0, 0, 0, 0, 0, 0, 0, 0, 0, 0, 0, 0, 0, 0, 0, 0, 0, 0, 0, 0, 0, 0, 0, 0, 0, 0, 0, 0, 0, 0, 0, 0, 0, 0, 0, 0, 0, 0, 0, 0, 0, 0, 0, 0, 0, 0, 0, 0, 0, 0, 0, 0, 0, 0, 0, 0, 0, 0, 0, 0, 0, 0, 0, 0, 0, 0, 0, 0, 0, 0, 0, 0, 0, 0, 0, 0, 0, 0, 0, 0, 0, 0, 0, 0, 0, 0, 0, 0, 0, 0, 0, 0, 0, 0, 0, 0, 0, 0, 0, 0, 0, 0, 0, 0, 0, 0, 0, 0, 0, 0, 0, 0, 0, 0, 0, 0, 0, 2, 0, 1, 0], type: <class 'list'>, valid types: <class 'bytes'>, <class 'bytearray'>, file-like object"
     ]
    }
   ],
   "source": [
    "response = runtime.invoke_endpoint(EndpointName = xgb_predictor.endpoint, # The name of the endpoint we created\n",
    "                                       ContentType = 'text/csv',                     # The data format that is expected\n",
    "                                       Body = test_bow)"
   ]
  },
  {
   "cell_type": "markdown",
   "metadata": {},
   "source": [
    "So why did we get an error?\n",
    "\n",
    "Because we tried to send the endpoint a list of integers but it expected us to send data of type `text/csv`. So, we need to convert it."
   ]
  },
  {
   "cell_type": "code",
   "execution_count": 43,
   "metadata": {},
   "outputs": [],
   "source": [
    "response = runtime.invoke_endpoint(EndpointName = xgb_predictor.endpoint, # The name of the endpoint we created\n",
    "                                       ContentType = 'text/csv',                     # The data format that is expected\n",
    "                                       Body = ','.join([str(val) for val in test_bow]).encode('utf-8'))"
   ]
  },
  {
   "cell_type": "code",
   "execution_count": 44,
   "metadata": {},
   "outputs": [
    {
     "name": "stdout",
     "output_type": "stream",
     "text": [
      "{'ResponseMetadata': {'RequestId': '3aaaa73d-f00e-4c20-84bf-7adc0443edb3', 'HTTPStatusCode': 200, 'HTTPHeaders': {'x-amzn-requestid': '3aaaa73d-f00e-4c20-84bf-7adc0443edb3', 'x-amzn-invoked-production-variant': 'AllTraffic', 'date': 'Sun, 10 May 2020 12:08:42 GMT', 'content-type': 'text/csv; charset=utf-8', 'content-length': '14'}, 'RetryAttempts': 0}, 'ContentType': 'text/csv; charset=utf-8', 'InvokedProductionVariant': 'AllTraffic', 'Body': <botocore.response.StreamingBody object at 0x7fb21d05c320>}\n"
     ]
    }
   ],
   "source": [
    "print(response)"
   ]
  },
  {
   "cell_type": "markdown",
   "metadata": {},
   "source": [
    "As we can see, the response from our model is a somewhat complicated looking dict that contains a bunch of information. The bit that we are most interested in is `'Body'` object which is a streaming object that we need to `read` in order to make use of."
   ]
  },
  {
   "cell_type": "code",
   "execution_count": 45,
   "metadata": {},
   "outputs": [
    {
     "name": "stdout",
     "output_type": "stream",
     "text": [
      "0.434251755476\n"
     ]
    }
   ],
   "source": [
    "response = response['Body'].read().decode('utf-8')\n",
    "print(response)"
   ]
  },
  {
   "cell_type": "markdown",
   "metadata": {},
   "source": [
    "Now that we know how to process the incoming user data we can start setting up the infrastructure to make our simple web app work. To do this we will make use of two different services. Amazon's Lambda and API Gateway services.\n",
    "\n",
    "Lambda is a service which allows someone to write some relatively simple code and have it executed whenever a chosen trigger occurs. For example, you may want to update a database whenever new data is uploaded to a folder stored on S3.\n",
    "\n",
    "API Gateway is a service that allows you to create HTTP endpoints (url addresses) which are connected to other AWS services. One of the benefits to this is that you get to decide what credentials, if any, are required to access these endpoints.\n",
    "\n",
    "In our case we are going to set up an HTTP endpoint through API Gateway which is open to the public. Then, whenever anyone sends data to our public endpoint we will trigger a Lambda function which will send the input (in our case a review) to our model's endpoint and then return the result."
   ]
  },
  {
   "cell_type": "markdown",
   "metadata": {},
   "source": [
    "### Setting up a Lambda function\n",
    "\n",
    "The first thing we are going to do is set up a Lambda function. This Lambda function will be executed whenever our public API has data sent to it. When it is executed it will receive the data, perform any sort of processing that is required, send the data (the review) to the SageMaker endpoint we've created and then return the result.\n",
    "\n",
    "#### Part A: Create an IAM Role for the Lambda function\n",
    "\n",
    "Since we want the Lambda function to call a SageMaker endpoint, we need to make sure that it has permission to do so. To do this, we will construct a role that we can later give the Lambda function.\n",
    "\n",
    "Using the AWS Console, navigate to the **IAM** page and click on **Roles**. Then, click on **Create role**. Make sure that the **AWS service** is the type of trusted entity selected and choose **Lambda** as the service that will use this role, then click **Next: Permissions**.\n",
    "\n",
    "In the search box type `sagemaker` and select the check box next to the **AmazonSageMakerFullAccess** policy. Then, click on **Next: Review**.\n",
    "\n",
    "Lastly, give this role a name. Make sure you use a name that you will remember later on, for example `LambdaSageMakerRole`. Then, click on **Create role**."
   ]
  },
  {
   "cell_type": "markdown",
   "metadata": {},
   "source": [
    "#### Part B: Create a Lambda function\n",
    "\n",
    "Now it is time to actually create the Lambda function. Remember from earlier that in order to process the user provided input and send it to our endpoint we need to gather two pieces of information:\n",
    "\n",
    " - The name of the endpoint, and\n",
    " - the vocabulary object.\n",
    "\n",
    "We will copy these pieces of information to our Lambda function after we create it.\n",
    "\n",
    "To start, using the AWS Console, navigate to the AWS Lambda page and click on **Create a function**. When you get to the next page, make sure that **Author from scratch** is selected. Now, name your Lambda function, using a name that you will remember later on, for example `sentiment_analysis_xgboost_func`. Make sure that the **Python 3.6** runtime is selected and then choose the role that you created in the previous part. Then, click on **Create Function**.\n",
    "\n",
    "On the next page you will see some information about the Lambda function you've just created. If you scroll down you should see an editor in which you can write the code that will be executed when your Lambda function is triggered. Collecting the code we wrote above to process a single review and adding it to the provided example `lambda_handler` we arrive at the following.\n",
    "\n",
    "```python\n",
    "# We need to use the low-level library to interact with SageMaker since the SageMaker API\n",
    "# is not available natively through Lambda.\n",
    "import boto3\n",
    "\n",
    "# And we need the regular expression library to do some of the data processing\n",
    "import re\n",
    "\n",
    "REPLACE_NO_SPACE = re.compile(\"(\\.)|(\\;)|(\\:)|(\\!)|(\\')|(\\?)|(\\,)|(\\\")|(\\()|(\\))|(\\[)|(\\])\")\n",
    "REPLACE_WITH_SPACE = re.compile(\"(<br\\s*/><br\\s*/>)|(\\-)|(\\/)\")\n",
    "\n",
    "def review_to_words(review):\n",
    "    words = REPLACE_NO_SPACE.sub(\"\", review.lower())\n",
    "    words = REPLACE_WITH_SPACE.sub(\" \", words)\n",
    "    return words\n",
    "    \n",
    "def bow_encoding(words, vocabulary):\n",
    "    bow = [0] * len(vocabulary) # Start by setting the count for each word in the vocabulary to zero.\n",
    "    for word in words.split():  # For each word in the string\n",
    "        if word in vocabulary:  # If the word is one that occurs in the vocabulary, increase its count.\n",
    "            bow[vocabulary[word]] += 1\n",
    "    return bow\n",
    "\n",
    "\n",
    "def lambda_handler(event, context):\n",
    "    \n",
    "    vocab = \"*** ACTUAL VOCABULARY GOES HERE ***\"\n",
    "    \n",
    "    words = review_to_words(event['body'])\n",
    "    bow = bow_encoding(words, vocab)\n",
    "\n",
    "    # The SageMaker runtime is what allows us to invoke the endpoint that we've created.\n",
    "    runtime = boto3.Session().client('sagemaker-runtime')\n",
    "\n",
    "    # Now we use the SageMaker runtime to invoke our endpoint, sending the review we were given\n",
    "    response = runtime.invoke_endpoint(EndpointName = '***ENDPOINT NAME HERE***',# The name of the endpoint we created\n",
    "                                       ContentType = 'text/csv',                 # The data format that is expected\n",
    "                                       Body = ','.join([str(val) for val in bow]).encode('utf-8')) # The actual review\n",
    "\n",
    "    # The response is an HTTP response whose body contains the result of our inference\n",
    "    result = response['Body'].read().decode('utf-8')\n",
    "    \n",
    "    # Round the result so that our web app only gets '1' or '0' as a response.\n",
    "    result = round(float(result))\n",
    "\n",
    "    return {\n",
    "        'statusCode' : 200,\n",
    "        'headers' : { 'Content-Type' : 'text/plain', 'Access-Control-Allow-Origin' : '*' },\n",
    "        'body' : str(result)\n",
    "    }\n",
    "```"
   ]
  },
  {
   "cell_type": "markdown",
   "metadata": {},
   "source": [
    "Once you have copy and pasted the code above into the Lambda code editor, replace the `**ENDPOINT NAME HERE**` portion with the name of the endpoint that we deployed earlier. You can determine the name of the endpoint using the code cell below."
   ]
  },
  {
   "cell_type": "code",
   "execution_count": 48,
   "metadata": {},
   "outputs": [
    {
     "data": {
      "text/plain": [
       "'xgboost-2020-05-10-11-42-57-801'"
      ]
     },
     "execution_count": 48,
     "metadata": {},
     "output_type": "execute_result"
    }
   ],
   "source": [
    "xgb_predictor.endpoint"
   ]
  },
  {
   "cell_type": "markdown",
   "metadata": {},
   "source": [
    "In addition, you will need to copy the vocabulary dict to the appropriate place in the code at the beginning of the `lambda_handler` method. The cell below prints out the vocabulary dict in a way that is easy to copy and paste."
   ]
  },
  {
   "cell_type": "code",
   "execution_count": 50,
   "metadata": {
    "scrolled": false
   },
   "outputs": [
    {
     "name": "stdout",
     "output_type": "stream",
     "text": [
      "{'this': 4457, 'movie': 2926, 'is': 2360, 'completely': 922, 'ridiculous': 3693, 'not': 3040, 'only': 3110, 'the': 4426, 'plot': 3309, 'atrocious': 335, 'but': 636, 'acting': 99, 'horrendous': 2162, 'special': 4097, 'effects': 1431, 'are': 285, 'and': 226, 'entire': 1502, 'set': 3898, 'in': 2257, 'post': 3352, 'desert': 1198, 'yet': 4984, 'it': 2366, 'by': 642, 'far': 1653, 'most': 2909, 'amusing': 221, 'ever': 1538, 'given': 1913, 'to': 4507, 'be': 418, 'produced': 3414, 'minutes': 2859, 'of': 3083, 'laughs': 2534, 'due': 1382, 'fact': 1621, 'that': 4424, 'we': 4823, 'all': 187, 'know': 2489, 'there': 4438, 'will': 4886, 'no': 3020, 'year': 4978, '3000': 43, 'or': 3124, 'any': 256, 'also': 199, 'other': 3135, 'aspects': 322, 'which': 4867, 'spoil': 4121, 'just': 2437, 'because': 432, 'they': 4442, 'what': 4858, 'makes': 2716, 'movies': 2927, 'so': 4046, 'wonderfully': 4929, 'moronic': 2907, 'highly': 2105, 'recommend': 3571, 'its': 2370, 'utter': 4701, 'have': 2052, 'idea': 2213, 'who': 4871, 'would': 4957, 'watch': 4811, 'expecting': 1578, 'high': 2100, 'quality': 3484, 'feature': 1678, 'if': 2222, 'good': 1937, 'laugh': 2529, 'you': 4986, 'need': 2987, 'bobby': 525, 'goofy': 1939, 'kid': 2464, 'too': 4522, 'much': 2934, 'wants': 4791, 'sex': 3907, 'he': 2056, 'van': 4713, 'aid': 160, 'quest': 3486, 'lame': 2510, 'comedy': 890, 'pathetic': 3210, 'script': 3834, 'more': 2904, 'than': 4420, 'loosely': 2651, 'chain': 741, 'clichés': 846, 'cheap': 774, 'thrills': 4475, 'makers': 2715, 'film': 1716, 'obviously': 3072, 'wanted': 4789, 'capture': 676, 'some': 4061, 'out': 3141, 'films': 1721, 'time': 4495, 'fell': 1690, 'long': 2644, 'way': 4820, 'short': 3946, 'even': 1533, 'resort': 3650, 'on': 3105, 'skin': 4015, 'supposedly': 4307, 'add': 115, 'comedic': 888, 'value': 4709, 'im': 2232, 'struggling': 4236, 'find': 1726, 'redeeming': 3577, 'like': 2599, 'another': 250, 'classic': 835, 'kind': 2476, 'role': 3726, 'hes': 2093, 'supporting': 4304, 'actor': 103, 'for': 1784, 'cliché': 844, 'havent': 2053, 'watched': 4813, 'cant': 671, 'wait': 4770, 'see': 3855, 'seems': 3864, 'very': 4723, 'interesting': 2325, 'was': 4805, 'one': 3107, 'trailers': 4555, 'ive': 2372, 'seen': 3865, 'questions': 3489, 'really': 3556, 'stopped': 4202, 'me': 2778, 'made': 2697, 'think': 4452, 'unique': 4662, 'approach': 282, 'sport': 4129, 'boxing': 556, 'as': 311, 'battle': 414, 'within': 4912, 'thank': 4421, 'god': 1926, 'somebody': 4062, 'hitting': 2126, 'angle': 236, 'with': 4911, 'thing': 4450, 'looks': 2649, 'fresh': 1833, 'smart': 4035, 'hot': 2174, 'especially': 1520, 'enjoyed': 1486, 'clip': 851, 'from': 1840, 'rocky': 3723, 'clever': 841, 'thought': 4462, 'topic': 4526, 'childhood': 790, 'timeless': 4496, 'knows': 2493, 'lot': 2661, 'people': 3221, 'bring': 585, 'am': 204, 'going': 1931, 'review': 3676, 'little': 2624, 'television': 4394, '1996': 26, 'starred': 4153, 'joan': 2404, 'hart': 2041, 'daniel': 1111, 'main': 2707, 'protagonist': 3441, 'jennifer': 2392, 'typical': 4623, 'american': 213, 'teenager': 4390, 'feeling': 1685, 'having': 2054, 'such': 4268, 'father': 1666, 'however': 2183, 'when': 4862, 'she': 3923, 'meets': 2795, 'an': 223, 'ex': 1549, 'con': 928, 'called': 652, 'nick': 3012, 'ryan': 3765, 'jeremy': 2394, 'never': 3001, 'been': 438, 'instantly': 2306, 'fall': 1637, 'each': 1395, 'has': 2043, 'different': 1248, 'where': 4864, 'take': 4349, 'their': 4431, 'relationship': 3597, 'him': 2110, 'kill': 2468, 'her': 2085, 'parents': 3188, 'protect': 3443, 'love': 2669, 'used': 4693, 'get': 1899, 'rid': 3690, 'can': 665, 'brad': 560, 'david': 1124, 'future': 1856, 'cast': 710, 'mate': 2765, 'actually': 109, 'surprised': 4313, 'evil': 1548, 'carries': 699, 'well': 4843, 'using': 4698, 'friends': 1837, 'literally': 2622, 'away': 369, 'murder': 2939, 'rest': 3657, 'work': 4940, 'hold': 2129, 'own': 3158, 'screen': 3829, 'found': 1811, 'released': 3603, 'same': 3778, 'began': 441, 'portrayed': 3342, 'teenage': 4389, 'witch': 4909, 'shows': 3960, 'act': 97, 'my': 2951, 'genres': 1889, 'although': 201, 'dated': 1119, 'somewhat': 4068, 'stands': 4147, 'best': 469, 'involves': 2348, 'drama': 1346, 'thriller': 4472, 'looking': 2648, 'forward': 1808, 'nine': 3017, 'dead': 1132, 'comes': 891, 'anyone': 259, 'fan': 1648, 'internet': 2327, 'suggest': 4280, 'check': 777, 'summary': 4290, 'line': 2610, 'above': 68, 'spoken': 4126, 'james': 2378, 'robert': 3713, 'his': 2118, 'brother': 598, 'tom': 4514, 'about': 67, 'says': 3801, 'jim': 2402, 'aka': 168, 'making': 2718, 'things': 4451, 'happen': 2026, 'trouble': 4592, 'usually': 4700, 'leaves': 2556, 'bodies': 526, 'sort': 4077, 'younger': 4990, 'jeff': 2390, 'likes': 2602, 'sees': 3866, 'against': 147, 'local': 2634, 'texas': 4418, 'opening': 3114, 'credits': 1050, 'state': 4160, 'john': 2409, 'jr': 2423, 'first': 1736, 'appearance': 274, 'seemed': 3862, 'rather': 3528, 'odd': 3080, 'particularly': 3195, 'since': 3990, 'almost': 193, 'immediately': 2242, 'into': 2332, 'story': 4207, 'at': 331, 'bears': 421, 'passing': 3204, 'resemblance': 3645, 'sean': 3840, 'stranger': 4213, 'personal': 3240, 'legal': 2563, 'problems': 3409, 'throughout': 4478, 'career': 686, 'family': 1645, 'left': 2561, 'wondering': 4930, 'daughter': 1121, 'drew': 1360, 'might': 2835, 'picture': 3269, 'subject': 4253, 'struck': 4232, 'young': 4989, 'looked': 2647, 'bit': 488, 'roy': 3745, 'rogers': 3725, 'early': 1400, 'knowing': 2490, 'previously': 3388, 'george': 1893, '1950s': 14, 'tv': 4610, 'series': 3890, 'place': 3282, 'western': 4853, 'character': 758, 'becomes': 434, 'brothers': 599, 'creating': 1039, 'provides': 3450, 'minor': 2857, 'subplots': 4256, 'including': 2264, 'son': 4070, 'sheriff': 3929, 'kills': 2474, 'troubled': 4593, 'marriage': 2743, 'between': 475, 'husband': 2204, 'earl': 1398, 'hired': 2117, 'hands': 2020, 'figures': 1713, 'predictable': 3367, 'finale': 1723, 'whats': 4860, 'quite': 3495, 'how': 2181, 'eventually': 1537, 'wind': 4893, 'up': 4683, 'reason': 3557, 'points': 3319, 'following': 1774, 'less': 2575, 'hence': 2083, 'formulaic': 1803, 'bad': 382, 'westerns': 4854, 'do': 1302, 'combined': 885, 'casting': 711, 'id': 2212, 'endure': 1475, 'jump': 2429, 'cuts': 1091, 'sloppy': 4030, 'editing': 1421, 'experienced': 1581, 'copy': 994, 'huge': 2185, 'hit': 2122, 'upon': 4684, 'release': 3602, 'australian': 357, 'audiences': 353, 'still': 4188, 'funny': 1852, 'today': 4508, 'over': 3148, 'top': 4525, 'political': 3324, 'blunt': 520, 'humour': 2194, 'make': 2713, 'goes': 1930, 'content': 966, 'could': 1007, 'saved': 3795, 'sequel': 3885, 'barry': 401, 'holds': 2131, 'desperately': 1209, 'needed': 2988, 'new': 3003, 'stuff': 4243, 'anyway': 261, 'granted': 1957, 'attitude': 346, 'annoying': 249, 'drags': 1345, 'say': 3799, 'songs': 4072, 'bits': 490, 'certainly': 738, 'original': 3129, 'hilarious': 2106, 'adventures': 131, 'go': 1924, 'down': 1335, 'cinema': 816, 'should': 3951, 'everything': 1544, 'our': 3139, 'power': 3359, 'sure': 4308, 'majority': 2712, 'matter': 2769, 'rating': 3529, '10': 0, 'travesty': 4570, 'isnt': 2362, 'fit': 1740, 'keep': 2449, 'company': 910, 'superior': 4300, 'absolute': 71, 'mess': 2818, 'theyre': 4445, 'sentimental': 3882, 'girl': 1909, 'british': 589, 'awful': 372, 'then': 4436, 'man': 2721, 'put': 3480, 'preview': 3386, 'award': 366, 'every': 1539, '30': 42, 'seconds': 3848, 'were': 4848, 'had': 2003, 'wake': 4774, 'watching': 4815, 'several': 3905, 'times': 4497, 'after': 143, 'felt': 1692, 'them': 4432, 'taken': 4350, 'hoping': 2160, 'something': 4066, 'nothing': 3047, 'does': 1308, 'easy': 1410, 'loose': 2650, 'track': 4544, 'peoples': 3222, 'motives': 2916, 'characters': 760, 'flat': 1748, 'end': 1468, 'hoped': 2156, 'everyone': 1542, 'died': 1244, 'runs': 3757, 'around': 297, 'either': 1438, 'being': 448, 'petty': 3249, 'three': 4469, 'worse': 4951, 'minute': 2858, 'two': 4620, 'added': 116, 'features': 1680, 'kicks': 2463, 'understand': 4643, 'saw': 3798, 'aware': 368, 'spend': 4105, 'did': 1241, 'themselves': 4435, 'back': 378, 'worth': 4953, 'brought': 600, 'excitement': 1562, '24': 39, 'got': 1944, 'social': 4049, 'through': 4477, 'eyes': 1613, 'beyond': 476, 'worst': 4952, 'life': 2592, 'unless': 4669, 'yourself': 4993, 'problem': 3408, 'enjoy': 1484, 'scenes': 3811, 'depicting': 1184, 'call': 651, 'debut': 1143, 'sitcom': 4004, 'didnt': 1242, 'want': 4788, 'turn': 4605, 'course': 1019, 'said': 3774, 'killed': 2469, 'though': 4461, 'season': 3843, 'outrageous': 3145, 'later': 2525, 'became': 431, 'went': 4847, 'school': 3813, 'sometimes': 4067, 'seasons': 3844, 'eric': 1514, 'donna': 1323, 'girlfriend': 1910, 'hyde': 2206, 'conspiracy': 956, 'anti': 254, 'punk': 3468, 'student': 4238, 'finally': 1724, 'jackie': 2374, 'spoiled': 4122, 'rich': 3685, 'adult': 125, 'mom': 2885, 'believe': 454, 'dad': 1095, 'straight': 4210, 'wasnt': 4807, 'hard': 2033, 'ass': 323, 'dumb': 1385, 'blonde': 511, 'everybody': 1540, 'true': 4596, 'kudos': 2497, 'smith': 4038, 'finds': 1728, 'perfect': 3224, 'balance': 387, 'red': 3576, 'sympathetic': 4342, 'without': 4913, 'us': 4690, 'throw': 4479, 'unexpected': 4650, 'grace': 1950, 'why': 4878, 'show': 3953, 'tough': 4537, 'play': 3296, 'doesnt': 1309, 'allow': 189, 'wild': 4885, 'overacting': 3149, 'played': 3297, 'seeing': 3857, 'harder': 2035, 'realistic': 3550, 'writers': 4969, 'came': 656, 'brilliant': 583, 'last': 2521, 'guy': 2000, 'voice': 4761, 'artist': 307, 'type': 4621, 'fits': 1741, 'sad': 3767, 'part': 3193, 'together': 4511, 'wasted': 4809, 'already': 197, 'guest': 1992, 'actors': 104, 'always': 203, 'great': 1964, 'few': 1700, 'favorites': 1672, 'mid': 2832, 'dan': 1102, 'totally': 4532, 'awesome': 371, 'leo': 2571, 'equally': 1510, 'thomas': 4458, 'catholic': 720, 'coming': 896, 'next': 3007, 'fox': 1814, 'whatever': 4859, 'country': 1014, 'jungle': 2434, 'modern': 2882, 'global': 1920, 'world': 4946, 'native': 2972, 'wit': 4908, 'guide': 1993, 'fine': 1729, 'entry': 1504, 'terry': 4415, 'usual': 4699, 'lead': 2545, 'led': 2558, 'disaster': 1276, 'nation': 2969, 'charge': 761, 'starts': 4159, 'interest': 2323, 'ian': 2209, 'romantic': 3733, 'peter': 3247, 'sellers': 3872, 'puts': 3481, 'performances': 3229, 'corrupt': 1001, 'le': 2544, 'plays': 3301, 'revolutionary': 3681, 'leader': 2546, 'lots': 2662, 'fun': 1848, 'viewer': 4738, 'perhaps': 3235, 'classics': 837, 'pretty': 3384, 'gives': 1914, 'nominated': 3025, 'performance': 3228, 'attempted': 341, 'rape': 3521, 'victim': 4729, 'turns': 4609, 'your': 4991, 'proves': 3447, 'serious': 3891, 'actress': 105, 'both': 547, 'victor': 4731, 'truly': 4597, 'remarkable': 3613, 'piece': 3272, 'cinematic': 818, 'achievement': 94, 'start': 4156, 'utterly': 4702, 'hooked': 2153, 'while': 4868, 'performing': 3233, 'remains': 3611, 'childrens': 793, 'compelling': 916, 'jeffrey': 2391, 'green': 1971, 'mile': 2842, 'pity': 3281, 'until': 4680, 'remember': 3616, 'psychiatrist': 3455, 'dr': 1340, 'max': 2774, 'von': 4765, 'believable': 453, 'detail': 1217, 'point': 3316, 'talking': 4360, 'paranoia': 3186, 'soviet': 4089, 'union': 4661, 'apparent': 269, 'communist': 907, 'outstanding': 3147, 'donald': 1321, 'sutherland': 4333, 'once': 3106, 'again': 146, 'superb': 4296, 'tears': 4380, 'told': 4513, 'fbi': 1675, 'closely': 855, 'followed': 1773, 'silence': 3974, 'atmospheric': 334, 'bleak': 503, 'landscape': 2513, 'involved': 2346, 'rate': 3526, 'famous': 1647, 'master': 2757, 'enters': 1496, 'suddenly': 4273, 'old': 3100, 'lady': 2507, 'gets': 1900, 'heart': 2064, 'attack': 337, 'name': 2960, 'female': 1693, 'works': 4945, 'vicious': 4728, 'criminal': 1057, 'sleeping': 4025, 'day': 1129, 'biggest': 480, 'anime': 243, 'fans': 1650, 'admit': 122, 'action': 100, 'disappointing': 1274, 'gore': 1941, 'fest': 1696, 'style': 4249, 'trash': 4565, 'weird': 4841, 'tried': 4584, 'scary': 3807, 'touching': 4536, 'causing': 726, 'face': 1616, 'highlights': 2104, 'sequence': 3887, 'heroine': 2091, 'falling': 1639, 'building': 615, 'dramatic': 1348, 'structure': 4233, 'nearly': 2981, 'director': 1264, 'animation': 242, 'faces': 1618, 'sequences': 3888, 'simply': 3986, 'creepy': 1052, 'grade': 1951, 'here': 2086, 'happened': 2027, 'head': 2057, 'needs': 2990, 'aimed': 162, 'audience': 352, 'job': 2405, 'henry': 2084, 'offers': 3090, 'unfunny': 4655, 'arguably': 289, 'racist': 3503, 'stereotypes': 4179, 'white': 4870, 'person': 3238, 'enjoyable': 1485, 'cute': 1090, 'burned': 626, 'artistic': 308, 'abilities': 64, 'sexy': 3911, 'body': 527, 'china': 795, 'upset': 4687, 'police': 3322, 'officer': 3092, 'decides': 1150, 'home': 2142, 'roots': 3738, 'getting': 1901, 'older': 3101, 'town': 4541, 'changed': 750, 'gangsters': 1869, 'started': 4157, 'women': 4923, 'turning': 4608, 'tricks': 4583, 'city': 825, 'sick': 3963, 'tired': 4501, 'hell': 2077, 'guess': 1989, 'happens': 2029, 'right': 3696, 'fights': 1710, 'tragedy': 4551, 'strikes': 4225, 'brings': 587, 'wonderful': 4928, 'conclusion': 936, 'example': 1553, 'background': 380, 'noise': 3024, 'soundtrack': 4085, 'dialogue': 1234, 'sense': 3877, 'alone': 194, 'seem': 3861, 'now': 3054, 'years': 4979, 'wondered': 4927, 'wrong': 4973, 'taking': 4352, 'block': 508, 'behind': 447, 'distracting': 1297, 'english': 1483, 'version': 4720, 'woman': 4921, 'constantly': 958, 'kept': 2456, 'jean': 2389, 'excuse': 1564, 'speak': 4094, 'mouth': 2920, 'dvd': 1391, 'french': 1830, 'subtitles': 4259, 'give': 1912, 'scenery': 3810, 'lived': 2626, 'opens': 3115, 'flashback': 1746, 'april': 284, 'group': 1980, 'students': 4239, 'class': 833, 'marty': 2749, 'playing': 3300, 'follow': 1772, 'bigger': 479, 'par': 3184, 'slasher': 4020, 'involving': 2349, 'ridiculously': 3694, 'leaving': 2557, 'fire': 1734, 'acid': 95, 'sake': 3775, 'fast': 1661, 'five': 1743, 'members': 2801, 'abandoned': 62, 'reunion': 3669, 'scene': 3809, 'mysterious': 2955, 'mask': 2752, 'murderer': 2941, 'increasingly': 2268, 'complicated': 925, 'mind': 2849, 'ludicrous': 2685, 'holmes': 2139, 'solve': 4060, 'mystery': 2956, 'killers': 2471, 'identity': 2217, 'revealed': 3671, 'none': 3028, 'seemingly': 3863, 'rage': 3505, 'laws': 2540, 'order': 3126, 'revenge': 3675, 'scenario': 3808, 'takes': 4351, 'bizarre': 492, 'former': 1800, 'haunted': 2050, 'ghosts': 1903, 'pushed': 3478, 'fully': 1847, 'edge': 1418, 'disjointed': 1287, 'whole': 4873, 'dream': 1354, 'hospital': 2172, 'bed': 436, 'breaks': 571, 'free': 1827, 'nurse': 3063, 'suffers': 4278, 'case': 707, 'horror': 2168, 'logic': 2638, 'originality': 3130, 'convoluted': 987, 'ways': 4822, 'victims': 4730, 'absurd': 73, 'ending': 1471, 'feels': 1687, 'someone': 4064, 'pointed': 3317, 'nature': 2975, 'writer': 4968, 'decided': 1149, 'technically': 4382, 'speaking': 4095, 'filmed': 1717, 'dark': 1115, 'color': 877, 'sub': 4252, 'help': 2079, 'look': 2646, 'least': 2554, 'portray': 3340, 'unintentionally': 4659, 'laughable': 2530, 'lack': 2502, 'obvious': 3071, 'half': 2007, 'bother': 548, 'accents': 79, 'genre': 1888, 'america': 212, 'land': 2511, 'freedom': 1828, 'hope': 2155, 'dreams': 1355, 'peace': 3219, 'cannot': 670, 'wish': 4904, 'americans': 214, 'stay': 4166, 'side': 3965, 'use': 4692, 'word': 4937, 'these': 4441, 'feelings': 1686, 'intense': 2316, 'vision': 4754, 'follows': 1775, 'thief': 4448, 'created': 1037, 'onto': 3111, 'foot': 1781, 'dropping': 1371, 'large': 2517, 'diamond': 1236, 'children': 792, 'must': 2950, 'himself': 2111, 'normal': 3033, 'poor': 3328, 'womans': 4922, 'discovered': 1280, 'falls': 1640, 'despite': 1211, 'baby': 376, 'full': 1846, 'teeth': 4393, 'knife': 2487, 'drive': 1363, '16': 8, 'past': 3207, 'wear': 4830, 'attempts': 343, 'assault': 324, 'soul': 4079, 'fails': 1628, 'sexual': 3908, 'attempt': 340, 'itself': 2371, 'entertainment': 1500, 'amount': 219, 'flawed': 1750, 'morality': 2903, 'revealing': 3672, 'repeatedly': 3632, 'develop': 1222, 'loving': 2675, 'wished': 4905, 'enough': 1491, 'sexually': 3910, 'somehow': 4063, 'convince': 983, 'selfish': 3870, 'herself': 2092, 'successful': 4266, 'instead': 2307, 'spends': 4107, 'mixed': 2877, 'twisted': 4618, 'form': 1798, 'clichéd': 845, 'hollywoods': 2138, 'recent': 3566, 'current': 1084, 'generation': 1883, 'black': 493, 'responsible': 3656, 'african': 142, 'shadow': 3912, 'jokes': 2415, 'crude': 1069, 'gags': 1862, 'rights': 3697, 'picking': 3267, 'anything': 260, 'remotely': 3623, 'camera': 659, 'unfortunately': 4654, 'moral': 2902, 'means': 2783, 'month': 2896, 'undoubtedly': 4648, 'sequels': 3886, 'millions': 2848, 'dollars': 1315, 'deals': 1137, 'ok': 3098, 'hear': 2061, 'justin': 2440, 'big': 478, 'names': 2963, 'mean': 2779, 'freeman': 1829, 'morgan': 2905, 'hollywood': 2137, 'kevin': 2457, 'beauty': 430, 'suspects': 4328, 'probably': 3407, 'signed': 3971, 'thinking': 4453, 'heard': 2062, 'enter': 1494, 'faced': 1617, 'those': 4460, 'rotten': 3740, 'tomatoes': 4515, 'reading': 3544, 'terrible': 4407, '15': 7, 'dimensional': 1253, 'bible': 477, 'don': 1320, 'liners': 2611, 'sound': 4081, 'bite': 489, 'worthy': 4956, 'cool': 989, 'gorgeous': 1942, 'otherwise': 3137, 'belong': 459, 'real': 3547, 'captain': 674, 'speaks': 4096, 'tone': 4517, 'crappy': 1032, 'complete': 921, 'hero': 2088, 'becoming': 435, 'experience': 1580, 'oh': 3096, 'gun': 1996, 'force': 1786, 'whos': 4876, 'rocket': 3721, 'kidding': 2465, 'bottom': 551, '13': 4, 'girls': 1911, 'thumbs': 4485, 'many': 2732, 'longer': 2645, 'sucks': 4271, 'badly': 383, 'frustration': 1843, 'yelling': 4980, 'happening': 2028, 'may': 2775, 'save': 3794, 'turned': 4606, 'singer': 3993, 'mix': 2876, 'lol': 2640, 'die': 1243, 'trying': 4601, 'men': 2805, 'teens': 4392, 'witty': 4917, 'suspenseful': 4331, 'melodrama': 2797, 'thanks': 4423, 'engaging': 1481, 'brosnan': 597, 'better': 472, 'jack': 2373, 'gay': 1876, 'neighbor': 2992, 'plus': 3311, 'writing': 4971, 'occasionally': 3075, 'nasty': 2968, 'dialog': 1232, 'delivered': 1170, 'slow': 4031, 'friendship': 1838, 'individuals': 2278, 'convincing': 985, 'keeps': 2451, 'guessing': 1991, 'gonna': 1936, 'nice': 3008, 'touches': 4535, 'music': 2946, 'cinematography': 820, 'period': 3236, 'dont': 1324, 'thats': 4425, 'written': 4972, 'seat': 3845, 'originally': 3131, 'titled': 4505, 'title': 4504, 'tribute': 4581, 'jamie': 2379, 'bell': 458, 'physically': 3263, 'attractive': 351, 'creep': 1051, 'kate': 2446, 'partner': 3198, 'fantasy': 1652, 'romance': 3732, 'try': 4600, 'connect': 944, 'roles': 3727, 'intimate': 2331, 'details': 1219, 'lives': 2628, 'beaten': 424, 'pulp': 3465, 'situation': 4008, 'mother': 2911, 'married': 2744, 'whom': 4875, 'affair': 135, 'hates': 2048, 'lets': 2580, 'places': 3284, 'games': 1865, 'birth': 486, 'ends': 1474, 'happily': 2030, 'issues': 2365, 'forty': 1807, 'ago': 154, 'brilliantly': 584, 'acted': 98, 'afraid': 140, 'virginia': 4750, 'similarly': 3980, 'apart': 264, 'nobody': 3022, 'cares': 690, 'endings': 1472, 'plausible': 3295, 'intensity': 2317, 'emotional': 1459, 'revelation': 3674, 'rock': 3720, 'roll': 3728, 'history': 2121, 'ultimate': 4627, 'party': 3200, 'flick': 1754, 'portraying': 3343, 'bunch': 623, 'ramones': 3512, 'inspiration': 2300, 'rise': 3702, 'principal': 3398, 'mary': 2751, 'eating': 1413, 'fame': 1642, 'basically': 407, 'teacher': 4375, 'paul': 3214, 'living': 2629, 'pure': 3471, 'pleasure': 3306, 'roger': 3724, 'executive': 1567, 'producing': 3417, 'joe': 2407, 'co': 867, 'directing': 1260, 'expect': 1575, 'fare': 1655, 'ii': 2226, 'starring': 4154, 'vincent': 4746, 'clint': 850, 'howard': 2182, 'dick': 1239, 'miller': 2846, 'appeared': 276, 'treat': 4572, 'mall': 2720, 'happy': 2032, 'promising': 3433, 'kids': 2467, 'trip': 4588, 'information': 2288, 'leads': 2548, 'dating': 1120, 'simple': 3983, 'massive': 2756, 'baseball': 403, 'took': 4523, 'shot': 3949, 'running': 3756, 'across': 96, 'field': 1704, 'angels': 234, '50': 51, 'hugh': 2186, 'grant': 1956, 'lyrics': 2692, 'marie': 2737, 'depression': 1189, 'era': 1513, 'bank': 394, 'owner': 3159, 'recently': 3567, 'aired': 165, 'during': 1387, 'come': 886, 'team': 4378, 'youll': 4988, 'disappointed': 1273, 'poorly': 3329, 'surprisingly': 4316, 'considering': 952, 'mgm': 2828, 'leonard': 2572, 'bare': 398, 'strictly': 4223, 'move': 2921, 'frequently': 1832, 'delivering': 1171, 'lines': 2612, 'off': 3084, 'pan': 3180, 'print': 3399, 'before': 440, 'existed': 1570, 'heads': 2059, 'cut': 1089, 'underlying': 4641, 'fly': 1763, 'night': 3013, 'production': 3419, 'overall': 3150, 'final': 1722, 'reel': 3581, 'bathroom': 412, 'earth': 1403, 'anymore': 258, 'events': 1536, 'non': 3027, 'passionate': 3206, 'hours': 2177, 'todays': 4509, 'standards': 4145, 'costumes': 1006, 'received': 3564, 'oscar': 3133, 'emotions': 1461, 'broken': 594, 'asian': 314, 'terrific': 4409, 'et': 1526, 'companion': 909, 'la': 2500, 'paris': 3189, 'international': 2326, 'festival': 1697, 'ironically': 2356, 'tale': 4353, 'ironic': 2355, 'tragic': 4552, 'revolution': 3680, 'based': 404, 'lucy': 2684, 'russell': 3761, 'hand': 2015, 'account': 89, 'survived': 4322, 'dangerous': 1110, 'days': 1130, 'duke': 1383, 'contrast': 975, 'whose': 4877, 'wave': 4818, 'filmmakers': 1720, 'often': 3095, 'conservative': 948, 'youth': 4994, 'late': 2523, '60s': 54, '70s': 56, 'filming': 1718, 'sell': 3871, 'boy': 557, 'folks': 1771, 'human': 2188, 'continues': 971, 'bear': 420, 'guys': 2001, 'nor': 3032, 'beings': 449, 'capable': 672, 'range': 3516, 'exception': 1557, 'nuts': 3064, '80s': 59, 'cutting': 1092, 'youve': 4995, 'guessed': 1990, 'directors': 1266, 'gone': 1935, 'digital': 1251, 'settings': 3901, 'second': 3846, 'screening': 3830, 'catch': 714, 'psychological': 3458, 'yes': 4982, 'ill': 2228, 'worlds': 4947, 'masters': 2761, 'standing': 4146, 'cinemas': 817, 'alongside': 196, 'ones': 3108, 'live': 2625, 'age': 148, 'book': 535, 'tim': 4494, 'wrote': 4974, 'feel': 1684, 'except': 1556, 'business': 633, 'beginning': 443, 'middle': 2833, 'surprise': 4312, 'read': 3543, 'done': 1322, 'beautifully': 429, 'explicit': 1591, 'warmth': 4796, 'shame': 3918, 'open': 3112, 'dutch': 1389, 'tend': 4400, 'de': 1131, 'stays': 4169, 'taste': 4369, 'tells': 4397, 'amazing': 209, 'stretched': 4222, 'leave': 2555, 'moved': 2922, 'ask': 316, 'sister': 4001, 'indian': 2274, 'language': 2516, 'medium': 2792, 'novels': 3053, 'typically': 4624, 'depicted': 1183, 'pile': 3275, 'climax': 849, 'treats': 4575, 'entirely': 1503, 'light': 2595, 'inspired': 2301, 'novel': 3052, 'mill': 2845, 'blue': 518, 'eyed': 1612, 'favorite': 1671, 'rules': 3754, 'society': 4050, 'spite': 4117, 'winner': 4897, 'meet': 2793, 'chosen': 805, 'distant': 1295, 'countries': 1013, 'boring': 543, 'twice': 4613, 'definitely': 1162, 'change': 749, 'view': 4736, 'matrix': 2767, 'war': 4792, 'surely': 4309, 'crazy': 1035, 'motion': 2913, 'sword': 4340, 'concept': 930, 'couple': 1016, 'extra': 1606, 'sheer': 3925, 'stupidity': 4248, 'juvenile': 2441, 'blood': 512, 'violence': 4747, 'wrestling': 4966, 'multi': 2935, 'warriors': 4803, 'death': 1141, 'witches': 4910, 'villains': 4745, 'floor': 1759, 'model': 2880, 'terms': 4406, 'importance': 2246, 'lone': 2642, 'warrior': 4802, 'mission': 2870, 'notorious': 3051, 'elements': 1443, 'creation': 1040, 'journey': 2421, 'forces': 1788, 'fighter': 1708, 'support': 4303, 'kingdom': 2480, 'ultimately': 4628, 'theyll': 4444, 'web': 4833, 'impressive': 2253, 'oil': 3097, 'jealous': 2388, 'okay': 3099, 'damn': 1100, 'fight': 1707, 'downright': 1337, 'moment': 2886, 'prequel': 3372, 'monsters': 2893, 'incredibly': 2270, 'cheesy': 781, 'opposite': 3123, 'menacing': 2807, 'youre': 4992, 'mood': 2898, 'amongst': 218, 'portrayal': 3341, 'serve': 3893, 'eye': 1611, 'candy': 668, 'allowed': 190, 'naked': 2959, 'forbidden': 1785, 'leading': 2547, 'ladies': 2506, 'honesty': 2148, 'wouldnt': 4958, 'exposed': 1598, 'hardly': 2036, 'mentioning': 2812, 'elvira': 1450, 'mistress': 2874, 'william': 4887, 'susan': 4326, 'edie': 1419, 'larry': 2520, 'flash': 1745, 'mario': 2738, 'dance': 1103, 'lee': 2559, 'charles': 764, 'bill': 481, 'cable': 644, 'joseph': 2419, 'scott': 3824, 'morris': 2908, 'frank': 1821, 'stewart': 4184, 'sullivan': 4288, 'brown': 601, 'eve': 1532, 'bond': 532, 'tony': 4521, 'alan': 171, 'hill': 2108, 'derek': 1192, 'sam': 3777, 'icon': 2211, 'presented': 3376, 'campy': 664, 'providing': 3451, 'humorous': 2193, 'remarks': 3615, 'date': 1118, 'ridden': 3691, 'success': 4265, 'shes': 3930, 'stuck': 4237, 'monster': 2892, 'vegas': 4717, 'money': 2888, 'agent': 150, 'disappointment': 1275, 'mansion': 2731, 'deceased': 1146, 'relative': 3599, 'pet': 3246, 'dog': 1310, 'claim': 828, 'small': 4033, 'lost': 2660, 'soon': 4074, 'community': 908, 'threat': 4467, 'values': 4710, 'figure': 1711, 'winning': 4898, 'personality': 3242, 'draws': 1352, 'bob': 524, 'carpenter': 694, 'deep': 1154, 'eerie': 1427, 'fortune': 1806, 'aunt': 355, 'powerful': 3360, 'magic': 2703, 'wishes': 4906, 'burn': 625, 'box': 555, 'office': 3091, 'drawing': 1350, 'crowd': 1067, 'mostly': 2910, 'familiar': 1643, 'truth': 4599, 'kinds': 2478, 'visual': 4757, 'ie': 2221, 'strip': 4228, 'cult': 1077, 'sorts': 4078, 'couldnt': 1008, 'pop': 3330, 'culture': 1079, 'robot': 3717, 'mr': 2929, 'madonna': 2699, 'spoiler': 4123, 'friend': 1835, 'vivid': 4760, 'memories': 2803, 'vote': 4766, 'message': 2819, 'placed': 3283, 'flaws': 1752, 'overlooked': 3154, 'relationships': 3598, 'situations': 4009, 'gem': 1877, 'spring': 4134, 'glad': 1916, 'direction': 1261, 'albert': 174, 'evening': 1534, 'delightful': 1168, 'roman': 3731, 'uses': 4697, 'actual': 108, 'represent': 3637, 'confused': 941, 'served': 3894, 'wont': 4932, 'levels': 2585, 'intelligence': 2313, 'appreciate': 279, 'deliver': 1169, 'speech': 4102, 'united': 4664, 'nations': 2971, 'seven': 3903, 'lovely': 2671, 'suitable': 4285, 'innocence': 2293, 'greatest': 1966, 'thinks': 4454, 'determined': 1221, 'activities': 102, 'house': 2178, 'weapon': 4828, 'vulnerable': 4768, 'perfectly': 3226, 'gary': 1873, 'believes': 456, 'become': 433, 'lover': 2672, 'theory': 4437, 'theres': 4440, 'fears': 1677, 'reveal': 3670, 'haunting': 2051, 'flashbacks': 1747, 'humanity': 2189, 'shocking': 3940, 'terror': 4412, 'statement': 4162, 'clear': 839, 'memorable': 2802, 'doubt': 1332, 'al': 170, 'presents': 3377, 'wonder': 4926, 'praise': 3364, 'sounds': 4084, 'concerned': 932, 'actions': 101, 'words': 4938, 'references': 3583, 'jimmy': 2403, 'carter': 703, 'unlike': 4670, 'integrity': 2311, 'talks': 4361, 'talk': 4358, 'walks': 4780, 'walk': 4775, 'energy': 1478, 'warm': 4794, 'wearing': 4831, 'claims': 830, 'warming': 4795, 'travels': 4569, 'private': 3404, 'jet': 2400, 'create': 1036, 'heat': 2067, 'swimming': 4338, 'pool': 3327, 'smaller': 4034, 'react': 3540, 'calling': 653, 'loss': 2659, 'raising': 3509, 'appeal': 271, 'control': 977, 'saving': 3797, 'planet': 3289, 'strangely': 4212, 'episode': 1507, 'atmosphere': 333, 'tension': 4404, 'knowledge': 2491, 'certain': 737, 'kirk': 2482, 'parts': 3199, 'unknown': 4668, 'elderly': 1440, 'advice': 133, 'crisis': 1060, 'enterprise': 1495, 'crew': 1053, 'century': 736, 'england': 1482, 'waste': 4808, 'stories': 4205, 'superbly': 4297, 'handled': 2019, 'return': 3665, 'present': 3374, 'chance': 747, 'explosion': 1596, 'imaginative': 2237, 'ice': 2210, 'reminiscent': 3621, 'forever': 1792, 'travel': 4567, 'generally': 1881, 'lesser': 2576, 'third': 4455, 'kim': 2475, 'choice': 797, 'broadway': 592, 'stage': 4139, 'performed': 3230, 'others': 3136, 'ha': 2002, 'myself': 2953, 'male': 2719, 'miscast': 2862, 'absolutely': 72, 'chemistry': 782, 'richard': 3686, 'hed': 2072, 'kissing': 2484, 'covers': 1024, 'tortured': 4530, 'break': 569, 'developing': 1224, 'reasons': 3560, 'liked': 2600, 'martin': 2748, 'adam': 111, 'goldberg': 1933, 'shine': 3931, 'renting': 3629, 'bruce': 602, 'jason': 2383, 'patrick': 3213, 'rachel': 3500, 'ward': 4793, 'combine': 884, 'noir': 3023, 'offer': 3087, 'intriguing': 2335, 'narration': 2965, 'mental': 2808, 'patient': 3211, 'wow': 4962, 'cynical': 1093, 'intelligent': 2314, 'plan': 3287, 'considered': 951, 'average': 362, 'depressing': 1188, 'normally': 3034, 'quirky': 3493, 'crime': 1055, 'agree': 155, 'shouldnt': 3952, 'status': 4165, 'contrived': 976, 'ease': 1404, 'able': 66, 'pregnant': 3369, 'breaking': 570, 'rip': 3700, 'misery': 2865, 'gave': 1875, 'low': 2676, 'easily': 1406, 'shocked': 3939, 'flicks': 1755, 'purely': 3472, 'torture': 4529, 'shock': 3938, 'factor': 1622, 'ten': 4399, 'hide': 2097, 'seek': 3858, 'reaching': 3539, 'remote': 3622, 'emotionally': 1460, 'attached': 336, 'attempting': 342, 'saying': 3800, 'critics': 1064, 'among': 217, 'decade': 1144, 'else': 1448, 'wwii': 4975, 'practically': 3362, 'question': 3487, 'imdb': 2240, 'answer': 251, 'brain': 562, 'horrible': 2163, 'ed': 1415, 'popular': 3333, 'superhero': 4299, 'outer': 3143, 'space': 4090, 'huh': 2187, 'prove': 3445, 'basketball': 409, 'player': 3298, 'obnoxious': 3067, 'total': 4531, 'learned': 2551, 'grown': 1984, 'prison': 3401, 'neighborhood': 2993, 'accidentally': 85, 'giving': 1915, 'tad': 4347, 'realize': 3552, 'forced': 1787, 'everywhere': 1545, 'according': 88, 'buddies': 608, 'shed': 3924, 'gag': 1861, 'apparently': 270, 'worker': 4942, 'addition': 118, 'aged': 149, 'rap': 3520, 'hate': 2046, 'stupid': 4247, 'horrid': 2165, 'nowhere': 3056, 'star': 4150, 'oddly': 3081, 'accept': 80, 'portion': 3338, 'consists': 955, 'supposed': 4306, 'drug': 1373, 'hurt': 2202, 'insane': 2296, 'messed': 2821, 'friendly': 1836, 'material': 2766, 'sadly': 3769, 'imagine': 2238, 'product': 3418, 'charming': 768, 'exceptionally': 1559, 'finish': 1732, 'extraordinary': 1607, 'pulls': 3464, 'ended': 1470, 'fate': 1665, 'anne': 246, 'knew': 2486, 'briefly': 580, 'appearances': 275, 'victoria': 4732, 'wood': 4933, 'projects': 3428, 'stereotypical': 4180, 'spirited': 4114, 'note': 3044, 'rings': 3699, 'european': 1530, 'indeed': 2271, 'remake': 3612, 'fisher': 1739, 'king': 2479, 'care': 684, 'dreary': 1356, 'painful': 3171, 'sit': 4003, 'sandler': 3781, 'psychotic': 3459, 'daily': 1097, 'arent': 288, 'deeply': 1156, 'continue': 969, 'violent': 4748, 'grow': 1982, 'seeking': 3859, 'street': 4216, 'score': 3822, 'lucky': 2683, 'crap': 1031, 'deserve': 1199, 'universe': 4666, 'media': 2789, 'level': 2584, 'spin': 4112, 'doctors': 1305, 'masses': 2755, 'excellent': 1555, 'bought': 552, 'religious': 3608, 'civil': 826, 'accused': 91, 'korean': 2495, 'hanging': 2023, 'drawn': 1351, 'court': 1020, 'ensues': 1493, 'remain': 3609, 'military': 2844, 'jail': 2376, 'investigation': 2343, 'defense': 1159, 'attorney': 348, 'doomed': 1327, 'hour': 2176, 'dogs': 1311, 'heaven': 2068, 'underrated': 4642, 'comments': 901, 'general': 1880, 'rated': 3527, 'similar': 3978, 'cold': 872, 'named': 2961, 'charlie': 765, 'escaped': 1518, 'scare': 3803, 'reminds': 3620, 'burt': 629, 'reynolds': 3684, 'potential': 3355, 'disneys': 1290, 'conceived': 929, 'adults': 126, 'grew': 1972, 'creatures': 1046, 'devoted': 1231, 'woody': 4936, 'allen': 188, 'wannabe': 4787, 'ultra': 4629, 'cop': 991, 'pick': 3265, 'irritating': 2359, 'filled': 1715, 'linda': 2609, 'blair': 497, '90s': 61, 'exercise': 1568, 'storyline': 4208, 'mindless': 2851, 'slap': 4018, 'stick': 4185, 'humor': 2192, 'provoking': 3452, 'philosophical': 3253, 'changes': 751, 'pretentious': 3383, 'efforts': 1433, 'tell': 4395, 'definition': 1163, 'meaning': 2780, 'cheese': 780, 'laughing': 2533, 'japan': 2381, 'samurai': 3779, 'walking': 4779, 'temple': 4398, 'distance': 1294, 'shorts': 3948, 'stop': 4201, 'decent': 1147, 'lord': 2652, 'air': 164, 'visits': 4756, 'theatre': 4429, 'entertaining': 1499, 'frustrated': 1842, 'solid': 4057, 'random': 3514, 'slight': 4027, 'online': 3109, 'research': 3644, 'secret': 3849, 'task': 4368, 'pages': 3168, 'contain': 962, 'darkness': 1117, 'village': 4743, 'stone': 4197, 'walls': 4783, 'uncle': 4636, 'build': 614, 'wall': 4781, 'secretly': 3851, 'skills': 4014, 'carry': 700, 'missing': 2869, 'figured': 1712, 'irish': 2353, 'search': 3841, 'taught': 4370, 'opinion': 3118, 'greatly': 1967, 'books': 536, 'testament': 4417, 'latin': 2527, 'ireland': 2352, 'along': 195, 'art': 304, 'complexity': 924, 'perspective': 3245, 'stand': 4143, 'pieces': 3273, 'colors': 879, 'colorful': 878, 'reminded': 3619, 'cartoon': 704, 'styles': 4250, 'various': 4715, 'whenever': 4863, 'imagination': 2236, 'sun': 4292, 'begin': 442, 'moving': 2928, 'trees': 4577, 'covered': 1023, '70': 55, 'lesson': 2577, 'adventure': 130, 'thrown': 4481, 'maybe': 2776, 'interested': 2324, 'animated': 241, '20': 29, 'network': 3000, 'canadian': 667, 'jane': 2380, 'barbara': 397, 'blank': 501, 'canada': 666, 'recall': 3562, 'regular': 3592, 'snow': 4045, 'summer': 4291, 'wise': 4903, 'winter': 4900, 'lifestyle': 2593, 'lasted': 2522, 'shots': 3950, 'liberal': 2588, 'racism': 3502, 'uk': 4626, 'wife': 4884, 'couples': 1017, 'spoilers': 4124, 'natural': 2973, 'born': 544, 'criticism': 1063, 'obsession': 3070, 'oliver': 3102, 'shown': 3959, 'serial': 3889, 'innocent': 2294, 'portrays': 3344, 'deserved': 1200, 'unpleasant': 4674, 'lazy': 2543, 'fat': 1663, 'stereotype': 4178, 'dude': 1381, 'chinese': 796, 'mickey': 2831, 'surreal': 4317, 'visuals': 4759, 'bound': 553, 'justice': 2438, 'brutal': 603, 'ugly': 4625, 'compared': 912, 'reality': 3551, 'subtlety': 4261, 'specific': 4099, 'proof': 3434, 'lies': 2591, 'reactions': 3542, 'murders': 2943, 'committed': 905, 'failure': 1629, 'results': 3662, 'zero': 4996, 'known': 2492, 'suck': 4269, 'hadnt': 2004, 'channel': 753, 'females': 1694, 'race': 3499, 'gender': 1878, 'combination': 883, 'sorry': 4076, 'actresses': 106, 'credible': 1048, 'largely': 2518, 'regard': 3588, 'treasure': 4571, 'doc': 1303, 'favor': 1670, 'rent': 3626, 'judy': 2426, 'please': 3304, 'skip': 4016, 'important': 2247, 'queen': 3485, 'emily': 1456, 'nomination': 3026, 'oscars': 3134, 'personally': 3243, 'technical': 4381, 'pleased': 3305, 'expected': 1577, 'costume': 1005, 'design': 1202, 'incredible': 2269, 'occurred': 3077, 'drivel': 1364, 'michael': 2829, 'holiday': 2134, 'wooden': 4934, 'highlight': 2103, 'whilst': 4869, 'alien': 183, 'nude': 3058, 'opportunity': 3121, 'bar': 396, 'public': 3460, 'drinking': 1362, 'coffee': 870, 'cup': 1080, 'handle': 2018, 'wears': 4832, 'four': 1812, 'comment': 898, 'near': 2979, 'reads': 3545, 'quotes': 3497, 'memory': 2804, 'common': 906, 'defend': 1158, 'capital': 673, 'punishment': 3467, 'dare': 1113, 'quote': 3496, 'anybody': 257, 'jay': 2386, 'weve': 4856, 'park': 3190, 'row': 3744, 'run': 3755, 'kiss': 2483, 'south': 4087, 'represents': 3639, 'beautiful': 428, 'widmark': 4882, 'stars': 4155, 'steals': 4172, 'meant': 2784, 'peters': 3248, 'carrying': 701, 'boyfriend': 558, 'ritter': 3705, 'attracted': 349, 'learns': 2553, 'working': 4944, 'quickly': 3491, 'previous': 3387, 'forget': 1793, 'extremely': 1610, 'unable': 4631, 'buy': 640, 'avoid': 363, 'instance': 2304, 'sons': 4073, 'arm': 292, 'below': 462, 'domino': 1319, 'orders': 3127, 'receives': 3565, 'williams': 4888, 'phone': 3255, 'connection': 946, 'suspicious': 4332, 'agents': 151, 'minds': 2852, 'showing': 3958, 'single': 3996, 'helicopter': 2076, 'consider': 949, 'mafia': 2700, 'shoot': 3942, 'besides': 468, 'towards': 4540, 'theyd': 4443, 'car': 680, 'accident': 84, 'seriously': 3892, 'contrary': 974, 'starting': 4158, 'appears': 278, 'effort': 1432, 'talent': 4354, 'sarah': 3785, 'self': 3869, 'centered': 733, 'jesus': 2399, 'explaining': 1588, 'ideas': 2215, 'images': 2235, 'realise': 3548, 'someones': 4065, 'enthusiasm': 1501, 'impression': 2252, 'program': 3424, 'creators': 1044, 'loaded': 2632, 'numbers': 3061, 'putting': 3482, 'fill': 1714, 'appear': 273, 'arrested': 298, 'development': 1225, 'hearts': 2066, 'let': 2579, 'strong': 4229, 'spell': 4104, 'effect': 1428, 'viewers': 4739, 'deserves': 1201, 'attention': 345, 'werent': 4849, 'mention': 2810, 'richardson': 3688, 'walker': 4778, 'budget': 610, 'notice': 3048, 'asking': 318, 'setting': 3900, 'sticks': 4186, 're': 3535, 'footage': 1782, 'earlier': 1399, 'doing': 1312, 'wars': 4804, 'unbearable': 4633, 'dies': 1245, '100': 1, 'scripts': 3836, 'process': 3412, 'pilot': 3276, 'ratings': 3530, 'creative': 1041, 'developed': 1223, 'relatively': 3600, 'struggle': 4234, 'voices': 4763, 'fake': 1635, 'southern': 4088, 'balls': 390, 'week': 4837, 'angry': 238, 'characterization': 759, 'attend': 344, 'glorious': 1921, 'morning': 2906, 'vampire': 4711, 'ground': 1979, 'issue': 2364, 'quick': 3490, 'vampires': 4712, 'mainstream': 2709, 'accepted': 82, 'legs': 2566, 'suffering': 4277, 'six': 4010, 'episodes': 1508, 'mark': 2739, 'moore': 2901, 'army': 295, 'difficult': 1249, 'dialogs': 1233, 'strongly': 4231, 'rubbish': 3748, 'talented': 4355, 'persons': 3244, 'project': 3427, 'useless': 4695, 'soap': 4047, 'opera': 3116, 'base': 402, 'driving': 1368, 'streets': 4217, 'brand': 565, 'sets': 3899, 'overlook': 3153, 'pre': 3365, 'golden': 1934, 'won': 4925, 'camp': 662, 'under': 4639, '11': 2, 'poster': 3353, 'marketing': 2741, 'nowadays': 3055, 'expectations': 1576, 'superficial': 4298, 'sidney': 3968, 'plane': 3288, 'ticket': 4487, 'york': 4985, 'asked': 317, 'sign': 3970, 'awards': 367, 'celebrity': 729, 'theme': 4433, 'revolves': 3682, 'solution': 4059, 'perfection': 3225, 'happiness': 2031, 'religion': 3607, 'ideal': 2214, 'models': 2881, 'behave': 445, 'measure': 2786, 'ourselves': 3140, 'larger': 2519, 'ninja': 3018, 'scarecrow': 3804, 'brilliance': 582, 'system': 4345, 'depth': 1190, 'twists': 4619, 'keeping': 2450, 'drives': 1367, 'thirty': 4456, 'cowboy': 1025, 'dig': 1250, 'smoking': 4040, 'reviews': 3679, 'expressed': 1601, 'emotion': 1458, 'saturday': 3792, 'afternoon': 144, 'wizard': 4919, 'oz': 3160, 'contains': 964, 'wayne': 4821, 'surprises': 4314, 'context': 968, 'toy': 4542, 'guns': 1998, 'provided': 3449, 'purpose': 3474, 'propaganda': 3435, 'fathers': 1667, 'imitation': 2241, 'slowly': 4032, 'pain': 3170, 'miserably': 2864, 'guts': 1999, 'plant': 3293, 'glory': 1922, 'gory': 1943, 'ho': 2127, 'assigned': 325, 'moments': 2887, 'shallow': 3917, 'tracy': 4546, 'loved': 2670, 'warren': 4801, 'beatty': 427, 'fighting': 1709, '1930s': 11, 'detective': 1220, 'mob': 2879, 'pacino': 3164, 'comic': 893, 'collection': 874, 'child': 789, 'ensemble': 1492, 'includes': 2263, 'glenn': 1918, 'hoffman': 2128, 'tommy': 4516, 'jones': 2418, 'ages': 152, 'innovative': 2295, 'couldve': 1009, 'directed': 1259, 'available': 361, 'wouldve': 4959, 'dreadful': 1353, 'apes': 267, 'nonsensical': 3031, 'independent': 2272, 'masterpiece': 2759, 'ape': 266, 'heavy': 2070, 'luckily': 2682, 'makeup': 2717, 'allows': 192, 'maintain': 2710, 'dignity': 1252, 'hidden': 2096, 'alas': 172, 'tradition': 4549, 'cause': 723, 'edward': 1426, 'batman': 413, 'extent': 1605, 'hollow': 2135, 'burton': 630, 'trademark': 4548, 'technique': 4383, 'accompanied': 86, 'handsome': 2021, 'fabulous': 1615, 'mans': 2730, 'confidence': 938, 'crack': 1027, 'aids': 161, 'eighties': 1437, 'families': 1644, 'seventies': 3904, 'flying': 1764, 'movements': 2924, 'sixties': 4011, 'water': 4816, 'showed': 3956, 'survive': 4321, 'horrors': 2169, 'lesbian': 2573, 'producers': 3416, 'unrealistic': 4677, 'compelled': 915, 'drops': 1372, 'drunk': 1375, 'chick': 786, 'passed': 3202, 'pace': 3161, 'room': 3735, 'idiot': 2218, 'focus': 1766, 'mentally': 2809, 'jumped': 2430, 'sky': 4017, 'honestly': 2147, 'joke': 2414, 'scientists': 3819, 'unseen': 4678, 'sea': 3838, 'horse': 2170, 'pot': 3354, 'clearly': 840, 'higher': 2101, 'attitudes': 347, 'handed': 2016, 'clumsy': 866, 'manner': 2729, 'desire': 1205, 'theyve': 4446, 'profound': 3423, 'established': 1524, 'scientific': 3817, 'amateurish': 207, 'science': 3816, 'brief': 579, 'plenty': 3307, 'monkeys': 2891, 'spending': 4106, 'mighty': 2836, 'embarrassed': 1453, 'machine': 2693, 'bright': 581, 'teen': 4388, 'jobs': 2406, 'annie': 247, 'steal': 4170, 'finest': 1730, 'prefer': 3368, 'overrated': 3156, 'thick': 4447, 'soft': 4051, 'core': 995, 'porn': 3336, 'nudity': 3059, 'simplistic': 3985, 'pointless': 3318, 'watchable': 4812, 'sink': 3999, 'der': 1191, 'german': 1896, 'chasing': 772, 'counter': 1011, 'intentionally': 2320, 'exactly': 1551, 'succeeded': 4263, 'parker': 3191, 'niro': 3019, 'appalling': 268, 'kubrick': 2496, 'suppose': 4305, 'goal': 1925, 'possible': 3350, 'liking': 2604, 'formula': 1802, 'strange': 4211, 'realism': 3549, 'semi': 3874, 'neo': 2998, 'amateur': 206, 'whether': 4866, 'audio': 354, 'ought': 3138, 'studio': 4240, 'elsewhere': 1449, 'close': 853, 'dozen': 1338, 'connected': 945, 'meaningful': 2781, 'church': 813, 'merely': 2815, 'designed': 1203, 'intellectual': 2312, 'result': 3660, 'exact': 1550, 'etc': 1527, 'difference': 1246, 'whereas': 4865, 'barely': 399, 'deeper': 1155, 'porno': 3337, 'easier': 1405, 'finding': 1727, 'absence': 70, 'hardcore': 2034, 'excited': 1561, 'ignore': 2224, 'essential': 1522, 'supernatural': 4302, 'antics': 255, 'produce': 3413, 'silly': 3976, 'wanna': 4786, 'bergman': 466, 'mail': 2706, 'killer': 2470, 'pair': 3176, 'photographer': 3259, 'trio': 4587, 'heroes': 2089, 'twist': 4617, 'synopsis': 4344, 'producer': 3415, 'helps': 2082, 'toward': 4539, 'improved': 2255, 'circumstances': 822, 'silent': 3975, 'perform': 3227, 'lloyd': 2630, 'june': 2433, 'st': 4137, 'spent': 4108, 'youd': 4987, 'trailer': 4554, 'suspense': 4330, 'exciting': 1563, 'flop': 1760, 'planning': 3291, 'neither': 2996, 'curious': 1083, 'numerous': 3062, 'write': 4967, 'relief': 3605, 'nicholas': 3010, 'cage': 645, 'miss': 2866, 'harsh': 2040, 'critic': 1061, 'frankly': 1823, 'overwhelming': 3157, 'france': 1816, 'march': 2734, 'caught': 722, 'stunning': 4244, 'caused': 724, 'impact': 2244, 'mexican': 2826, 'satire': 3788, 'urban': 4688, 'mexico': 2827, 'portrait': 3339, 'express': 1600, 'kinda': 2477, 'redemption': 3578, 'brave': 567, 'hits': 2125, 'security': 3854, 'gerard': 1895, 'tender': 4401, 'premise': 3370, 'ties': 4490, 'nicely': 3009, 'annoyed': 248, 'ran': 3513, 'asleep': 320, 'segment': 3867, 'lacks': 2505, 'ride': 3692, 'wonders': 4931, 'section': 3853, 'fashion': 1659, 'nancy': 2964, 'emma': 1457, 'roberts': 3714, 'fantastic': 1651, 'ned': 2986, 'hopeless': 2158, 'treated': 4573, 'alright': 198, 'tour': 4538, 'spy': 4135, 'twenty': 4612, 'letting': 2583, 'joey': 2408, 'europe': 1529, 'wins': 4899, 'asks': 319, 'disbelief': 1277, 'lewis': 2586, 'museum': 2945, 'davis': 1126, 'terrorist': 4413, 'climactic': 848, 'sharp': 3922, 'closing': 859, 'nuclear': 3057, 'weapons': 4829, 'stock': 4193, 'achieve': 92, 'dedicated': 1153, 'lay': 2542, 'london': 2641, 'fired': 1735, 'witnesses': 4916, 'join': 2412, 'mistake': 2871, 'plans': 3292, 'inside': 2297, 'outside': 3146, 'event': 1535, 'news': 3005, 'heck': 2071, 'viewing': 4740, 'villain': 4744, 'tries': 4585, 'legend': 2564, 'wholly': 4874, 'boys': 559, 'mad': 2696, 'scientist': 3818, 'creates': 1038, 'shark': 3921, 'island': 2361, 'calls': 654, 'tight': 4492, 'guarantee': 1987, 'cheek': 779, 'tree': 4576, 'yeah': 4977, 'cgi': 740, 'rubber': 3747, 'suit': 4284, 'motivation': 2914, 'cinematographer': 819, 'elm': 1447, 'gold': 1932, 'execution': 1566, 'suited': 4286, 'improve': 2254, 'mine': 2853, 'turner': 4607, 'manages': 2725, 'witnessed': 4915, 'cards': 683, 'amazingly': 210, 'ability': 65, 'blame': 499, 'fault': 1668, 'lie': 2590, 'paid': 3169, 'sacrifice': 3766, 'pacing': 3163, 'outcome': 3142, 'witness': 4914, 'pie': 3271, 'documentary': 1307, 'alcohol': 176, 'chicks': 787, 'drunken': 1376, 'doctor': 1304, 'fear': 1676, 'humans': 2190, 'futuristic': 1857, 'defeat': 1157, 'odds': 3082, 'impossible': 2249, 'faith': 1633, 'entertain': 1497, '2005': 35, 'returned': 3666, 'rob': 3710, 'zombie': 4997, 'stole': 4194, 'trite': 4589, 'raise': 3507, 'bloody': 513, 'deaths': 1142, 'carradine': 695, 'worthwhile': 4955, 'catchy': 717, 'frame': 1815, 'chase': 769, 'staring': 4152, 'fifteen': 1706, 'describe': 1194, 'failing': 1627, 'aspect': 321, 'video': 4733, 'format': 1799, 'chilling': 794, 'miracle': 2860, 'term': 4405, 'secrets': 3852, 'laughter': 2535, 'missed': 2867, 'theater': 4427, 'randomly': 3515, 'plain': 3286, 'abysmal': 76, 'cost': 1003, 'clue': 864, 'exotic': 1574, 'priest': 3392, 'painting': 3175, 'prostitute': 3440, 'raped': 3522, 'learn': 2550, 'dennis': 1179, 'hopper': 2161, 'unbelievable': 4634, 'picked': 3266, 'market': 2740, 'fascinating': 1658, 'repetitive': 3633, 'dull': 1384, 'neat': 2982, 'gang': 1867, 'prime': 3395, 'dubbing': 1380, 'politically': 3325, 'naive': 2958, 'song': 4071, 'ahead': 159, 'waiting': 4772, 'months': 2897, 'tape': 4365, 'ashley': 313, '25': 40, 'cry': 1073, 'discover': 1279, 'ordinary': 3128, 'moon': 2900, 'promises': 3432, 'lion': 2614, 'francis': 1818, 'themes': 4434, 'screenplay': 3831, 'directs': 1267, 'latest': 2526, 'manage': 2722, 'reaches': 3538, 'clips': 852, 'birds': 485, 'wolf': 4920, 'waves': 4819, 'andy': 230, 'cameo': 657, 'grave': 1962, 'copies': 992, 'complaint': 920, 'hype': 2207, 'gritty': 1977, 'states': 4163, 'stronger': 4230, 'performer': 3231, 'highest': 2102, 'cases': 708, 'list': 2617, 'rented': 3628, 'purchased': 3470, 'wedding': 4836, 'shall': 3916, 'intentions': 2321, 'terribly': 4408, 'narrative': 2966, 'convey': 982, 'standard': 4144, 'tarzan': 4367, 'sci': 3815, 'fi': 1701, 'differences': 1247, 'remind': 3618, 'douglas': 1334, 'clark': 832, 'trek': 4578, 'hair': 2005, 'touched': 4534, 'influenced': 2287, 'evidence': 1546, 'link': 2613, 'animals': 240, 'initially': 2291, 'discovery': 1282, 'intention': 2319, 'argument': 291, 'hopes': 2159, 'greedy': 1969, 'continued': 970, 'belongs': 460, 'relevant': 3604, 'alexander': 180, 'major': 2711, 'comical': 894, 'sympathy': 4343, 'awfully': 373, 'unconvincing': 4638, 'failed': 1626, 'poignant': 3315, 'nonetheless': 3029, 'mann': 2728, 'league': 2549, 'credit': 1049, 'darker': 1116, 'remarkably': 3614, 'devils': 1229, 'convinced': 984, 'hunting': 2201, 'trail': 4553, 'beloved': 461, 'meat': 2787, 'mitchell': 2875, 'stephen': 4176, 'shelley': 3928, 'winters': 4901, 'curtis': 1087, 'hudson': 2184, 'giant': 1905, 'robots': 3718, 'lousy': 2667, 'polished': 3323, 'minimum': 2856, 'computer': 927, 'graphics': 1959, 'fairly': 1631, 'tongue': 4518, 'em': 1452, 'category': 718, 'closet': 858, 'clean': 838, 'dorothy': 1330, 'bland': 500, 'bacall': 377, 'convincingly': 986, 'considerable': 950, 'eastern': 1408, 'subsequent': 4257, 'deal': 1135, 'journalist': 2420, 'upper': 4685, 'greek': 1970, 'dealing': 1136, 'classes': 834, 'destiny': 1212, 'sent': 3880, 'study': 4242, 'artificial': 306, 'image': 2233, 'lights': 2597, 'river': 3707, 'yellow': 4981, 'include': 2261, 'border': 539, 'fair': 1630, 'angel': 231, 'test': 4416, 'managed': 2723, 'button': 639, 'humble': 2191, 'jerry': 2396, 'foreign': 1790, 'respect': 3652, 'jessica': 2398, 'americas': 215, 'equal': 1509, 'moves': 2925, 'mediocre': 2791, 'slightly': 4029, 'soldiers': 4054, 'russian': 3762, 'impressed': 2251, 'ship': 3934, 'contract': 973, 'commercial': 902, '17': 9, 'advance': 127, 'beach': 419, 'decades': 1145, 'creativity': 1042, 'academy': 77, 'industry': 2280, 'arthur': 305, 'unit': 4663, 'musical': 2947, 'pictures': 3270, 'losing': 2658, 'dynamic': 1394, '30s': 44, 'musicals': 2948, 'relate': 3593, 'rain': 3506, 'band': 391, 'gene': 1879, 'kelly': 2452, 'sings': 3997, 'hasnt': 2044, 'tune': 4602, 'rule': 3753, 'fancy': 1649, 'dances': 1106, 'description': 1197, 'leslie': 2574, 'colour': 880, 'particular': 3194, 'georges': 1894, 'meeting': 2794, 'introduced': 2337, 'number': 3060, 'gradually': 1952, 'table': 4346, 'scheme': 3812, 'choreographed': 801, 'compare': 911, 'telling': 4396, 'tear': 4379, 'qualities': 3483, 'consistent': 953, 'worked': 4941, 'blockbuster': 509, 'junk': 2436, 'decide': 1148, 'spot': 4131, 'metal': 2823, 'concert': 935, 'unreal': 4676, 'jazz': 2387, 'dress': 1357, 'eg': 1434, 'smoke': 4039, 'college': 875, 'incident': 2260, 'interviews': 2330, 'opinions': 3119, 'subjects': 4254, 'featuring': 1681, 'handful': 2017, 'splatter': 4118, 'machines': 2694, 'iron': 2354, 'destroy': 1213, 'battles': 415, 'adaptation': 113, 'wet': 4855, 'paltrow': 3178, 'accent': 78, 'subplot': 4255, 'catherine': 719, 'ben': 463, 'bo': 521, 'luke': 2687, 'jesse': 2397, 'honest': 2146, 'law': 2538, 'adding': 117, 'boss': 546, 'alive': 186, 'magical': 2704, '2000': 30, 'disgusting': 1286, 'cd': 728, 'misses': 2868, 'wallace': 4782, 'traditional': 4550, 'driven': 1365, 'popularity': 3334, 'greater': 1965, 'win': 4892, 'helen': 2075, 'hunt': 2198, 'magnificent': 2705, 'complex': 923, 'ray': 3533, 'alike': 185, 'bang': 393, 'steven': 4182, 'notably': 3042, 'quiet': 3492, 'surface': 4310, 'loser': 2655, 'beneath': 464, 'hearted': 2065, 'persona': 3239, 'spectacular': 4101, 'weeks': 4839, '90': 60, 'scripted': 3835, 'tiresome': 4502, 'held': 2074, 'teachers': 4376, 'bumbling': 622, 'escape': 1517, 'screaming': 3827, 'cave': 727, 'woods': 4935, 'naturally': 2974, 'displays': 1293, 'inspiring': 2302, 'awe': 370, 'imagined': 2239, 'brazil': 568, '14': 6, '18': 10, 'rare': 3523, 'explains': 1589, 'anthony': 253, 'stayed': 4167, 'dean': 1139, 'remembered': 3617, 'offered': 3088, 'prepared': 3371, 'continuity': 972, 'president': 3378, 'staff': 4138, 'service': 3896, 'nevertheless': 3002, 'twin': 4615, 'hated': 2047, 'soldier': 4053, 'scream': 3826, 'mouse': 2919, 'slightest': 4028, 'crocodile': 1065, 'hunter': 2199, 'steve': 4181, 'cia': 814, 'mistakes': 2873, 'rental': 3627, 'store': 4204, 'notable': 3041, 'plague': 3285, 'heres': 2087, 'share': 3920, 'ships': 3935, 'begins': 444, 'shoots': 3944, 'scale': 3802, 'recognize': 3569, 'greed': 1968, 'selling': 3873, 'bore': 540, 'rush': 3759, 'tie': 4488, 'arrived': 301, 'christian': 808, 'holes': 2133, 'thoroughly': 4459, 'helped': 2080, 'required': 3641, 'warn': 4797, 'implausible': 2245, 'teach': 4374, 'national': 2970, 'contest': 967, 'jumps': 2432, 'front': 1841, 'dying': 1393, 'cringe': 1059, 'players': 3299, 'concerns': 934, 'losers': 2656, 'dire': 1257, 'amitabh': 216, 'akshay': 169, 'gods': 1928, 'blind': 506, 'bollywood': 530, 'influence': 2286, 'afford': 138, 'manhattan': 2726, 'loves': 2674, 'insult': 2309, 'tiny': 4500, 'bedroom': 437, 'apartment': 265, 'costs': 1004, '3rd': 47, 'featured': 1679, 'hopefully': 2157, 'newspaper': 3006, 'acceptable': 81, 'eastwood': 1409, 'admire': 121, 'immensely': 2243, 'lust': 2689, 'ring': 3698, 'stilted': 4190, 'conversation': 980, 'tons': 4520, 'stinker': 4191, 'kay': 2447, 'thoughts': 4464, '35': 45, 'pay': 3216, 'disney': 1289, 'hang': 2022, 'cabin': 643, 'fatal': 1664, 'claimed': 829, 'psycho': 3457, 'mechanical': 2788, 'friday': 1834, '13th': 5, 'knock': 2488, 'facts': 1624, 'boom': 537, 'spirits': 4115, 'lake': 2509, 'forgotten': 1797, 'returning': 3667, 'iraq': 2351, 'raw': 3532, 'treatment': 4574, 'vietnam': 4735, 'suffered': 4276, 'harris': 2038, 'stress': 4220, 'exists': 1573, 'baker': 385, 'buddy': 609, 'returns': 3668, 'prom': 3429, 'destroying': 1215, 'terrifying': 4410, 'dave': 1123, 'realized': 3553, 'careers': 687, 'receive': 3563, 'recommended': 3572, 'ego': 1435, 'captivating': 675, 'charm': 767, 'struggles': 4235, 'los': 2653, 'angeles': 233, 'teenagers': 4391, 'attraction': 350, 'beat': 423, 'double': 1331, 'countless': 1012, 'unnecessary': 4672, 'meanwhile': 2785, 'logical': 2639, 'circle': 821, 'choose': 799, 'screens': 3832, 'paint': 3173, 'dry': 1377, 'speed': 4103, 'hurts': 2203, 'sitting': 4007, 'horses': 2171, 'rooms': 3736, 'idiots': 2220, 'ashamed': 312, 'shower': 3957, 'experiences': 1582, 'area': 286, 'mel': 2796, 'epic': 1506, 'rival': 3706, 'edited': 1420, 'storytelling': 4209, 'occasional': 3074, 'authentic': 358, 'further': 1853, 'heroic': 2090, 'pride': 3391, 'honor': 2150, 'gripping': 1976, 'tense': 4403, 'thin': 4449, 'titles': 4506, 'desperate': 1208, 'abuse': 74, 'center': 732, 'purchase': 3469, 'intended': 2315, 'explore': 1594, 'atlantis': 332, 'latter': 2528, 'rank': 3518, 'limits': 2607, 'existent': 1572, 'incoherent': 2265, 'aliens': 184, 'shortly': 3947, 'wandering': 4785, 'broad': 590, 'florida': 1761, 'moody': 2899, 'site': 4005, 'foster': 1809, 'pearl': 3220, 'shirley': 3936, 'secondly': 3847, '2004': 34, '2007': 37, 'lose': 2654, 'favourite': 1673, 'writes': 4970, 'magazine': 2701, 'nostalgia': 3038, 'currently': 1085, 'trilogy': 4586, 'arnold': 296, 'wells': 4845, 'adapted': 114, 'author': 359, 'versus': 4722, 'disagree': 1269, 'progress': 3425, 'civilization': 827, 'ralph': 3510, 'nearby': 2980, 'demands': 1175, 'survivors': 4325, 'flight': 1757, 'conversations': 981, 'evident': 1547, 'sends': 3876, 'drop': 1369, 'gas': 1874, 'ruins': 3752, 'steps': 4177, 'send': 3875, 'minded': 2850, 'successfully': 4267, 'raymond': 3534, 'thoughtful': 4463, 'reasonable': 3558, 'triumph': 4590, 'cameron': 661, 'listen': 2619, 'constructed': 959, 'recognized': 3570, 'weak': 4824, 'believed': 455, 'university': 4667, 'assistant': 326, 'professor': 3422, 'craft': 1028, 'technology': 4385, 'stones': 4198, 'rocks': 3722, 'basic': 406, 'proved': 3446, 'hundreds': 2196, 'worry': 4950, 'vehicle': 4718, 'changing': 752, 'borrowed': 545, 'football': 1783, 'kung': 2498, 'fu': 1844, 'competition': 918, 'expert': 1585, 'delivers': 1172, 'safe': 3771, 'assume': 328, 'education': 1424, 'attacked': 338, 'beating': 425, 'tiger': 4491, 'dragon': 1344, 'crimes': 1056, 'bomb': 531, 'negative': 2991, 'hello': 2078, 'fashioned': 1660, 'adds': 119, 'mere': 2814, 'sunday': 4293, 'encounter': 1466, 'effective': 1429, 'lonely': 2643, 'fellow': 1691, 'mainly': 2708, 'unpredictable': 4675, 'forgettable': 1794, 'commentary': 899, 'fonda': 1777, 'central': 735, 'uneven': 4649, 'ham': 2011, 'lacking': 2504, 'charisma': 762, 'displayed': 1292, 'robin': 3715, 'hood': 2151, 'west': 4852, 'empathy': 1462, 'whatsoever': 4861, 'devil': 1228, 'halloween': 2010, 'mike': 2838, 'mountain': 2917, 'ken': 2453, 'amazed': 208, 'laughed': 2532, 'loud': 2664, 'response': 3654, 'boredom': 542, 'dislike': 1288, 'fetched': 1698, 'engaged': 1480, 'shy': 3962, 'hey': 2095, 'cruel': 1070, 'vice': 4727, 'spirit': 4113, 'remaining': 3610, 'captured': 677, 'train': 4556, 'pull': 3461, 'downhill': 1336, 'multiple': 2936, 'adams': 112, 'narrator': 2967, 'killing': 2472, 'destroyed': 1214, 'pulling': 3463, 'occasion': 3073, 'risk': 3704, 'resulting': 3661, 'aside': 315, 'kicking': 2462, 'property': 3438, 'necessary': 2984, 'cover': 1022, 'singing': 3995, 'specifically': 4100, 'repeat': 3630, 'enjoyment': 1488, 'existence': 1571, 'appropriate': 283, 'opposed': 3122, 'separate': 3883, 'gotta': 1946, 'introduction': 2339, 'politics': 3326, 'concern': 931, 'burns': 628, 'closed': 854, 'womens': 4924, 'ms': 2931, 'mayor': 2777, 'strike': 4224, 'bath': 411, 'offensive': 3086, 'slapstick': 4019, 'focusing': 1769, 'karen': 2444, 'pleasant': 3302, 'contained': 963, 'creature': 1045, 'bay': 416, 'storm': 4206, 'gentle': 1890, 'rescue': 3643, 'capturing': 679, 'rural': 3758, 'thankfully': 4422, 'sappy': 3784, 'adorable': 124, 'dawn': 1127, 'ann': 244, 'wilson': 4891, 'flesh': 1753, 'valuable': 4708, 'correct': 1000, 'population': 3335, 'germany': 1898, 'ready': 3546, 'million': 2847, 'virtually': 4751, 'combat': 882, 'game': 1864, 'cuba': 1075, 'resources': 3651, 'poverty': 3357, 'conflict': 939, 'signs': 3973, 'price': 3389, 'ford': 1789, 'dealt': 1138, 'shadows': 3913, 'miserable': 2863, 'conflicts': 940, 'lighting': 2596, 'simplicity': 3984, 'cross': 1066, 'matches': 2764, 'emphasis': 1463, 'chaplin': 756, 'key': 2458, 'brando': 566, 'unforgettable': 4652, '12': 3, 'worthless': 4954, 'versions': 4721, 'uninteresting': 4660, 'cardboard': 682, 'hint': 2112, 'buying': 641, 'brooks': 596, 'philip': 3252, 'nights': 3016, 'unusual': 4681, 'perry': 3237, 'blend': 504, 'abraham': 69, 'primarily': 3393, 'trial': 4580, 'lawyer': 2541, 'intent': 2318, 'lincoln': 2608, 'satisfying': 3791, 'scope': 3821, 'effectively': 1430, 'strength': 4219, 'breathtaking': 574, 'indians': 2275, 'types': 4622, 'reasonably': 3559, 'executed': 1565, 'variety': 4714, 'tedious': 4387, 'explored': 1595, 'productions': 3420, 'inappropriate': 2259, 'channels': 754, 'somewhere': 4069, 'confusion': 943, 'realizing': 3555, 'drag': 1342, 'walked': 4776, 'bullet': 620, 'sisters': 4002, 'sat': 3786, 'forest': 1791, 'discussion': 1284, 'length': 2569, 'photography': 3260, 'object': 3066, 'dancer': 1104, 'thousands': 4466, 'viewed': 4737, 'buffs': 612, 'arrogant': 303, 'shop': 3945, 'corner': 996, 'margaret': 2735, 'rolled': 3729, 'draw': 1349, 'competent': 917, 'truck': 4595, 'board': 522, 'ghost': 1902, '1972': 18, 'castle': 712, 'sight': 3969, 'martial': 2747, 'arts': 310, 'shake': 3914, 'ruined': 3751, 'removed': 3624, 'chapter': 757, 'proud': 3444, 'wide': 4880, 'timothy': 4499, 'installment': 2303, 'overdone': 3152, 'throws': 4482, 'genuine': 1891, 'widely': 4881, 'official': 3094, 'pants': 3182, 'cameras': 660, 'rolling': 3730, 'station': 4164, 'via': 4726, 'repeated': 3631, 'reveals': 3673, 'challenge': 743, '2003': 33, 'mentioned': 2811, 'willing': 4889, 'involvement': 2347, 'training': 4558, 'exposure': 1599, 'sunshine': 4294, 'regret': 3591, 'historical': 2119, 'fictional': 1703, 'trust': 4598, 'authority': 360, 'accurate': 90, 'refreshing': 3586, 'anywhere': 263, 'areas': 287, 'shooting': 3943, 'appealing': 272, 'fortunately': 1805, 'christmas': 810, 'extreme': 1609, 'stomach': 4196, 'reflect': 3584, 'paying': 3217, 'generations': 1884, 'dalton': 1098, 'text': 4419, 'inferior': 2285, 'grows': 1985, 'arrives': 302, 'household': 2179, 'rochester': 3719, 'duty': 1390, 'touch': 4533, 'paper': 3183, 'busy': 635, 'potentially': 3356, 'contact': 961, 'severe': 3906, 'accomplished': 87, 'passion': 3205, 'commented': 900, 'consistently': 954, 'allowing': 191, 'bbc': 417, 'unsettling': 4679, 'mrs': 2930, 'eyre': 1614, 'access': 83, 'spike': 4111, 'ad': 110, 'saves': 3796, 'minimal': 2855, 'proper': 3436, 'san': 3780, 'faithful': 1634, 'disease': 1285, 'picks': 3268, 'element': 1442, 'limited': 2606, 'club': 863, 'hire': 2116, '2006': 36, 'translation': 4562, 'errors': 1516, 'scared': 3805, 'alcoholic': 177, 'horrific': 2166, 'horribly': 2164, 'gruesome': 1986, 'satisfied': 3789, 'sweet': 4336, 'pushing': 3479, 'explain': 1586, 'fool': 1779, 'helping': 2081, 'advantage': 129, 'noticed': 3049, 'likely': 2601, 'reputation': 3640, 'teaching': 4377, 'blade': 495, 'jerk': 2395, 'cleverly': 842, 'paced': 3162, 'mistaken': 2872, 'included': 2262, 'banned': 395, 'britain': 588, 'forth': 1804, 'laura': 2536, 'kidnapped': 2466, 'pass': 3201, 'boat': 523, 'danger': 1109, 'cannibal': 669, 'animal': 239, 'library': 2589, 'powers': 3361, 'indie': 2276, 'kennedy': 2454, 'lynch': 2691, 'airplane': 166, 'luck': 2681, 'brian': 576, 'cox': 1026, 'restaurant': 3658, 'cook': 988, 'christopher': 811, 'doubts': 1333, 'gordon': 1940, 'jon': 2416, 'hitchcock': 2123, 'provide': 3448, 'senseless': 3878, 'criminals': 1058, 'blake': 498, 'personalities': 3241, 'opportunities': 3120, 'hall': 2009, 'notch': 3043, '1968': 16, 'crafted': 1029, 'confusing': 942, '1983': 22, '1973': 19, 'door': 1328, 'appreciation': 281, 'demented': 1176, 'presumably': 3380, 'cultural': 1078, 'importantly': 2248, 'tunes': 4603, '1970s': 17, 'sing': 3992, 'glimpse': 1919, 'nostalgic': 3039, 'filmmaker': 1719, 'regarding': 3589, 'shell': 3927, 'crush': 1072, 'member': 2800, 'watches': 4814, 'sides': 3967, 'caring': 691, 'bold': 528, 'disturbing': 1300, 'involve': 2345, 'jewish': 2401, 'nazi': 2977, 'thru': 4483, 'painfully': 3172, 'understanding': 4645, 'captures': 678, 'joy': 2422, 'sadness': 3770, 'growing': 1983, 'fiction': 1702, 'documentaries': 1306, 'professional': 3421, 'silver': 3977, 'positive': 3346, 'albeit': 173, 'corny': 997, 'initial': 2290, 'superman': 4301, 'listed': 2618, '80': 58, 'direct': 1258, 'imagery': 2234, 'homage': 2141, 'bugs': 613, 'holy': 2140, 'detailed': 1218, 'warning': 4800, 'toys': 4543, 'itll': 2369, 'cars': 702, 'wanting': 4790, 'daddy': 1096, 'wore': 4939, 'government': 1948, 'carried': 698, 'marvelous': 2750, 'warned': 4798, 'welcome': 4842, 'pro': 3406, 'eva': 1531, 'murdered': 2940, 'butler': 637, 'snake': 4042, 'beats': 426, 'purple': 3473, 'comparison': 914, 'necessarily': 2983, 'cartoons': 705, '1990s': 25, 'views': 4742, 'namely': 2962, 'physical': 3262, 'matched': 2763, 'damage': 1099, '1940s': 13, 'movement': 2923, 'heights': 2073, 'retired': 3664, '1980s': 21, 'directions': 1262, 'finished': 1733, 'trapped': 4564, 'hole': 2132, 'embarrassing': 1454, 'awake': 365, 'resist': 3648, 'nelson': 2997, 'pitch': 3279, 'invisible': 2344, 'empty': 1465, 'inept': 2281, 'lovers': 2673, 'awkward': 374, 'illogical': 2231, 'uwe': 4703, 'boll': 529, 'advise': 134, 'grab': 1949, 'split': 4120, 'associated': 327, 'spielberg': 4110, 'visually': 4758, 'columbo': 881, 'falk': 1636, 'agreed': 156, 'dollar': 1314, 'stylish': 4251, 'harvey': 2042, 'bush': 632, 'christ': 807, 'explained': 1587, 'dentist': 1180, 'chose': 804, 'craig': 1030, 'mothers': 2912, 'daughters': 1122, 'sexuality': 3909, 'julia': 2427, 'anger': 235, 'progresses': 3426, 'ups': 4686, 'individual': 2277, 'widow': 4883, 'santa': 3783, 'waited': 4771, 'spanish': 4092, 'dear': 1140, 'nightmares': 3015, 'cary': 706, 'stanley': 4148, 'wreck': 4965, 'jaw': 2384, 'believing': 457, 'ears': 1402, 'hideous': 2098, 'endearing': 1469, 'ball': 388, 'francisco': 1819, 'belief': 451, 'kings': 2481, 'road': 3709, 'parody': 3192, 'learning': 2552, 'argue': 290, 'julie': 2428, 'incompetent': 2266, 'breath': 573, 'inane': 2258, 'aint': 163, 'website': 4834, 'prior': 3400, 'reviewers': 3678, 'scares': 3806, 'turkey': 4604, 'bargain': 400, 'louis': 2665, 'traveling': 4568, 'slave': 4022, 'succeed': 4262, 'till': 4493, 'che': 773, 'mountains': 2918, 'disappoint': 1272, 'satisfy': 3790, 'del': 1165, 'depiction': 1185, 'scottish': 3825, 'genuinely': 1892, 'wealth': 4826, 'courage': 1018, 'super': 4295, 'succeeds': 4264, 'inevitable': 2282, 'justify': 2439, 'armed': 293, 'hearing': 2063, 'noble': 3021, 'coach': 868, 'significant': 3972, 'fail': 1625, 'illegal': 2229, 'skill': 4013, 'inevitably': 2283, 'faults': 1669, 'nonsense': 3030, 'murderous': 2942, 'frightening': 1839, 'matthau': 2771, 'lemmon': 2567, 'string': 4227, 'husbands': 2205, 'brenda': 575, 'acts': 107, 'bored': 541, 'visible': 4753, 'identify': 2216, 'flaw': 1749, 'methods': 2825, 'virgin': 4749, 'rose': 3739, 'feet': 1688, 'dressed': 1358, 'clothes': 860, 'hung': 2197, 'wrapped': 4964, 'neck': 2985, 'possessed': 3347, 'lowest': 2678, 'jumping': 2431, 'blacks': 494, 'pops': 3332, 'visit': 4755, 'expression': 1602, 'comedies': 889, 'suspend': 4329, 'ps': 3453, 'vhs': 4725, 'curiosity': 1082, 'parent': 3187, 'primary': 3394, 'reduced': 3579, 'judging': 2425, '60': 53, 'furthermore': 1854, 'montage': 2894, 'wasting': 4810, 'talents': 4356, 'ignorant': 2223, 'whoever': 4872, 'species': 4098, 'bus': 631, 'cash': 709, '20th': 38, 'mass': 2753, 'disappear': 1270, 'hitler': 2124, 'sophisticated': 4075, 'japanese': 2382, 'restored': 3659, 'edition': 1422, 'crucial': 1068, 'farm': 1656, '1984': 23, 'tremendous': 4579, 'marks': 2742, 'veteran': 4724, 'exploration': 1593, 'piano': 3264, 'encounters': 1467, 'grasp': 1960, 'overcome': 3151, 'symbolism': 4341, 'performs': 3234, 'classical': 836, 'plight': 3308, 'behavior': 446, 'chuck': 812, 'dragged': 1343, 'dinner': 1254, 'possibly': 3351, 'count': 1010, 'rabbit': 3498, 'sold': 4052, 'controversial': 978, 'code': 869, 'east': 1407, 'per': 3223, 'zombies': 4998, 'massacre': 2754, 'devoid': 1230, 'tall': 4362, 'buff': 611, 'gabriel': 1859, 'beast': 422, 'centers': 734, 'buried': 624, 'royal': 3746, 'rushed': 3760, 'sleep': 4024, 'letter': 2581, 'fed': 1682, 'focused': 1767, 'gotten': 1947, 'fourth': 1813, 'guard': 1988, 'flies': 1756, '40s': 49, 'analysis': 224, 'corpse': 999, 'bela': 450, 'lugosi': 2686, 'dracula': 1341, 'elizabeth': 1445, 'reporter': 3636, 'comfortable': 892, 'demons': 1178, 'iii': 2227, 'italian': 2367, 'spider': 4109, 'halfway': 2008, 'basement': 405, 'familys': 1646, 'extras': 1608, 'interview': 2329, 'locations': 2636, 'stanwyck': 4149, 'escapes': 1519, 'endless': 1473, 'switch': 4339, 'mini': 2854, 'dust': 1388, 'painted': 3174, 'blowing': 515, 'lovable': 2668, 'cake': 648, 'urge': 4689, 'dinosaur': 1255, 'norman': 3035, 'ron': 3734, 'homosexual': 2145, 'performers': 3232, 'mirror': 2861, 'cheated': 775, 'bottle': 550, 'plastic': 3294, 'stale': 4141, 'jonathan': 2417, 'hotel': 2175, 'worried': 4949, 'guilty': 1995, 'bette': 471, 'pursuit': 3476, 'amounts': 220, 'choices': 798, 'chases': 771, 'needless': 2989, 'landscapes': 2514, 'designs': 1204, 'chair': 742, 'outfit': 3144, 'spots': 4132, 'butt': 638, 'bone': 533, 'food': 1778, 'funniest': 1851, 'causes': 725, 'savage': 3793, 'troubles': 4594, 'maker': 2714, 'childish': 791, 'empire': 1464, 'fish': 1738, 'excessive': 1560, 'closest': 857, 'chorus': 803, 'foul': 1810, 'grandmother': 1955, 'closer': 856, 'describes': 1196, 'irrelevant': 2358, 'inner': 2292, 'decision': 1151, 'definite': 1161, 'lees': 2560, 'hong': 2149, 'kong': 2494, 'protagonists': 3442, 'cooper': 990, 'serves': 3895, 'explosions': 1597, 'gratuitous': 1961, 'requires': 3642, 'generic': 1885, 'essentially': 1523, 'jackson': 2375, 'department': 1182, 'similarities': 3979, 'parallel': 3185, 'flawless': 1751, 'weakest': 4825, 'settle': 3902, 'passes': 3203, 'surfing': 4311, 'franchise': 1817, 'rendition': 3625, 'pamela': 3179, 'staged': 4140, 'planned': 3290, 'fay': 1674, 'grim': 1974, 'ginger': 1908, 'delight': 1167, 'genius': 1887, 'concerning': 933, 'cliche': 843, 'houses': 2180, 'experiments': 1584, 'scores': 3823, 'comics': 895, 'ancient': 225, 'hammer': 2014, 'eat': 1411, 'presence': 3373, 'mildly': 2840, 'anna': 245, 'sum': 4289, 'critical': 1062, 'instinct': 2308, 'infamous': 2284, 'pseudo': 3454, 'irony': 2357, 'elephant': 1444, 'chicago': 785, 'bin': 483, 'manipulative': 2727, 'card': 681, 'merit': 2816, 'sports': 4130, 'user': 4696, 'wes': 4851, 'craven': 1034, 'fx': 1858, 'recording': 3575, 'prevent': 3385, 'dressing': 1359, 'cliff': 847, 'careful': 688, 'proceeds': 3411, 'abusive': 75, 'lying': 2690, 'explanation': 1590, 'responsibility': 3655, 'vast': 4716, 'gross': 1978, 'reviewer': 3677, 'stated': 4161, 'holly': 2136, 'wicked': 4879, 'angela': 232, 'appreciated': 280, 'surprising': 4315, 'lively': 2627, 'pretend': 3381, 'listening': 2620, 'thus': 4486, 'dubbed': 1379, 'advertising': 132, 'dvds': 1392, 'tends': 4402, 'cameos': 658, '40': 48, 'crying': 1074, 'keaton': 2448, 'cagney': 646, 'spare': 4093, 'workers': 4943, 'step': 4175, 'spoof': 4127, 'gangster': 1868, 'johnny': 2410, 'tag': 4348, 'educational': 1425, 'subtle': 4260, 'viewings': 4741, 'timing': 4498, 'sandra': 3782, 'lisa': 2616, 'radio': 3504, 'editor': 1423, 'disturbed': 1299, 'intrigued': 2334, 'seed': 3856, 'sudden': 4272, 'backgrounds': 381, 'anderson': 227, 'desperation': 1210, 'pays': 3218, 'decisions': 1152, 'lumet': 2688, 'loses': 2657, 'denzel': 1181, 'washington': 4806, 'dramas': 1347, 'experiment': 1583, 'bride': 577, 'exist': 1569, 'driver': 1366, 'india': 2273, 'clues': 865, 'surrounded': 4318, 'bringing': 586, '45': 50, 'trained': 4557, 'checking': 778, 'hook': 2152, 'videos': 4734, 'graphic': 1958, 'cube': 1076, 'wives': 4918, 'discuss': 1283, 'caine': 647, 'reach': 3536, 'theatrical': 4430, 'taylor': 4372, 'exceptional': 1558, 'brutally': 604, 'striking': 4226, 'shape': 3919, 'proceedings': 3410, 'pulled': 3462, 'guilt': 1994, 'uncomfortable': 4637, 'rarely': 3524, 'chan': 746, 'delivery': 1173, 'path': 3209, 'essence': 1521, 'despair': 1207, 'improvement': 2256, 'freddy': 1826, 'host': 2173, 'construction': 960, 'manager': 2724, 'polanski': 3321, 'transfer': 4559, 'inducing': 2279, 'constant': 957, 'garbage': 1870, 'shut': 3961, 'feed': 1683, 'popcorn': 3331, 'met': 2822, 'mars': 2746, 'cat': 713, 'erotic': 1515, 'sensitive': 3879, 'eager': 1396, 'refuses': 3587, 'answers': 252, 'carl': 692, 'africa': 141, 'rough': 3741, 'overly': 3155, 'mentions': 2813, 'prisoner': 3402, 'lifetime': 2594, 'carefully': 689, 'dirty': 1268, 'harry': 2039, 'goodness': 1938, 'presentation': 3375, 'routine': 3743, 'described': 1195, 'idiotic': 2219, 'respected': 3653, 'swim': 4337, 'hippie': 2115, 'agrees': 157, 'drugs': 1374, 'psychic': 3456, 'bud': 607, 'substance': 4258, 'root': 3737, 'distinct': 1296, 'godfather': 1927, 'pleasantly': 3303, 'eccentric': 1414, 'simon': 3982, 'partly': 3197, 'creator': 1043, 'chris': 806, 'california': 650, 'instant': 2305, 'priceless': 3390, 'vacation': 4704, 'admittedly': 123, 'sinister': 3998, 'mysteries': 2954, 'understandable': 4644, 'bourne': 554, 'lacked': 2503, 'talked': 4359, 'trick': 4582, 'techniques': 4384, 'damon': 1101, 'trade': 4547, 'reference': 3582, 'floating': 1758, 'report': 3635, 'vengeance': 4719, 'celluloid': 731, 'obsessed': 3069, 'tooth': 4524, 'vaguely': 4706, 'blues': 519, 'throwing': 4480, 'intrigue': 2333, 'hiding': 2099, 'hat': 2045, 'gifted': 1907, 'display': 1291, 'built': 618, 'holding': 2130, 'vague': 4705, 'focuses': 1768, 'degree': 1164, 'christians': 809, 'chooses': 800, 'folk': 1770, 'spiritual': 4116, 'nightmare': 3014, 'packed': 3166, 'blew': 505, 'precious': 3366, 'commit': 904, '3d': 46, 'waters': 4817, '1960s': 15, 'johnson': 2411, '50s': 52, 'wrap': 4963, 'ya': 4976, 'north': 3036, 'lucas': 2680, 'buck': 605, 'cousin': 1021, 'suffer': 4275, 'relatives': 3601, 'meaningless': 2782, 'unfortunate': 4653, 'descent': 1193, 'doors': 1329, 'neighbors': 2994, 'dropped': 1370, 'sucked': 4270, 'michelle': 2830, 'eight': 1436, 'trap': 4563, 'deadly': 1133, 'bitter': 491, 'survival': 4320, 'alex': 179, 'buildings': 616, 'sid': 3964, 'messages': 2820, 'map': 2733, 'conventional': 979, 'officers': 3093, 'gray': 1963, 'motivations': 2915, 'demon': 1177, 'unoriginal': 4673, 'sir': 4000, 'olivier': 3103, 'hatred': 2049, 'chaos': 755, 'quit': 3494, '2nd': 41, 'commercials': 903, 'mtv': 2933, 'photographed': 3258, 'molly': 2884, 'trashy': 4566, 'mundane': 2938, 'amy': 222, 'unlikely': 4671, 'aforementioned': 139, 'demand': 1174, 'page': 3167, 'kick': 2460, 'headed': 2058, 'window': 4894, 'freak': 1824, 'retarded': 3663, 'generous': 1886, 'pretending': 3382, 'cell': 730, 'introduces': 2338, 'topless': 4527, 'dancers': 1105, 'tea': 4373, 'sleazy': 4023, 'location': 2635, 'fred': 1825, 'stevens': 4183, 'enormous': 1490, 'smile': 4036, 'ear': 1397, 'thrill': 4471, 'stunts': 4246, 'fooled': 1780, 'forgive': 1795, 'backdrop': 379, 'claire': 831, 'photo': 3257, 'command': 897, 'ruthless': 3764, 'threatening': 4468, 'enemy': 1477, 'occurs': 3078, 'regardless': 3590, 'attacks': 339, 'suspect': 4327, 'tied': 4489, 'heavily': 2069, 'karloff': 2445, 'discovers': 1281, 'frankenstein': 1822, 'universal': 4665, 'unaware': 4632, 'props': 3439, 'miles': 2843, 'understood': 4647, 'jake': 2377, 'stolen': 4195, 'twelve': 4611, 'safety': 3772, 'affected': 137, 'homeless': 2143, 'businessman': 634, 'chances': 748, 'lately': 2524, 'understated': 4646, 'schools': 3814, 'fairy': 1632, 'gift': 1906, 'finger': 1731, 'plots': 3310, 'charlotte': 766, 'funeral': 1849, 'lily': 2605, 'ellen': 1446, 'expensive': 1579, 'cops': 993, 'obscure': 3068, 'mature': 2773, 'mixture': 2878, 'record': 3573, 'theaters': 4428, 'threw': 4470, 'myers': 2952, 'tracks': 4545, 'ripped': 3701, 'thrilling': 4474, 'chased': 770, 'ingredients': 2289, 'shirt': 3937, 'laughably': 2531, 'hills': 2109, 'bet': 470, 'reaction': 3541, 'weight': 4840, 'interpretation': 2328, 'source': 4086, 'health': 2060, 'september': 3884, 'cats': 721, 'disc': 1278, 'curse': 1086, 'estate': 1525, 'marry': 2745, 'staying': 4168, 'solely': 4056, 'alternate': 200, 'leg': 2562, 'weekend': 4838, 'countryside': 1015, 'monkey': 2890, 'likable': 2598, 'terrorists': 4414, 'rex': 3683, 'blown': 516, 'stiff': 4187, 'giallo': 1904, 'funnier': 1850, 'surrounding': 4319, 'beer': 439, 'groups': 1981, 'godzilla': 1929, 'cared': 685, 'laid': 2508, 'hanks': 2025, 'realizes': 3554, 'alert': 178, 'fascinated': 1657, 'loyal': 2679, 'stops': 4203, 'usa': 4691, 'shelf': 3926, 'stealing': 4171, 'prince': 3396, 'round': 3742, 'album': 175, 'bird': 484, 'dancing': 1107, 'eddie': 1416, 'murphy': 2944, 'opened': 3113, 'seagal': 3839, 'condition': 937, 'yesterday': 4983, 'pg': 3250, 'earned': 1401, 'insulting': 2310, 'embarrassment': 1455, 'germans': 1897, 'nazis': 2978, 'masterful': 2758, 'distribution': 1298, 'billy': 482, 'mildred': 2841, 'walken': 4777, 'generated': 1882, 'replaced': 3634, 'mild': 2839, 'blond': 510, 'seeks': 3860, 'waitress': 4773, 'citizen': 824, 'winds': 4895, 'daring': 1114, 'throat': 4476, 'brooklyn': 595, 'everyones': 1543, 'unfolds': 4651, 'amanda': 205, 'fallen': 1638, 'hysterical': 2208, 'suggests': 4282, 'operation': 3117, 'judge': 2424, 'walter': 4784, 'danny': 1112, 'cusack': 1088, 'hip': 2114, 'corruption': 1002, 'sin': 3988, 'suicide': 4283, 'stood': 4199, 'altogether': 202, 'fitting': 1742, 'unwatchable': 4682, 'shining': 3933, 'ocean': 3079, 'sentence': 3881, 'therefore': 4439, 'wisdom': 4902, 'lane': 2515, 'duo': 1386, 'useful': 4694, 'achieved': 93, 'maggie': 2702, 'promise': 3430, 'brains': 563, 'campbell': 663, 'junior': 2435, 'matters': 2770, 'chief': 788, 'square': 4136, 'equipment': 1511, 'drink': 1361, 'cities': 823, 'notion': 3050, 'philosophy': 3254, 'basis': 408, 'practice': 3363, 'dolls': 1316, 'glover': 1923, 'bucks': 606, 'lessons': 2578, 'smooth': 4041, 'splendid': 4119, 'assumed': 329, 'prize': 3405, 'survivor': 4324, 'farce': 1654, 'likewise': 2603, 'target': 4366, 'pig': 3274, 'doll': 1313, 'shines': 3932, 'pit': 3278, 'blob': 507, 'torn': 4528, 'angles': 237, 'titanic': 4503, 'hunters': 2200, 'thousand': 4465, 'ignored': 2225, 'swear': 4334, 'screams': 3828, 'crash': 1033, 'suggested': 4281, 'directorial': 1265, 'affect': 136, 'davies': 1125, 'comparing': 913, 'werewolf': 4850, 'false': 1641, 'cg': 739, 'kane': 2442, 'examples': 1554, 'wounded': 4961, 'swedish': 4335, 'relies': 3606, 'develops': 1226, 'steel': 4173, 'neil': 2995, 'burning': 627, 'inspector': 2299, 'voiced': 4762, 'charismatic': 763, 'racial': 3501, 'advanced': 128, 'flow': 1762, 'brady': 561, 'fix': 1744, 'sinatra': 3989, '2002': 32, 'transition': 4561, 'relation': 3595, 'newly': 3004, 'wed': 4835, 'broadcast': 591, 'omen': 3104, 'insight': 2298, 'entertained': 1498, 'mummy': 2937, 'rick': 3689, 'diana': 1237, 'exploitation': 1592, 'cruise': 1071, 'relations': 3596, 'cure': 1081, 'hundred': 2195, 'exaggerated': 1552, 'sneak': 4043, 'spread': 4133, 'princess': 3397, 'danes': 1108, 'stellar': 4174, 'tonight': 4519, 'andrew': 228, 'macy': 2695, 'shoes': 3941, 'resembles': 3646, 'divorce': 1301, 'matthew': 2772, 'domestic': 1318, 'cheating': 776, 'ruth': 3763, 'position': 3345, 'blows': 517, 'flynn': 1765, 'letters': 2582, 'reed': 3580, 'segments': 3868, 'abc': 63, 'parties': 3196, 'blah': 496, 'afterwards': 145, 'valley': 4707, 'match': 2762, 'twins': 4616, 'locked': 2637, 'properly': 3437, 'nose': 3037, 'dialogues': 1235, 'poetry': 3314, 'alice': 182, 'hank': 2024, 'dawson': 1128, 'engage': 1479, 'souls': 4080, 'sole': 4055, 'taxi': 4371, 'disappeared': 1271, 'inventive': 2341, 'size': 4012, 'saga': 3773, 'grandfather': 1954, '1st': 28, 'sincere': 3991, 'underground': 4640, 'choreography': 802, 'lengthy': 2570, 'vs': 4767, 'diane': 1238, 'cinderella': 815, 'louise': 2666, 'transformation': 4560, 'lips': 2615, 'bettie': 473, 'photos': 3261, 'depicts': 1186, 'dub': 1378, 'birthday': 487, 'dolph': 1317, 'gothic': 1945, 'lower': 2677, 'lab': 2501, 'invasion': 2340, 'press': 3379, 'hamilton': 2012, 'purposes': 3475, 'blow': 514, 'nicholson': 3011, 'solo': 4058, 'garden': 1872, 'tame': 4363, 'unhappy': 4656, 'artists': 309, 'rebel': 3561, 'offering': 3089, 'orange': 3125, 'introduce': 2336, 'sidekick': 3966, 'kicked': 2461, 'stunt': 4245, 'troops': 4591, 'gain': 1863, 'twilight': 4614, 'zone': 4999, 'appearing': 277, 'extended': 1604, 'mst3k': 2932, 'faster': 1662, 'environment': 1505, 'joined': 2413, 'masterpieces': 2760, 'pokemon': 3320, 'directly': 1263, '1980': 20, 'represented': 3638, 'glass': 1917, 'lena': 2568, 'searching': 3842, 'bonus': 534, 'franco': 1820, 'lit': 2621, 'hilariously': 2107, 'incomprehensible': 2267, 'grand': 1953, 'defined': 1160, 'alfred': 181, 'uninspired': 4657, 'lou': 2663, 'un': 4630, 'stan': 4142, 'laurel': 2537, 'hardy': 2037, 'babe': 375, 'hal': 2006, 'wealthy': 4827, 'merits': 2817, 'blatant': 502, 'poetic': 3313, 'medical': 2790, 'riveting': 3708, 'panic': 3181, 'interaction': 2322, '1999': 27, 'spooky': 4128, 'builds': 617, 'sounded': 4082, 'forgot': 1796, 'surviving': 4323, 'occur': 3076, 'unbelievably': 4635, 'noted': 3045, 'hints': 2113, 'boot': 538, 'depressed': 1187, 'showcase': 3954, 'nail': 2957, 'method': 2824, 'shakespeare': 3915, 'impress': 2250, 'factory': 1623, 'orson': 3132, 'welles': 4844, 'landing': 2512, 'comedian': 887, 'fulci': 1845, 'rangers': 3517, 'anyways': 262, 'clothing': 861, 'riding': 3695, 'coherent': 871, 'ruin': 3750, 'montana': 2895, 'thrillers': 4473, 'pink': 3277, 'hop': 2154, 'wacky': 4769, 'strangers': 4214, 'stinks': 4192, 'clown': 862, 'hamlet': 2013, 'melodramatic': 2798, 'carol': 693, 'spain': 4091, 'maria': 2736, 'menace': 2806, '2001': 31, 'tap': 4364, 'simmons': 3981, 'toilet': 4512, 'nyc': 3065, 'singers': 3994, 'willis': 4890, 'questionable': 3488, 'complain': 919, '75': 57, 'dinosaurs': 1256, 'raised': 3508, 'betty': 474, 'offended': 3085, 'elegant': 1441, 'horrifying': 2167, 'aging': 153, 'monk': 2889, 'gandhi': 1866, 'robinson': 3716, 'garbo': 1871, 'carrie': 697, 'madness': 2698, 'worn': 4948, 'financial': 1725, 'slick': 4026, 'facial': 1619, 'bothered': 549, 'bag': 384, 'killings': 2473, 'stretch': 4221, 'recorded': 3574, 'berlin': 467, 'destruction': 1216, 'resolution': 3649, 'fever': 1699, 'cried': 1054, 'expressions': 1603, 'phantom': 3251, 'possibilities': 3348, 'astaire': 330, 'arms': 294, 'deliberately': 1166, 'screenwriter': 3833, 'robbery': 3711, 'ethan': 1528, 'nervous': 2999, 'loads': 2633, 'snl': 4044, 'ranks': 3519, 'bull': 619, 'everyday': 1541, 'wishing': 4907, 'breasts': 572, 'doom': 1326, 'ted': 4386, 'slaughter': 4021, 'lawrence': 2539, 'legendary': 2565, 'device': 1227, 'sally': 3776, 'scooby': 3820, 'doo': 1325, 'avoided': 364, 'smiling': 4037, 'equivalent': 1512, 'reflection': 3585, 'virus': 4752, 'fields': 1705, 'khan': 2459, 'kapoor': 2443, 'phony': 3256, 'grey': 1973, 'arrival': 299, 'bakshi': 386, 'ambitious': 211, 'ballet': 389, 'challenging': 744, 'showdown': 3955, 'notes': 3046, 'credibility': 1047, 'edgar': 1417, 'fond': 1776, 'spoke': 4125, 'serving': 3897, 'literature': 2623, 'li': 2587, 'cole': 873, '1990': 24, 'pitt': 3280, 'adequate': 120, 'richards': 3687, 'resident': 3647, 'chest': 784, 'investigate': 2342, 'dozens': 1339, 'wound': 4960, 'bat': 410, 'enemies': 1476, 'jaws': 2385, 'secretary': 3850, 'paulie': 3215, 'bridge': 578, 'benefit': 465, 'recognition': 3568, 'feminist': 1695, 'isolated': 2363, 'whale': 4857, 'australia': 356, 'push': 3477, 'calm': 655, 'broke': 593, 'caliber': 649, 'matt': 2768, 'modesty': 2883, 'stargate': 4151, 'felix': 1689, 'thugs': 4484, 'dickens': 1240, 'scrooge': 3837, 'consequences': 947, 'patients': 3212, 'catches': 715, 'beliefs': 452, 'italy': 2368, 'corporate': 998, 'sits': 4006, 'andrews': 229, 'arrive': 300, 'airport': 167, 'kitchen': 2485, 'simpson': 3987, 'da': 1094, 'rat': 3525, 'warner': 4799, 'firstly': 1737, 'elvis': 1451, 'kurt': 2499, 'territory': 4411, 'punch': 3466, 'eaten': 1412, 'colonel': 876, 'kenneth': 2455, 'branagh': 564, 'bullets': 621, 'navy': 2976, 'promised': 3431, 'gundam': 1997, 'reached': 3537, 'facing': 1620, 'sounding': 4083, 'enjoys': 1489, 'iran': 2350, 'pal': 3177, 'related': 3594, 'wing': 4896, 'unintentional': 4658, 'frequent': 1831, '1933': 12, 'powell': 3358, 'ruby': 3749, 'pat': 3208, 'studios': 4241, 'rising': 3703, 'rats': 3531, 'heston': 2094, 'possibility': 3349, 'historically': 2120, 'contemporary': 965, 'tales': 4357, 'desired': 1206, 'rambo': 3511, 'composed': 926, 'poem': 3312, 'sadistic': 3768, 'bands': 392, 'catching': 716, 'robbins': 3712, 'championship': 745, 'ah': 158, 'enjoying': 1487, 'melting': 2799, 'suits': 4287, 'jenny': 2393, 'todd': 4510, 'hbo': 2055, 'homer': 2144, 'satan': 3787, 'pack': 3165, 'streep': 4215, 'stooges': 4200, 'illness': 2230, 'midnight': 2834, 'fury': 1855, 'stiller': 4189, 'load': 2631, 'streisand': 4218, 'suffice': 4279, 'elaborate': 1439, 'prisoners': 3403, 'forms': 1801, 'wendy': 4846, 'chess': 783, 'soccer': 4048, 'deaf': 1134, 'sue': 4274, 'gadget': 1860, 'voight': 4764, 'muslim': 2949, 'grinch': 1975, 'carrey': 696, 'miike': 2837}\n"
     ]
    }
   ],
   "source": [
    "print(str(vocabulary))"
   ]
  },
  {
   "cell_type": "markdown",
   "metadata": {},
   "source": [
    "Once you have added the endpoint name to the Lambda function, click on **Save**. Your Lambda function is now up and running. Next we need to create a way for our web app to execute the Lambda function."
   ]
  },
  {
   "cell_type": "markdown",
   "metadata": {},
   "source": [
    "### Setting up API Gateway\n",
    "\n",
    "Now that our Lambda function is set up, it is time to create a new API using API Gateway that will trigger the Lambda function we have just created.\n",
    "\n",
    "Using AWS Console, navigate to **Amazon API Gateway** and then click on **Get started**.\n",
    "\n",
    "On the next page, make sure that **New API** is selected and give the new api a name, for example, `sentiment_analysis_web_app`. Then, click on **Create API**.\n",
    "\n",
    "Now we have created an API, however it doesn't currently do anything. What we want it to do is to trigger the Lambda function that we created earlier.\n",
    "\n",
    "Select the **Actions** dropdown menu and click **Create Method**. A new blank method will be created, select its dropdown menu and select **POST**, then click on the check mark beside it.\n",
    "\n",
    "For the integration point, make sure that **Lambda Function** is selected and click on the **Use Lambda Proxy integration**. This option makes sure that the data that is sent to the API is then sent directly to the Lambda function with no processing. It also means that the return value must be a proper response object as it will also not be processed by API Gateway.\n",
    "\n",
    "Type the name of the Lambda function you created earlier into the **Lambda Function** text entry box and then click on **Save**. Click on **OK** in the pop-up box that then appears, giving permission to API Gateway to invoke the Lambda function you created.\n",
    "\n",
    "The last step in creating the API Gateway is to select the **Actions** dropdown and click on **Deploy API**. You will need to create a new Deployment stage and name it anything you like, for example `prod`.\n",
    "\n",
    "You have now successfully set up a public API to access your SageMaker model. Make sure to copy or write down the URL provided to invoke your newly created public API as this will be needed in the next step. This URL can be found at the top of the page, highlighted in blue next to the text **Invoke URL**."
   ]
  },
  {
   "cell_type": "markdown",
   "metadata": {},
   "source": [
    "## Step 7: Deploying our web app\n",
    "\n",
    "Now that we have a publicly available API, we can start using it in a web app. For our purposes, we have provided a simple static html file which can make use of the public api you created earlier.\n",
    "\n",
    "In the `website` folder there should be a file called `index.html`. Download the file to your computer and open that file up in a text editor of your choice. There should be a line which contains **\\*\\*REPLACE WITH PUBLIC API URL\\*\\***. Replace this string with the url that you wrote down in the last step and then save the file.\n",
    "\n",
    "Now, if you open `index.html` on your local computer, your browser will behave as a local web server and you can use the provided site to interact with your SageMaker model.\n",
    "\n",
    "If you'd like to go further, you can host this html file anywhere you'd like, for example using github or hosting a static site on Amazon's S3. Once you have done this you can share the link with anyone you'd like and have them play with it too!\n",
    "\n",
    "> **Important Note** In order for the web app to communicate with the SageMaker endpoint, the endpoint has to actually be deployed and running. This means that you are paying for it. Make sure that the endpoint is running when you want to use the web app but that you shut it down when you don't need it, otherwise you will end up with a surprisingly large AWS bill."
   ]
  },
  {
   "cell_type": "markdown",
   "metadata": {},
   "source": [
    "### Delete the endpoint\n",
    "\n",
    "Remember to always shut down your endpoint if you are no longer using it. You are charged for the length of time that the endpoint is running so if you forget and leave it on you could end up with an unexpectedly large bill."
   ]
  },
  {
   "cell_type": "code",
   "execution_count": 51,
   "metadata": {},
   "outputs": [],
   "source": [
    "xgb_predictor.delete_endpoint()"
   ]
  },
  {
   "cell_type": "markdown",
   "metadata": {},
   "source": [
    "## Optional: Clean up\n",
    "\n",
    "The default notebook instance on SageMaker doesn't have a lot of excess disk space available. As you continue to complete and execute notebooks you will eventually fill up this disk space, leading to errors which can be difficult to diagnose. Once you are completely finished using a notebook it is a good idea to remove the files that you created along the way. Of course, you can do this from the terminal or from the notebook hub if you would like. The cell below contains some commands to clean up the created files from within the notebook."
   ]
  },
  {
   "cell_type": "code",
   "execution_count": 53,
   "metadata": {},
   "outputs": [
    {
     "ename": "OSError",
     "evalue": "[Errno 12] Cannot allocate memory",
     "output_type": "error",
     "traceback": [
      "\u001b[0;31m---------------------------------------------------------------------------\u001b[0m",
      "\u001b[0;31mOSError\u001b[0m                                   Traceback (most recent call last)",
      "\u001b[0;32m<ipython-input-53-2c87d8eefdf2>\u001b[0m in \u001b[0;36m<module>\u001b[0;34m()\u001b[0m\n\u001b[1;32m      1\u001b[0m \u001b[0;31m# First we will remove all of the files contained in the data_dir directory\u001b[0m\u001b[0;34m\u001b[0m\u001b[0;34m\u001b[0m\u001b[0m\n\u001b[0;32m----> 2\u001b[0;31m \u001b[0mget_ipython\u001b[0m\u001b[0;34m(\u001b[0m\u001b[0;34m)\u001b[0m\u001b[0;34m.\u001b[0m\u001b[0msystem\u001b[0m\u001b[0;34m(\u001b[0m\u001b[0;34m'rm $data_dir/*'\u001b[0m\u001b[0;34m)\u001b[0m\u001b[0;34m\u001b[0m\u001b[0m\n\u001b[0m\u001b[1;32m      3\u001b[0m \u001b[0;34m\u001b[0m\u001b[0m\n\u001b[1;32m      4\u001b[0m \u001b[0;31m# And then we delete the directory itself\u001b[0m\u001b[0;34m\u001b[0m\u001b[0;34m\u001b[0m\u001b[0m\n\u001b[1;32m      5\u001b[0m \u001b[0mget_ipython\u001b[0m\u001b[0;34m(\u001b[0m\u001b[0;34m)\u001b[0m\u001b[0;34m.\u001b[0m\u001b[0msystem\u001b[0m\u001b[0;34m(\u001b[0m\u001b[0;34m'rmdir $data_dir'\u001b[0m\u001b[0;34m)\u001b[0m\u001b[0;34m\u001b[0m\u001b[0m\n",
      "\u001b[0;32m~/anaconda3/envs/python3/lib/python3.6/site-packages/IPython/core/interactiveshell.py\u001b[0m in \u001b[0;36msystem_piped\u001b[0;34m(self, cmd)\u001b[0m\n\u001b[1;32m   2259\u001b[0m         \u001b[0;31m# a non-None value would trigger :func:`sys.displayhook` calls.\u001b[0m\u001b[0;34m\u001b[0m\u001b[0;34m\u001b[0m\u001b[0m\n\u001b[1;32m   2260\u001b[0m         \u001b[0;31m# Instead, we store the exit_code in user_ns.\u001b[0m\u001b[0;34m\u001b[0m\u001b[0;34m\u001b[0m\u001b[0m\n\u001b[0;32m-> 2261\u001b[0;31m         \u001b[0mself\u001b[0m\u001b[0;34m.\u001b[0m\u001b[0muser_ns\u001b[0m\u001b[0;34m[\u001b[0m\u001b[0;34m'_exit_code'\u001b[0m\u001b[0;34m]\u001b[0m \u001b[0;34m=\u001b[0m \u001b[0msystem\u001b[0m\u001b[0;34m(\u001b[0m\u001b[0mself\u001b[0m\u001b[0;34m.\u001b[0m\u001b[0mvar_expand\u001b[0m\u001b[0;34m(\u001b[0m\u001b[0mcmd\u001b[0m\u001b[0;34m,\u001b[0m \u001b[0mdepth\u001b[0m\u001b[0;34m=\u001b[0m\u001b[0;36m1\u001b[0m\u001b[0;34m)\u001b[0m\u001b[0;34m)\u001b[0m\u001b[0;34m\u001b[0m\u001b[0m\n\u001b[0m\u001b[1;32m   2262\u001b[0m \u001b[0;34m\u001b[0m\u001b[0m\n\u001b[1;32m   2263\u001b[0m     \u001b[0;32mdef\u001b[0m \u001b[0msystem_raw\u001b[0m\u001b[0;34m(\u001b[0m\u001b[0mself\u001b[0m\u001b[0;34m,\u001b[0m \u001b[0mcmd\u001b[0m\u001b[0;34m)\u001b[0m\u001b[0;34m:\u001b[0m\u001b[0;34m\u001b[0m\u001b[0m\n",
      "\u001b[0;32m~/anaconda3/envs/python3/lib/python3.6/site-packages/IPython/utils/_process_posix.py\u001b[0m in \u001b[0;36msystem\u001b[0;34m(self, cmd)\u001b[0m\n\u001b[1;32m    154\u001b[0m                 \u001b[0mchild\u001b[0m \u001b[0;34m=\u001b[0m \u001b[0mpexpect\u001b[0m\u001b[0;34m.\u001b[0m\u001b[0mspawnb\u001b[0m\u001b[0;34m(\u001b[0m\u001b[0mself\u001b[0m\u001b[0;34m.\u001b[0m\u001b[0msh\u001b[0m\u001b[0;34m,\u001b[0m \u001b[0margs\u001b[0m\u001b[0;34m=\u001b[0m\u001b[0;34m[\u001b[0m\u001b[0;34m'-c'\u001b[0m\u001b[0;34m,\u001b[0m \u001b[0mcmd\u001b[0m\u001b[0;34m]\u001b[0m\u001b[0;34m)\u001b[0m \u001b[0;31m# Pexpect-U\u001b[0m\u001b[0;34m\u001b[0m\u001b[0m\n\u001b[1;32m    155\u001b[0m             \u001b[0;32melse\u001b[0m\u001b[0;34m:\u001b[0m\u001b[0;34m\u001b[0m\u001b[0m\n\u001b[0;32m--> 156\u001b[0;31m                 \u001b[0mchild\u001b[0m \u001b[0;34m=\u001b[0m \u001b[0mpexpect\u001b[0m\u001b[0;34m.\u001b[0m\u001b[0mspawn\u001b[0m\u001b[0;34m(\u001b[0m\u001b[0mself\u001b[0m\u001b[0;34m.\u001b[0m\u001b[0msh\u001b[0m\u001b[0;34m,\u001b[0m \u001b[0margs\u001b[0m\u001b[0;34m=\u001b[0m\u001b[0;34m[\u001b[0m\u001b[0;34m'-c'\u001b[0m\u001b[0;34m,\u001b[0m \u001b[0mcmd\u001b[0m\u001b[0;34m]\u001b[0m\u001b[0;34m)\u001b[0m  \u001b[0;31m# Vanilla Pexpect\u001b[0m\u001b[0;34m\u001b[0m\u001b[0m\n\u001b[0m\u001b[1;32m    157\u001b[0m             \u001b[0mflush\u001b[0m \u001b[0;34m=\u001b[0m \u001b[0msys\u001b[0m\u001b[0;34m.\u001b[0m\u001b[0mstdout\u001b[0m\u001b[0;34m.\u001b[0m\u001b[0mflush\u001b[0m\u001b[0;34m\u001b[0m\u001b[0m\n\u001b[1;32m    158\u001b[0m             \u001b[0;32mwhile\u001b[0m \u001b[0;32mTrue\u001b[0m\u001b[0;34m:\u001b[0m\u001b[0;34m\u001b[0m\u001b[0m\n",
      "\u001b[0;32m~/anaconda3/envs/python3/lib/python3.6/site-packages/pexpect/pty_spawn.py\u001b[0m in \u001b[0;36m__init__\u001b[0;34m(self, command, args, timeout, maxread, searchwindowsize, logfile, cwd, env, ignore_sighup, echo, preexec_fn, encoding, codec_errors, dimensions, use_poll)\u001b[0m\n\u001b[1;32m    202\u001b[0m             \u001b[0mself\u001b[0m\u001b[0;34m.\u001b[0m\u001b[0mname\u001b[0m \u001b[0;34m=\u001b[0m \u001b[0;34m'<pexpect factory incomplete>'\u001b[0m\u001b[0;34m\u001b[0m\u001b[0m\n\u001b[1;32m    203\u001b[0m         \u001b[0;32melse\u001b[0m\u001b[0;34m:\u001b[0m\u001b[0;34m\u001b[0m\u001b[0m\n\u001b[0;32m--> 204\u001b[0;31m             \u001b[0mself\u001b[0m\u001b[0;34m.\u001b[0m\u001b[0m_spawn\u001b[0m\u001b[0;34m(\u001b[0m\u001b[0mcommand\u001b[0m\u001b[0;34m,\u001b[0m \u001b[0margs\u001b[0m\u001b[0;34m,\u001b[0m \u001b[0mpreexec_fn\u001b[0m\u001b[0;34m,\u001b[0m \u001b[0mdimensions\u001b[0m\u001b[0;34m)\u001b[0m\u001b[0;34m\u001b[0m\u001b[0m\n\u001b[0m\u001b[1;32m    205\u001b[0m         \u001b[0mself\u001b[0m\u001b[0;34m.\u001b[0m\u001b[0muse_poll\u001b[0m \u001b[0;34m=\u001b[0m \u001b[0muse_poll\u001b[0m\u001b[0;34m\u001b[0m\u001b[0m\n\u001b[1;32m    206\u001b[0m \u001b[0;34m\u001b[0m\u001b[0m\n",
      "\u001b[0;32m~/anaconda3/envs/python3/lib/python3.6/site-packages/pexpect/pty_spawn.py\u001b[0m in \u001b[0;36m_spawn\u001b[0;34m(self, command, args, preexec_fn, dimensions)\u001b[0m\n\u001b[1;32m    301\u001b[0m \u001b[0;34m\u001b[0m\u001b[0m\n\u001b[1;32m    302\u001b[0m         self.ptyproc = self._spawnpty(self.args, env=self.env,\n\u001b[0;32m--> 303\u001b[0;31m                                      cwd=self.cwd, **kwargs)\n\u001b[0m\u001b[1;32m    304\u001b[0m \u001b[0;34m\u001b[0m\u001b[0m\n\u001b[1;32m    305\u001b[0m         \u001b[0mself\u001b[0m\u001b[0;34m.\u001b[0m\u001b[0mpid\u001b[0m \u001b[0;34m=\u001b[0m \u001b[0mself\u001b[0m\u001b[0;34m.\u001b[0m\u001b[0mptyproc\u001b[0m\u001b[0;34m.\u001b[0m\u001b[0mpid\u001b[0m\u001b[0;34m\u001b[0m\u001b[0m\n",
      "\u001b[0;32m~/anaconda3/envs/python3/lib/python3.6/site-packages/pexpect/pty_spawn.py\u001b[0m in \u001b[0;36m_spawnpty\u001b[0;34m(self, args, **kwargs)\u001b[0m\n\u001b[1;32m    312\u001b[0m     \u001b[0;32mdef\u001b[0m \u001b[0m_spawnpty\u001b[0m\u001b[0;34m(\u001b[0m\u001b[0mself\u001b[0m\u001b[0;34m,\u001b[0m \u001b[0margs\u001b[0m\u001b[0;34m,\u001b[0m \u001b[0;34m**\u001b[0m\u001b[0mkwargs\u001b[0m\u001b[0;34m)\u001b[0m\u001b[0;34m:\u001b[0m\u001b[0;34m\u001b[0m\u001b[0m\n\u001b[1;32m    313\u001b[0m         \u001b[0;34m'''Spawn a pty and return an instance of PtyProcess.'''\u001b[0m\u001b[0;34m\u001b[0m\u001b[0m\n\u001b[0;32m--> 314\u001b[0;31m         \u001b[0;32mreturn\u001b[0m \u001b[0mptyprocess\u001b[0m\u001b[0;34m.\u001b[0m\u001b[0mPtyProcess\u001b[0m\u001b[0;34m.\u001b[0m\u001b[0mspawn\u001b[0m\u001b[0;34m(\u001b[0m\u001b[0margs\u001b[0m\u001b[0;34m,\u001b[0m \u001b[0;34m**\u001b[0m\u001b[0mkwargs\u001b[0m\u001b[0;34m)\u001b[0m\u001b[0;34m\u001b[0m\u001b[0m\n\u001b[0m\u001b[1;32m    315\u001b[0m \u001b[0;34m\u001b[0m\u001b[0m\n\u001b[1;32m    316\u001b[0m     \u001b[0;32mdef\u001b[0m \u001b[0mclose\u001b[0m\u001b[0;34m(\u001b[0m\u001b[0mself\u001b[0m\u001b[0;34m,\u001b[0m \u001b[0mforce\u001b[0m\u001b[0;34m=\u001b[0m\u001b[0;32mTrue\u001b[0m\u001b[0;34m)\u001b[0m\u001b[0;34m:\u001b[0m\u001b[0;34m\u001b[0m\u001b[0m\n",
      "\u001b[0;32m~/anaconda3/envs/python3/lib/python3.6/site-packages/ptyprocess/ptyprocess.py\u001b[0m in \u001b[0;36mspawn\u001b[0;34m(cls, argv, cwd, env, echo, preexec_fn, dimensions)\u001b[0m\n\u001b[1;32m    220\u001b[0m \u001b[0;34m\u001b[0m\u001b[0m\n\u001b[1;32m    221\u001b[0m         \u001b[0;32mif\u001b[0m \u001b[0muse_native_pty_fork\u001b[0m\u001b[0;34m:\u001b[0m\u001b[0;34m\u001b[0m\u001b[0m\n\u001b[0;32m--> 222\u001b[0;31m             \u001b[0mpid\u001b[0m\u001b[0;34m,\u001b[0m \u001b[0mfd\u001b[0m \u001b[0;34m=\u001b[0m \u001b[0mpty\u001b[0m\u001b[0;34m.\u001b[0m\u001b[0mfork\u001b[0m\u001b[0;34m(\u001b[0m\u001b[0;34m)\u001b[0m\u001b[0;34m\u001b[0m\u001b[0m\n\u001b[0m\u001b[1;32m    223\u001b[0m         \u001b[0;32melse\u001b[0m\u001b[0;34m:\u001b[0m\u001b[0;34m\u001b[0m\u001b[0m\n\u001b[1;32m    224\u001b[0m             \u001b[0;31m# Use internal fork_pty, for Solaris\u001b[0m\u001b[0;34m\u001b[0m\u001b[0;34m\u001b[0m\u001b[0m\n",
      "\u001b[0;32m~/anaconda3/envs/python3/lib/python3.6/pty.py\u001b[0m in \u001b[0;36mfork\u001b[0;34m()\u001b[0m\n\u001b[1;32m     95\u001b[0m \u001b[0;34m\u001b[0m\u001b[0m\n\u001b[1;32m     96\u001b[0m     \u001b[0mmaster_fd\u001b[0m\u001b[0;34m,\u001b[0m \u001b[0mslave_fd\u001b[0m \u001b[0;34m=\u001b[0m \u001b[0mopenpty\u001b[0m\u001b[0;34m(\u001b[0m\u001b[0;34m)\u001b[0m\u001b[0;34m\u001b[0m\u001b[0m\n\u001b[0;32m---> 97\u001b[0;31m     \u001b[0mpid\u001b[0m \u001b[0;34m=\u001b[0m \u001b[0mos\u001b[0m\u001b[0;34m.\u001b[0m\u001b[0mfork\u001b[0m\u001b[0;34m(\u001b[0m\u001b[0;34m)\u001b[0m\u001b[0;34m\u001b[0m\u001b[0m\n\u001b[0m\u001b[1;32m     98\u001b[0m     \u001b[0;32mif\u001b[0m \u001b[0mpid\u001b[0m \u001b[0;34m==\u001b[0m \u001b[0mCHILD\u001b[0m\u001b[0;34m:\u001b[0m\u001b[0;34m\u001b[0m\u001b[0m\n\u001b[1;32m     99\u001b[0m         \u001b[0;31m# Establish a new session.\u001b[0m\u001b[0;34m\u001b[0m\u001b[0;34m\u001b[0m\u001b[0m\n",
      "\u001b[0;31mOSError\u001b[0m: [Errno 12] Cannot allocate memory"
     ]
    }
   ],
   "source": [
    "# First we will remove all of the files contained in the data_dir directory\n",
    "!rm $data_dir/*\n",
    "\n",
    "# And then we delete the directory itself\n",
    "!rmdir $data_dir\n",
    "\n",
    "# Similarly we remove the files in the cache_dir directory and the directory itself\n",
    "!rm $cache_dir/*\n",
    "!rmdir $cache_dir"
   ]
  },
  {
   "cell_type": "code",
   "execution_count": null,
   "metadata": {},
   "outputs": [],
   "source": []
  }
 ],
 "metadata": {
  "kernelspec": {
   "display_name": "conda_python3",
   "language": "python",
   "name": "conda_python3"
  },
  "language_info": {
   "codemirror_mode": {
    "name": "ipython",
    "version": 3
   },
   "file_extension": ".py",
   "mimetype": "text/x-python",
   "name": "python",
   "nbconvert_exporter": "python",
   "pygments_lexer": "ipython3",
   "version": "3.6.5"
  }
 },
 "nbformat": 4,
 "nbformat_minor": 2
}
